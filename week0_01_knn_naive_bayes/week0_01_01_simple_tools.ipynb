{
 "cells": [
  {
   "cell_type": "markdown",
   "metadata": {},
   "source": [
    "# <a href=\"https://girafe.ai/\" target=\"_blank\" rel=\"noopener noreferrer\"><img src=\"https://raw.githubusercontent.com/girafe-ai/ml-mipt/7096a5df4cada5ee651be1e3215c2f7fb8a7e0bf/logo_margin.svg\" alt=\"girafe-ai logo\" width=\"150px\" align=\"left\"></a> [ml-mipt](https://github.com/girafe-ai/ml-mipt) basic course <a class=\"tocSkip\">"
   ]
  },
  {
   "cell_type": "markdown",
   "metadata": {},
   "source": [
    "# Seminar 01: Intro to Jupyter and Python tools <a class=\"tocSkip\">"
   ]
  },
  {
   "cell_type": "markdown",
   "metadata": {},
   "source": [
    "# Intro to Jupyter\n",
    "\n",
    "Jupyter (pronouced as **/ˈdʒuː.pɪ.tər/**) is a play of names Julia, Python, and R and is actually a standard in area of educational programming activities.<br>\n",
    "Jupyter allows to mix notes, explanations and even images with code.\n",
    "\n",
    "This notebook provides shallow intro to Jupyter.<br>\n",
    "In case you need a comprehensive thorough manual for Jupyter checkout [Jupyter Notebook Users Manual](https://jupyter.brynmawr.edu/services/public/dblank/Jupyter%20Notebook%20Users%20Manual.ipynb) by Bryn Mawr College.\n",
    "\n",
    "## Setup\n",
    "\n",
    "To use Jupyter server locally run:\n",
    "```bash\n",
    "pip install notebook\n",
    "jupyter notebook\n",
    "```\n",
    "\n",
    "Another option is to use cloud based server, to name a few:\n",
    "* [Google Colab](https://colab.research.google.com/)\n",
    "* [Binder](https://mybinder.org/)\n",
    "* [Amazon Sagemaker](https://studiolab.sagemaker.aws/)\n",
    "\n",
    "### Advanced setup\n",
    "\n",
    "#### [Jupyter Nbextensions Configurator](https://github.com/Jupyter-contrib/jupyter_nbextensions_configurator)\n",
    "\n",
    "provides various extensions for local notebook server. Consider to activate the following:\n",
    "\n",
    "* Table of Contents (2)\n",
    "* Collapsible Headings\n",
    "* ExecuteTime\n",
    "* Ruler\n",
    "* ScrollDown\n",
    "* Autopep8\n",
    "\n",
    "#### Jupyter Notebook Viewer\n",
    "\n",
    "For MacOS users there is a [beautiful app](https://github.com/tuxu/nbviewer-app) to preview Jupyter Notebooks (means no editting supported) which could be installed via:\n",
    "\n",
    "`brew install --cask jupyter-notebook-viewer`\n",
    "\n",
    "This is very handy to deal with many notebooks locally (rendering is faster than in Jupyter Notebook server)"
   ]
  },
  {
   "cell_type": "markdown",
   "metadata": {},
   "source": [
    "## Cell types\n",
    "\n",
    "Notebook contains many cells that allow different types of materials:    \n",
    "\n",
    "1. code (press `Y` to change cell type to code)\n",
    "2. Markdown (press `M`)\n",
    "3. raw symbols (press `R`)"
   ]
  },
  {
   "cell_type": "code",
   "execution_count": null,
   "metadata": {
    "ExecuteTime": {
     "end_time": "2022-02-12T16:48:01.460163Z",
     "start_time": "2022-02-12T16:48:01.453346Z"
    }
   },
   "outputs": [],
   "source": [
    "# Сell with code\n",
    "a = 1"
   ]
  },
  {
   "cell_type": "markdown",
   "metadata": {},
   "source": [
    "Cell with Markdown text"
   ]
  },
  {
   "cell_type": "raw",
   "metadata": {},
   "source": [
    "Cell with plain text (raw)"
   ]
  },
  {
   "cell_type": "markdown",
   "metadata": {},
   "source": [
    "`Shift` + `Enter` allows to run cell (for Markdown it will render)."
   ]
  },
  {
   "cell_type": "code",
   "execution_count": null,
   "metadata": {
    "ExecuteTime": {
     "end_time": "2022-02-12T16:48:05.888633Z",
     "start_time": "2022-02-12T16:48:05.886339Z"
    }
   },
   "outputs": [],
   "source": [
    "a = 1"
   ]
  },
  {
   "cell_type": "code",
   "execution_count": null,
   "metadata": {
    "ExecuteTime": {
     "end_time": "2022-02-12T16:48:06.519884Z",
     "start_time": "2022-02-12T16:48:06.517395Z"
    }
   },
   "outputs": [],
   "source": [
    "print(a)"
   ]
  },
  {
   "cell_type": "markdown",
   "metadata": {},
   "source": [
    "TODO:\n",
    "\n",
    "* add modes description (editting [green] and navigating[blue])\n",
    "* shortcuts to create[`A`, `B`], cut (delete)[`X`], undo delete[`Z`] and move cells\n",
    "* shortcuts to restart[`00`, double 0] and interrupt[`II`] kernel"
   ]
  },
  {
   "cell_type": "markdown",
   "metadata": {},
   "source": [
    "# Markdown\n",
    "\n",
    "![Markdown logo](https://upload.wikimedia.org/wikipedia/commons/thumb/4/48/Markdown-mark.svg/208px-Markdown-mark.svg.png)\n",
    "\n",
    "Markdown is a subset of HTML markup language. It simplifyes it to the most used operations such as headers, lists, links and so on.\n",
    "\n",
    "Markdown, widely used in Jupyter, GitHub and myriads of other places (take a look on [Obsidian project](https://obsidian.md/) to create and manage your own knowledge base)\n",
    "\n",
    "Great neat cheat sheets (quick self-explaining reference) for Markdown:\n",
    "1. Best to start: [Markdown-Cheatsheet](https://github.com/adam-p/markdown-here/wiki/Markdown-Cheatsheet) by Adam Pritchard\n",
    "1. Explains advanced features: [Markdown Cheat Sheet](https://www.markdownguide.org/cheat-sheet) by markdownguide"
   ]
  },
  {
   "cell_type": "markdown",
   "metadata": {},
   "source": [
    "Shortly, it allows:\n",
    "\n",
    "0. Build lists\n",
    "1. \n",
    "## Make <a class=\"tocSkip\">\n",
    "### titles <a class=\"tocSkip\">\n",
    "#### of different <a class=\"tocSkip\">\n",
    "##### sizes <a class=\"tocSkip\">\n",
    "3. Quote *text* <s>in</s> **different** ways\n",
    "4. Add [hyperlinks](https://github.com/girafe-ai/ml-mipt)\n",
    "\n",
    "* Build unordered lists\n",
    "\n",
    "Use $\\LaTeX$:\n",
    "\n",
    "$\n",
    "\\left\\{\n",
    "\\begin{array}{ll}\n",
    "x = 16 \\sin^3 (t) \\\\ \n",
    "y = 13 \\cos (t) - 5 \\cos (2t) - 2 \\cos (3t) - \\cos (4t) \\<br>\n",
    "t \\in [0, 2 \\pi]\n",
    "\\end{array}\n",
    "\\right.\n",
    "$\n",
    "\n",
    "And insert images (url would work if internet connection is available):\n",
    "![](https://images.immediate.co.uk/production/volatile/sites/4/2018/08/iStock_13967830_XLARGE-90f249d.jpg?webp=true&quality=90&resize=400%2C200)"
   ]
  },
  {
   "cell_type": "markdown",
   "metadata": {},
   "source": [
    "# Python\n",
    "\n",
    "Is our primal language. If you didn't have much practce or want to refresh key concepts, welcome to [snakify](https://snakify.org/) or [питонтьютор](https://pythontutor.ru/) (the same materials in Russian)\n",
    "\n",
    "You always live in a community, so please respect it's standards and guides.\n",
    "\n",
    "## PEP 8\n",
    "In our case __[PEP 8](https://www.python.org/dev/peps/pep-0008/)__ is a standard. (Dare to open it - __it's made for humans!__)\n",
    "\n",
    "[Google Python Style Guide](https://google.github.io/styleguide/pyguide.html) contains reasonable extensions and motivations.\n",
    "\n",
    "### Also don't forget about _this_\n",
    "[Zen of Python, PEP 20](https://www.python.org/dev/peps/pep-0020/)"
   ]
  },
  {
   "cell_type": "code",
   "execution_count": 1,
   "metadata": {
    "ExecuteTime": {
     "end_time": "2022-02-13T15:52:59.149890Z",
     "start_time": "2022-02-13T15:52:59.140544Z"
    }
   },
   "outputs": [
    {
     "name": "stdout",
     "output_type": "stream",
     "text": [
      "The Zen of Python, by Tim Peters\n",
      "\n",
      "Beautiful is better than ugly.\n",
      "Explicit is better than implicit.\n",
      "Simple is better than complex.\n",
      "Complex is better than complicated.\n",
      "Flat is better than nested.\n",
      "Sparse is better than dense.\n",
      "Readability counts.\n",
      "Special cases aren't special enough to break the rules.\n",
      "Although practicality beats purity.\n",
      "Errors should never pass silently.\n",
      "Unless explicitly silenced.\n",
      "In the face of ambiguity, refuse the temptation to guess.\n",
      "There should be one-- and preferably only one --obvious way to do it.\n",
      "Although that way may not be obvious at first unless you're Dutch.\n",
      "Now is better than never.\n",
      "Although never is often better than *right* now.\n",
      "If the implementation is hard to explain, it's a bad idea.\n",
      "If the implementation is easy to explain, it may be a good idea.\n",
      "Namespaces are one honking great idea -- let's do more of those!\n"
     ]
    }
   ],
   "source": [
    "import this  # noqa: F401"
   ]
  },
  {
   "cell_type": "markdown",
   "metadata": {},
   "source": [
    "# NumPy\n",
    "\n",
    "**NumPy** — great Python library for matrix computations. It allows to work [easily] with matrices, arrays, math etc. In addition, it allows (and encourage) vector operations, which are **much** quicker.\n",
    "\n",
    " - [numpy](http://www.numpy.org)\n",
    " - [numpy tutorial](http://cs231n.github.io/python-numpy-tutorial/)\n",
    " - [100 numpy exercises](http://www.labri.fr/perso/nrougier/teaching/numpy.100/)"
   ]
  },
  {
   "cell_type": "code",
   "execution_count": null,
   "metadata": {
    "ExecuteTime": {
     "end_time": "2022-02-12T16:48:32.845591Z",
     "start_time": "2022-02-12T16:48:32.639184Z"
    }
   },
   "outputs": [],
   "source": [
    "import numpy as np"
   ]
  },
  {
   "cell_type": "markdown",
   "metadata": {},
   "source": [
    "Main dtype in numpy — [numpy.ndarray](http://docs.scipy.org/doc/numpy-1.10.0/reference/generated/numpy.array.html). \n",
    "Every `ndarray` has several dimentions or axis. "
   ]
  },
  {
   "cell_type": "code",
   "execution_count": null,
   "metadata": {
    "ExecuteTime": {
     "end_time": "2022-02-12T16:48:34.965685Z",
     "start_time": "2022-02-12T16:48:34.957173Z"
    }
   },
   "outputs": [],
   "source": [
    "vec = np.array([1, 2, 3])\n",
    "vec.ndim  # number of axis"
   ]
  },
  {
   "cell_type": "markdown",
   "metadata": {},
   "source": [
    "`Shift` + `Tab` when the cursor is inside the open parentheses allows to peek into the docks. Try to press `Tab` several times."
   ]
  },
  {
   "cell_type": "code",
   "execution_count": null,
   "metadata": {
    "ExecuteTime": {
     "end_time": "2022-02-12T16:48:36.304042Z",
     "start_time": "2022-02-12T16:48:36.300854Z"
    }
   },
   "outputs": [],
   "source": [
    "mat = np.array([[1, 2, 3], [4, 5, 6]])\n",
    "mat.ndim"
   ]
  },
  {
   "cell_type": "markdown",
   "metadata": {},
   "source": [
    "To get shape we could use `.shape` method:"
   ]
  },
  {
   "cell_type": "code",
   "execution_count": null,
   "metadata": {
    "ExecuteTime": {
     "end_time": "2022-02-12T16:48:37.297225Z",
     "start_time": "2022-02-12T16:48:37.293154Z"
    }
   },
   "outputs": [],
   "source": [
    "vec.shape"
   ]
  },
  {
   "cell_type": "markdown",
   "metadata": {},
   "source": [
    "To get `dtype` and `itemsize`:"
   ]
  },
  {
   "cell_type": "code",
   "execution_count": null,
   "metadata": {
    "ExecuteTime": {
     "end_time": "2022-02-12T16:48:38.803140Z",
     "start_time": "2022-02-12T16:48:38.799900Z"
    }
   },
   "outputs": [],
   "source": [
    "mat.dtype"
   ]
  },
  {
   "cell_type": "code",
   "execution_count": null,
   "metadata": {
    "ExecuteTime": {
     "end_time": "2022-02-12T16:48:39.271893Z",
     "start_time": "2022-02-12T16:48:39.269244Z"
    }
   },
   "outputs": [],
   "source": [
    "mat.itemsize"
   ]
  },
  {
   "cell_type": "markdown",
   "metadata": {},
   "source": [
    "## Constructing numpy array\n",
    "\n",
    "* Wrap list (or other iterable) with `np.array()` constructor"
   ]
  },
  {
   "cell_type": "code",
   "execution_count": null,
   "metadata": {
    "ExecuteTime": {
     "end_time": "2021-03-20T06:49:43.548793Z",
     "start_time": "2021-03-20T06:49:43.546241Z"
    }
   },
   "outputs": [],
   "source": [
    "A = np.array([1, 2, 3])\n",
    "A"
   ]
  },
  {
   "cell_type": "code",
   "execution_count": null,
   "metadata": {
    "ExecuteTime": {
     "end_time": "2021-03-20T06:49:43.552981Z",
     "start_time": "2021-03-20T06:49:43.550113Z"
    }
   },
   "outputs": [],
   "source": [
    "A = np.array([1, 2, 3], dtype=np.float64)\n",
    "A"
   ]
  },
  {
   "cell_type": "code",
   "execution_count": null,
   "metadata": {
    "ExecuteTime": {
     "end_time": "2021-03-20T06:49:43.557226Z",
     "start_time": "2021-03-20T06:49:43.554406Z"
    }
   },
   "outputs": [],
   "source": [
    "B = np.array([(1, 2, 3), (4, 5, 6)])\n",
    "B"
   ]
  },
  {
   "cell_type": "markdown",
   "metadata": {},
   "source": [
    "* Some widely used arrays are available by special methods: `zeros`, `ones`, `empty`, `identity`:"
   ]
  },
  {
   "cell_type": "code",
   "execution_count": null,
   "metadata": {
    "ExecuteTime": {
     "end_time": "2021-03-20T06:49:43.560877Z",
     "start_time": "2021-03-20T06:49:43.558450Z"
    }
   },
   "outputs": [],
   "source": [
    "np.zeros((3,))"
   ]
  },
  {
   "cell_type": "code",
   "execution_count": null,
   "metadata": {
    "ExecuteTime": {
     "end_time": "2021-03-20T06:49:43.564980Z",
     "start_time": "2021-03-20T06:49:43.562254Z"
    }
   },
   "outputs": [],
   "source": [
    "np.ones((3, 4))"
   ]
  },
  {
   "cell_type": "code",
   "execution_count": null,
   "metadata": {
    "ExecuteTime": {
     "end_time": "2021-03-20T06:49:43.569248Z",
     "start_time": "2021-03-20T06:49:43.566301Z"
    }
   },
   "outputs": [],
   "source": [
    "np.identity(3)"
   ]
  },
  {
   "cell_type": "code",
   "execution_count": null,
   "metadata": {
    "ExecuteTime": {
     "end_time": "2021-03-20T06:49:43.573180Z",
     "start_time": "2021-03-20T06:49:43.570582Z"
    }
   },
   "outputs": [],
   "source": [
    "np.empty((2, 5))"
   ]
  },
  {
   "cell_type": "markdown",
   "metadata": {},
   "source": [
    "Be careful with `empty` function: it just creates the array (like `malloc` operation in C). The elements of the arret are **not initialized** yet."
   ]
  },
  {
   "cell_type": "markdown",
   "metadata": {},
   "source": [
    "* `np.arange` allows to create range"
   ]
  },
  {
   "cell_type": "code",
   "execution_count": null,
   "metadata": {
    "ExecuteTime": {
     "end_time": "2021-03-20T06:49:43.577146Z",
     "start_time": "2021-03-20T06:49:43.574515Z"
    }
   },
   "outputs": [],
   "source": [
    "np.arange(2, 20, 3)  # Like almost everywhere, left border is included, right - excluded"
   ]
  },
  {
   "cell_type": "code",
   "execution_count": null,
   "metadata": {
    "ExecuteTime": {
     "end_time": "2021-03-20T06:49:43.581354Z",
     "start_time": "2021-03-20T06:49:43.578572Z"
    }
   },
   "outputs": [],
   "source": [
    "np.arange(2.5, 8.7, 0.9)  # Can deal with real numbers either"
   ]
  },
  {
   "cell_type": "code",
   "execution_count": null,
   "metadata": {
    "ExecuteTime": {
     "end_time": "2021-03-20T06:49:43.585567Z",
     "start_time": "2021-03-20T06:49:43.582675Z"
    }
   },
   "outputs": [],
   "source": [
    "np.linspace(2, 18, 14)  # Warning! Right border is INCLUDED by default"
   ]
  },
  {
   "cell_type": "markdown",
   "metadata": {},
   "source": [
    "* What do you think `reshape` method does?"
   ]
  },
  {
   "cell_type": "code",
   "execution_count": null,
   "metadata": {
    "ExecuteTime": {
     "end_time": "2021-03-20T06:49:43.590152Z",
     "start_time": "2021-03-20T06:49:43.587279Z"
    }
   },
   "outputs": [],
   "source": [
    "np.arange(9).reshape(3, 3)"
   ]
  },
  {
   "cell_type": "markdown",
   "metadata": {},
   "source": [
    "If one of the dimentions is set to `-1` if will be computed automatically"
   ]
  },
  {
   "cell_type": "code",
   "execution_count": null,
   "metadata": {
    "ExecuteTime": {
     "end_time": "2021-03-20T06:49:43.597931Z",
     "start_time": "2021-03-20T06:49:43.595255Z"
    },
    "scrolled": false
   },
   "outputs": [],
   "source": [
    "np.arange(8).reshape(2, -1)"
   ]
  },
  {
   "cell_type": "code",
   "execution_count": null,
   "metadata": {
    "ExecuteTime": {
     "end_time": "2021-03-20T06:49:43.604022Z",
     "start_time": "2021-03-20T06:49:43.601496Z"
    }
   },
   "outputs": [],
   "source": [
    "C = np.arange(6).reshape(2, -1)\n",
    "C"
   ]
  },
  {
   "cell_type": "markdown",
   "metadata": {},
   "source": [
    "Transposition is easy easy"
   ]
  },
  {
   "cell_type": "code",
   "execution_count": null,
   "metadata": {
    "ExecuteTime": {
     "end_time": "2021-03-20T06:49:43.607798Z",
     "start_time": "2021-03-20T06:49:43.605322Z"
    }
   },
   "outputs": [],
   "source": [
    "C.T"
   ]
  },
  {
   "cell_type": "markdown",
   "metadata": {},
   "source": [
    "* Stacking (only arrays for now)"
   ]
  },
  {
   "cell_type": "code",
   "execution_count": null,
   "metadata": {
    "ExecuteTime": {
     "end_time": "2021-03-20T06:49:43.611968Z",
     "start_time": "2021-03-20T06:49:43.609127Z"
    }
   },
   "outputs": [],
   "source": [
    "A = np.arange(6).reshape(2, -1)\n",
    "np.hstack((A, A**2))"
   ]
  },
  {
   "cell_type": "code",
   "execution_count": null,
   "metadata": {
    "ExecuteTime": {
     "end_time": "2021-03-20T06:49:43.615994Z",
     "start_time": "2021-03-20T06:49:43.613299Z"
    }
   },
   "outputs": [],
   "source": [
    "np.vstack((A, A**2))"
   ]
  },
  {
   "cell_type": "code",
   "execution_count": null,
   "metadata": {
    "ExecuteTime": {
     "end_time": "2021-03-20T06:49:43.620073Z",
     "start_time": "2021-03-20T06:49:43.617236Z"
    }
   },
   "outputs": [],
   "source": [
    "np.concatenate((A, A**2), axis=1)"
   ]
  },
  {
   "cell_type": "markdown",
   "metadata": {},
   "source": [
    "* Repeating an existing array"
   ]
  },
  {
   "cell_type": "code",
   "execution_count": null,
   "metadata": {
    "ExecuteTime": {
     "end_time": "2021-03-20T06:49:43.624373Z",
     "start_time": "2021-03-20T06:49:43.621432Z"
    }
   },
   "outputs": [],
   "source": [
    "a = np.arange(3)\n",
    "np.tile(a, (2, 2))"
   ]
  },
  {
   "cell_type": "code",
   "execution_count": null,
   "metadata": {
    "ExecuteTime": {
     "end_time": "2021-03-20T06:49:43.628162Z",
     "start_time": "2021-03-20T06:49:43.625673Z"
    }
   },
   "outputs": [],
   "source": [
    "np.tile(a, (4, 1))"
   ]
  },
  {
   "cell_type": "markdown",
   "metadata": {},
   "source": [
    "## Basic operations\n",
    "\n",
    "* Basic arithmetic operations are element-wise"
   ]
  },
  {
   "cell_type": "code",
   "execution_count": null,
   "metadata": {
    "ExecuteTime": {
     "end_time": "2021-03-20T06:49:43.631225Z",
     "start_time": "2021-03-20T06:49:43.629277Z"
    }
   },
   "outputs": [],
   "source": [
    "A = np.arange(9).reshape(3, 3)\n",
    "B = np.arange(1, 10).reshape(3, 3)"
   ]
  },
  {
   "cell_type": "code",
   "execution_count": null,
   "metadata": {
    "ExecuteTime": {
     "end_time": "2021-03-20T06:49:43.634462Z",
     "start_time": "2021-03-20T06:49:43.632355Z"
    }
   },
   "outputs": [],
   "source": [
    "print(A)\n",
    "print(B)"
   ]
  },
  {
   "cell_type": "code",
   "execution_count": null,
   "metadata": {
    "ExecuteTime": {
     "end_time": "2021-03-20T06:49:43.638078Z",
     "start_time": "2021-03-20T06:49:43.635612Z"
    }
   },
   "outputs": [],
   "source": [
    "A + B"
   ]
  },
  {
   "cell_type": "code",
   "execution_count": null,
   "metadata": {
    "ExecuteTime": {
     "end_time": "2021-03-20T06:49:43.641705Z",
     "start_time": "2021-03-20T06:49:43.639285Z"
    }
   },
   "outputs": [],
   "source": [
    "A * 1.0 / B"
   ]
  },
  {
   "cell_type": "code",
   "execution_count": null,
   "metadata": {
    "ExecuteTime": {
     "end_time": "2021-03-20T06:49:43.645247Z",
     "start_time": "2021-03-20T06:49:43.642876Z"
    }
   },
   "outputs": [],
   "source": [
    "A + 1"
   ]
  },
  {
   "cell_type": "code",
   "execution_count": null,
   "metadata": {
    "ExecuteTime": {
     "end_time": "2021-03-20T06:49:43.648795Z",
     "start_time": "2021-03-20T06:49:43.646441Z"
    }
   },
   "outputs": [],
   "source": [
    "3 * A"
   ]
  },
  {
   "cell_type": "code",
   "execution_count": null,
   "metadata": {
    "ExecuteTime": {
     "end_time": "2021-03-20T06:49:43.652741Z",
     "start_time": "2021-03-20T06:49:43.650010Z"
    }
   },
   "outputs": [],
   "source": [
    "A**2"
   ]
  },
  {
   "cell_type": "markdown",
   "metadata": {},
   "source": [
    "Matrix multiplication via `*` is **elementwise** too!"
   ]
  },
  {
   "cell_type": "code",
   "execution_count": null,
   "metadata": {
    "ExecuteTime": {
     "end_time": "2021-03-20T06:49:43.656945Z",
     "start_time": "2021-03-20T06:49:43.654187Z"
    }
   },
   "outputs": [],
   "source": [
    "A * B"
   ]
  },
  {
   "cell_type": "markdown",
   "metadata": {},
   "source": [
    "Dot product is available via `.dot`:"
   ]
  },
  {
   "cell_type": "code",
   "execution_count": null,
   "metadata": {
    "ExecuteTime": {
     "end_time": "2021-03-20T06:49:43.660511Z",
     "start_time": "2021-03-20T06:49:43.658125Z"
    }
   },
   "outputs": [],
   "source": [
    "A.dot(B)"
   ]
  },
  {
   "cell_type": "markdown",
   "metadata": {},
   "source": [
    "Or simply:"
   ]
  },
  {
   "cell_type": "code",
   "execution_count": null,
   "metadata": {
    "ExecuteTime": {
     "end_time": "2021-03-20T06:49:43.664448Z",
     "start_time": "2021-03-20T06:49:43.661848Z"
    }
   },
   "outputs": [],
   "source": [
    "A @ B"
   ]
  },
  {
   "cell_type": "markdown",
   "metadata": {},
   "source": [
    "Matrices in binary operations are supposed to have same shape.<br>\n",
    "However, if the shape can be [broadcasted](http://www.scipy-lectures.org/intro/numpy/operations.html#broadcasting) - you won't get an error.<br>\n",
    "But **be careful** with this stuff.\n",
    "![](images/numpy_broadcasting.png)"
   ]
  },
  {
   "cell_type": "code",
   "execution_count": null,
   "metadata": {
    "ExecuteTime": {
     "end_time": "2021-03-20T06:49:43.669490Z",
     "start_time": "2021-03-20T06:49:43.665923Z"
    }
   },
   "outputs": [],
   "source": [
    "np.tile(np.arange(0, 40, 10), (3, 1)).T + np.array([0, 1, 2])"
   ]
  },
  {
   "cell_type": "markdown",
   "metadata": {},
   "source": [
    "* Unary functions (sin, cos, exp etc.) are elementwise as well:"
   ]
  },
  {
   "cell_type": "code",
   "execution_count": null,
   "metadata": {
    "ExecuteTime": {
     "end_time": "2021-03-20T06:49:43.673459Z",
     "start_time": "2021-03-20T06:49:43.670741Z"
    }
   },
   "outputs": [],
   "source": [
    "np.exp(A)"
   ]
  },
  {
   "cell_type": "markdown",
   "metadata": {},
   "source": [
    "* Some operations are aggregating the array values: min, max, sum etc.:"
   ]
  },
  {
   "cell_type": "code",
   "execution_count": null,
   "metadata": {
    "ExecuteTime": {
     "end_time": "2021-03-20T06:49:43.677312Z",
     "start_time": "2021-03-20T06:49:43.674873Z"
    }
   },
   "outputs": [],
   "source": [
    "A"
   ]
  },
  {
   "cell_type": "code",
   "execution_count": null,
   "metadata": {
    "ExecuteTime": {
     "end_time": "2021-03-20T06:49:43.681107Z",
     "start_time": "2021-03-20T06:49:43.678550Z"
    }
   },
   "outputs": [],
   "source": [
    "A.min()"
   ]
  },
  {
   "cell_type": "code",
   "execution_count": null,
   "metadata": {
    "ExecuteTime": {
     "end_time": "2021-03-20T06:49:43.684978Z",
     "start_time": "2021-03-20T06:49:43.682441Z"
    }
   },
   "outputs": [],
   "source": [
    "A.max(axis=0)"
   ]
  },
  {
   "cell_type": "code",
   "execution_count": null,
   "metadata": {
    "ExecuteTime": {
     "end_time": "2021-03-20T06:49:43.689083Z",
     "start_time": "2021-03-20T06:49:43.686445Z"
    }
   },
   "outputs": [],
   "source": [
    "A.sum(axis=1)"
   ]
  },
  {
   "cell_type": "markdown",
   "metadata": {},
   "source": [
    "## Indexing\n",
    "\n",
    "Numpy allows many [different ways of indexing](http://docs.scipy.org/doc/numpy/reference/arrays.indexing.html). Short recap:\n",
    "\n",
    "* Sequences of *indices* and *slices* are the main approaches. Slices additionally creates **views** instead of copies and save some RAM."
   ]
  },
  {
   "cell_type": "code",
   "execution_count": null,
   "metadata": {
    "ExecuteTime": {
     "end_time": "2022-02-01T18:48:38.885579Z",
     "start_time": "2022-02-01T18:48:38.780324Z"
    }
   },
   "outputs": [],
   "source": [
    "a = np.arange(10)\n",
    "a"
   ]
  },
  {
   "cell_type": "code",
   "execution_count": null,
   "metadata": {
    "ExecuteTime": {
     "end_time": "2021-03-20T06:49:43.696562Z",
     "start_time": "2021-03-20T06:49:43.694137Z"
    }
   },
   "outputs": [],
   "source": [
    "a[2:5]"
   ]
  },
  {
   "cell_type": "code",
   "execution_count": null,
   "metadata": {
    "ExecuteTime": {
     "end_time": "2021-03-20T06:49:43.700359Z",
     "start_time": "2021-03-20T06:49:43.697787Z"
    }
   },
   "outputs": [],
   "source": [
    "a[3:8:2]"
   ]
  },
  {
   "cell_type": "code",
   "execution_count": null,
   "metadata": {
    "ExecuteTime": {
     "end_time": "2021-03-20T06:49:43.704510Z",
     "start_time": "2021-03-20T06:49:43.701612Z"
    }
   },
   "outputs": [],
   "source": [
    "A = np.arange(81).reshape(9, -1)\n",
    "A"
   ]
  },
  {
   "cell_type": "code",
   "execution_count": null,
   "metadata": {
    "ExecuteTime": {
     "end_time": "2021-03-20T06:49:43.709351Z",
     "start_time": "2021-03-20T06:49:43.706347Z"
    }
   },
   "outputs": [],
   "source": [
    "A[2:4]"
   ]
  },
  {
   "cell_type": "code",
   "execution_count": null,
   "metadata": {
    "ExecuteTime": {
     "end_time": "2021-03-20T06:49:43.713464Z",
     "start_time": "2021-03-20T06:49:43.710587Z"
    }
   },
   "outputs": [],
   "source": [
    "A[:, 2:4]"
   ]
  },
  {
   "cell_type": "code",
   "execution_count": null,
   "metadata": {
    "ExecuteTime": {
     "end_time": "2021-03-20T06:49:43.717258Z",
     "start_time": "2021-03-20T06:49:43.714698Z"
    }
   },
   "outputs": [],
   "source": [
    "A[2:4, 2:4]"
   ]
  },
  {
   "cell_type": "code",
   "execution_count": null,
   "metadata": {
    "ExecuteTime": {
     "end_time": "2021-03-20T06:49:43.720753Z",
     "start_time": "2021-03-20T06:49:43.718531Z"
    }
   },
   "outputs": [],
   "source": [
    "A[-1]"
   ]
  },
  {
   "cell_type": "markdown",
   "metadata": {},
   "source": [
    "* List of indices for every axis:"
   ]
  },
  {
   "cell_type": "code",
   "execution_count": null,
   "metadata": {
    "ExecuteTime": {
     "end_time": "2021-03-20T06:49:43.724625Z",
     "start_time": "2021-03-20T06:49:43.722028Z"
    }
   },
   "outputs": [],
   "source": [
    "A = np.arange(81).reshape(9, -1)\n",
    "A"
   ]
  },
  {
   "cell_type": "code",
   "execution_count": null,
   "metadata": {
    "ExecuteTime": {
     "end_time": "2021-03-20T06:49:43.728394Z",
     "start_time": "2021-03-20T06:49:43.725809Z"
    }
   },
   "outputs": [],
   "source": [
    "A[[2, 4, 5], [0, 1, 3]]"
   ]
  },
  {
   "cell_type": "markdown",
   "metadata": {},
   "source": [
    "* Boolean indexing is a really cool feature!"
   ]
  },
  {
   "cell_type": "code",
   "execution_count": null,
   "metadata": {
    "ExecuteTime": {
     "end_time": "2021-03-20T06:49:43.732058Z",
     "start_time": "2021-03-20T06:49:43.729649Z"
    }
   },
   "outputs": [],
   "source": [
    "A = np.arange(11)\n",
    "A"
   ]
  },
  {
   "cell_type": "code",
   "execution_count": null,
   "metadata": {
    "ExecuteTime": {
     "end_time": "2021-03-20T06:49:43.735767Z",
     "start_time": "2021-03-20T06:49:43.733157Z"
    }
   },
   "outputs": [],
   "source": [
    "A[A % 5 != 3]"
   ]
  },
  {
   "cell_type": "code",
   "execution_count": null,
   "metadata": {
    "ExecuteTime": {
     "end_time": "2021-03-20T06:49:43.746913Z",
     "start_time": "2021-03-20T06:49:43.743913Z"
    }
   },
   "outputs": [],
   "source": [
    "A[np.logical_and(A != 7, A % 5 != 3)]  # Boolean operations are available as well"
   ]
  },
  {
   "cell_type": "markdown",
   "metadata": {},
   "source": [
    "## Examples"
   ]
  },
  {
   "cell_type": "code",
   "execution_count": null,
   "metadata": {
    "ExecuteTime": {
     "end_time": "2021-03-20T06:49:43.753027Z",
     "start_time": "2021-03-20T06:49:43.750161Z"
    }
   },
   "outputs": [],
   "source": [
    "A = np.arange(120).reshape(10, -1)\n",
    "A"
   ]
  },
  {
   "cell_type": "markdown",
   "metadata": {},
   "source": [
    "1. Select all odd rows of A matrix. \n",
    "2. Build a one-dimentional array of all elements not divisible by 3 from all even rows of A.\n",
    "3. Get sum of A diagonal elements.\n",
    "4. Return every second diagonal element from A in reverse order."
   ]
  },
  {
   "cell_type": "markdown",
   "metadata": {},
   "source": [
    "`Shift` + `Tab` when the cursor is inside the open parentheses allows to peek into the docks. Try to press `Tab` several times."
   ]
  },
  {
   "cell_type": "code",
   "execution_count": null,
   "metadata": {
    "ExecuteTime": {
     "end_time": "2021-03-20T06:49:43.756107Z",
     "start_time": "2021-03-20T06:49:43.754403Z"
    }
   },
   "outputs": [],
   "source": [
    "# YOUR CODE HERE"
   ]
  },
  {
   "cell_type": "markdown",
   "metadata": {},
   "source": [
    "## Compare with pure Python\n",
    "\n",
    "As we have already said, numpy is **fast**. Let's take a look:"
   ]
  },
  {
   "cell_type": "code",
   "execution_count": null,
   "metadata": {
    "ExecuteTime": {
     "end_time": "2021-03-20T06:49:43.899983Z",
     "start_time": "2021-03-20T06:49:43.757314Z"
    }
   },
   "outputs": [],
   "source": [
    "A_quick_arr = np.random.normal(size=(1000000,))\n",
    "B_quick_arr = np.random.normal(size=(1000000,))\n",
    "\n",
    "A_slow_list, B_slow_list = list(A_quick_arr), list(B_quick_arr)"
   ]
  },
  {
   "cell_type": "code",
   "execution_count": null,
   "metadata": {
    "ExecuteTime": {
     "end_time": "2021-03-20T06:49:43.903350Z",
     "start_time": "2021-03-20T06:49:43.901392Z"
    }
   },
   "outputs": [],
   "source": [
    "from time import perf_counter  # proper way to measure performance in Python, not `time.time()`"
   ]
  },
  {
   "cell_type": "code",
   "execution_count": null,
   "metadata": {
    "ExecuteTime": {
     "end_time": "2021-03-20T06:49:44.189031Z",
     "start_time": "2021-03-20T06:49:43.904876Z"
    }
   },
   "outputs": [],
   "source": [
    "start = perf_counter()\n",
    "ans = 0\n",
    "\n",
    "for i in range(len(A_slow_list)):\n",
    "    ans += A_slow_list[i] * B_slow_list[i]\n",
    "\n",
    "print(perf_counter() - start)  # run time in seconds"
   ]
  },
  {
   "cell_type": "code",
   "execution_count": null,
   "metadata": {
    "ExecuteTime": {
     "end_time": "2021-03-20T06:49:44.412872Z",
     "start_time": "2021-03-20T06:49:44.190584Z"
    }
   },
   "outputs": [],
   "source": [
    "start = perf_counter()\n",
    "ans = sum([A_slow_list[i] * B_slow_list[i] for i in range(1000000)])\n",
    "print(perf_counter() - start)"
   ]
  },
  {
   "cell_type": "code",
   "execution_count": null,
   "metadata": {
    "ExecuteTime": {
     "end_time": "2021-03-20T06:49:44.421919Z",
     "start_time": "2021-03-20T06:49:44.414413Z"
    }
   },
   "outputs": [],
   "source": [
    "start = perf_counter()\n",
    "ans = np.sum(A_quick_arr * B_quick_arr)\n",
    "print(perf_counter() - start)"
   ]
  },
  {
   "cell_type": "code",
   "execution_count": null,
   "metadata": {
    "ExecuteTime": {
     "end_time": "2021-03-20T06:49:44.427410Z",
     "start_time": "2021-03-20T06:49:44.423349Z"
    }
   },
   "outputs": [],
   "source": [
    "start = perf_counter()\n",
    "ans = A_quick_arr.dot(B_quick_arr)\n",
    "print(perf_counter() - start)"
   ]
  },
  {
   "cell_type": "markdown",
   "metadata": {},
   "source": [
    "# Pandas\n",
    "\n",
    "Python Data Analysis Library (Pandas) came from traders for _simple_ data analysis.\n",
    "\n",
    "Let's take a look on famous [data](https://www.kaggle.com/c/titanic/data) from  Titanic [kaggle competition](https://www.kaggle.com/c/titanic). The target: predict, will the passenger survive or not.\n",
    "* What is the type of this problem?\n",
    "* What are objects?\n",
    "* What is target?\n",
    "* Which features could we use?"
   ]
  },
  {
   "cell_type": "code",
   "execution_count": null,
   "metadata": {
    "ExecuteTime": {
     "end_time": "2022-02-01T18:58:47.010964Z",
     "start_time": "2022-02-01T18:58:46.033894Z"
    }
   },
   "outputs": [],
   "source": [
    "# Download data\n",
    "\n",
    "!wget -nc https://raw.githubusercontent.com/girafe-ai/ml-mipt/a46ca1f1d2c4aae45a36a367b5003ad775b4de8c/datasets/titanic.csv"
   ]
  },
  {
   "cell_type": "code",
   "execution_count": null,
   "metadata": {
    "ExecuteTime": {
     "end_time": "2022-02-01T18:59:12.277768Z",
     "start_time": "2022-02-01T18:59:11.657923Z"
    }
   },
   "outputs": [],
   "source": [
    "import pandas as pd"
   ]
  },
  {
   "cell_type": "markdown",
   "metadata": {},
   "source": [
    "By default pandas uses `pd.DataFrame` object to load and store table data."
   ]
  },
  {
   "cell_type": "code",
   "execution_count": null,
   "metadata": {
    "ExecuteTime": {
     "end_time": "2022-02-01T19:01:10.892938Z",
     "start_time": "2022-02-01T19:01:10.884905Z"
    },
    "scrolled": true
   },
   "outputs": [],
   "source": [
    "pass_data = pd.read_csv(\"titanic.csv\")"
   ]
  },
  {
   "cell_type": "markdown",
   "metadata": {},
   "source": [
    "Dataset is a table: every row is object, evety column - a feature (target is also a feature).<br>\n",
    "Let's get the first values of this table with `.head()` method:"
   ]
  },
  {
   "cell_type": "code",
   "execution_count": null,
   "metadata": {
    "ExecuteTime": {
     "end_time": "2022-02-01T19:01:14.078092Z",
     "start_time": "2022-02-01T19:01:14.060747Z"
    }
   },
   "outputs": [],
   "source": [
    "pass_data.head(3)"
   ]
  },
  {
   "cell_type": "markdown",
   "metadata": {},
   "source": [
    "Column names:"
   ]
  },
  {
   "cell_type": "code",
   "execution_count": null,
   "metadata": {
    "ExecuteTime": {
     "end_time": "2021-03-20T06:49:44.834756Z",
     "start_time": "2021-03-20T06:49:44.831643Z"
    }
   },
   "outputs": [],
   "source": [
    "pass_data.columns"
   ]
  },
  {
   "cell_type": "markdown",
   "metadata": {},
   "source": [
    "Indexing via zero-based indices, index values or feature columns:"
   ]
  },
  {
   "cell_type": "code",
   "execution_count": null,
   "metadata": {
    "ExecuteTime": {
     "end_time": "2021-03-20T06:49:44.848870Z",
     "start_time": "2021-03-20T06:49:44.836686Z"
    }
   },
   "outputs": [],
   "source": [
    "pass_data[2:5]"
   ]
  },
  {
   "cell_type": "code",
   "execution_count": null,
   "metadata": {
    "ExecuteTime": {
     "end_time": "2021-03-20T06:49:44.856645Z",
     "start_time": "2021-03-20T06:49:44.850309Z"
    }
   },
   "outputs": [],
   "source": [
    "pass_data.iloc[1:5, 1:3]"
   ]
  },
  {
   "cell_type": "code",
   "execution_count": null,
   "metadata": {
    "ExecuteTime": {
     "end_time": "2021-03-20T06:49:44.862131Z",
     "start_time": "2021-03-20T06:49:44.858665Z"
    },
    "scrolled": true
   },
   "outputs": [],
   "source": [
    "pass_data[\"name\"].head()"
   ]
  },
  {
   "cell_type": "code",
   "execution_count": null,
   "metadata": {
    "ExecuteTime": {
     "end_time": "2021-03-20T06:49:44.870174Z",
     "start_time": "2021-03-20T06:49:44.863496Z"
    },
    "scrolled": true
   },
   "outputs": [],
   "source": [
    "pass_data[[\"name\", \"sex\", \"parch\"]].head()"
   ]
  },
  {
   "cell_type": "markdown",
   "metadata": {},
   "source": [
    "Some special queries (like SQL) are also here:"
   ]
  },
  {
   "cell_type": "code",
   "execution_count": null,
   "metadata": {
    "ExecuteTime": {
     "end_time": "2021-03-20T06:49:44.884313Z",
     "start_time": "2021-03-20T06:49:44.871540Z"
    },
    "scrolled": true
   },
   "outputs": [],
   "source": [
    "pass_data[pass_data[\"sex\"] == \"female\"].head()"
   ]
  },
  {
   "cell_type": "code",
   "execution_count": null,
   "metadata": {
    "ExecuteTime": {
     "end_time": "2021-03-20T06:49:44.902013Z",
     "start_time": "2021-03-20T06:49:44.885976Z"
    }
   },
   "outputs": [],
   "source": [
    "# Women older than 60 and men:\n",
    "condition = (pass_data[\"sex\"] == \"female\") & (pass_data[\"age\"] >= 60) | (pass_data[\"sex\"] == \"male\")\n",
    "pass_data[condition].head()"
   ]
  },
  {
   "cell_type": "markdown",
   "metadata": {},
   "source": [
    "## Example\n",
    "Let's take a look, how many single women were on the ship back then."
   ]
  },
  {
   "cell_type": "code",
   "execution_count": null,
   "metadata": {
    "ExecuteTime": {
     "end_time": "2021-03-20T06:49:44.910700Z",
     "start_time": "2021-03-20T06:49:44.903732Z"
    }
   },
   "outputs": [],
   "source": [
    "complex_condition = (\n",
    "    (pass_data.sex == \"female\")\n",
    "    & (pass_data.age > 18)\n",
    "    & (pass_data.age < 25)\n",
    "    & (pass_data.sibsp == 0)\n",
    "    & (pass_data.parch == 0)\n",
    ")\n",
    "\n",
    "pass_data[complex_condition].shape"
   ]
  },
  {
   "cell_type": "markdown",
   "metadata": {},
   "source": [
    "Histograms are avalable as well:"
   ]
  },
  {
   "cell_type": "code",
   "execution_count": null,
   "metadata": {
    "ExecuteTime": {
     "end_time": "2021-03-20T06:49:45.395562Z",
     "start_time": "2021-03-20T06:49:44.912666Z"
    }
   },
   "outputs": [],
   "source": [
    "pass_data.age.hist(bins=30)"
   ]
  },
  {
   "cell_type": "markdown",
   "metadata": {},
   "source": [
    "## Dealing with DataFrame objects\n",
    "\n",
    "* Renaming columns:"
   ]
  },
  {
   "cell_type": "code",
   "execution_count": null,
   "metadata": {
    "ExecuteTime": {
     "end_time": "2021-03-20T06:49:45.408735Z",
     "start_time": "2021-03-20T06:49:45.396904Z"
    },
    "scrolled": true
   },
   "outputs": [],
   "source": [
    "pass_data.rename(columns={\"sex\": \"Sex\"}, inplace=True)\n",
    "pass_data.head()"
   ]
  },
  {
   "cell_type": "markdown",
   "metadata": {},
   "source": [
    "* Applying functions to columns or rows (e.g. for preprocessing):"
   ]
  },
  {
   "cell_type": "code",
   "execution_count": null,
   "metadata": {
    "ExecuteTime": {
     "end_time": "2021-03-20T06:49:45.414525Z",
     "start_time": "2021-03-20T06:49:45.410081Z"
    },
    "scrolled": true
   },
   "outputs": [],
   "source": [
    "def get_last_name(name: str):\n",
    "    return name.split(\",\")[0].strip()\n",
    "\n",
    "\n",
    "last_names = pass_data[\"name\"].apply(get_last_name)\n",
    "last_names.head()"
   ]
  },
  {
   "cell_type": "markdown",
   "metadata": {},
   "source": [
    "* Adding columns:"
   ]
  },
  {
   "cell_type": "code",
   "execution_count": null,
   "metadata": {
    "ExecuteTime": {
     "end_time": "2021-03-20T06:49:45.427812Z",
     "start_time": "2021-03-20T06:49:45.415843Z"
    }
   },
   "outputs": [],
   "source": [
    "pass_data[\"Last_name\"] = last_names\n",
    "pass_data.head()"
   ]
  },
  {
   "cell_type": "markdown",
   "metadata": {},
   "source": [
    "* Removing ones"
   ]
  },
  {
   "cell_type": "code",
   "execution_count": null,
   "metadata": {
    "ExecuteTime": {
     "end_time": "2021-03-20T06:49:45.441741Z",
     "start_time": "2021-03-20T06:49:45.429140Z"
    }
   },
   "outputs": [],
   "source": [
    "pass_data.drop(\"Last_name\", axis=1, inplace=True)\n",
    "pass_data.head()"
   ]
  },
  {
   "cell_type": "markdown",
   "metadata": {},
   "source": [
    "* Dealing with missing values:\n",
    "\n",
    "`.isnull()` and `.notnull()` methods allows to get binaty array with corresponding mapping:"
   ]
  },
  {
   "cell_type": "code",
   "execution_count": null,
   "metadata": {
    "ExecuteTime": {
     "end_time": "2021-03-20T06:49:45.446624Z",
     "start_time": "2021-03-20T06:49:45.443030Z"
    },
    "scrolled": true
   },
   "outputs": [],
   "source": [
    "pass_data[\"boat\"].isnull().head()"
   ]
  },
  {
   "cell_type": "code",
   "execution_count": null,
   "metadata": {
    "ExecuteTime": {
     "end_time": "2021-03-20T06:49:45.459381Z",
     "start_time": "2021-03-20T06:49:45.447966Z"
    },
    "scrolled": true
   },
   "outputs": [],
   "source": [
    "pass_data[pass_data[\"boat\"].notnull()].head()  # passengers with known safe boat number"
   ]
  },
  {
   "cell_type": "markdown",
   "metadata": {},
   "source": [
    "* Sorting and selecting features"
   ]
  },
  {
   "cell_type": "code",
   "execution_count": null,
   "metadata": {
    "ExecuteTime": {
     "end_time": "2021-03-20T06:49:45.474623Z",
     "start_time": "2021-03-20T06:49:45.460678Z"
    }
   },
   "outputs": [],
   "source": [
    "pass_data.sort_values(by=[\"pclass\", \"fare\"], ascending=True).head()"
   ]
  },
  {
   "cell_type": "code",
   "execution_count": null,
   "metadata": {
    "ExecuteTime": {
     "end_time": "2021-03-20T06:49:45.489951Z",
     "start_time": "2021-03-20T06:49:45.476091Z"
    }
   },
   "outputs": [],
   "source": [
    "pass_data.sort_values(by=[\"pclass\", \"fare\"], ascending=[True, False]).head()"
   ]
  },
  {
   "cell_type": "markdown",
   "metadata": {},
   "source": [
    "## Aggregating the data\n",
    "\n",
    "`.groupby()` method allows to group data in groups by some criteria. Just like `GROUP BY` in SQL."
   ]
  },
  {
   "cell_type": "markdown",
   "metadata": {},
   "source": [
    "`Shift` + `Tab` when the cursor is inside the open parentheses allows to peek into the docks. Try to press `Tab` several times."
   ]
  },
  {
   "cell_type": "code",
   "execution_count": null,
   "metadata": {
    "ExecuteTime": {
     "end_time": "2021-03-20T06:49:45.494241Z",
     "start_time": "2021-03-20T06:49:45.491373Z"
    }
   },
   "outputs": [],
   "source": [
    "pass_data.groupby(\"Sex\")"
   ]
  },
  {
   "cell_type": "code",
   "execution_count": null,
   "metadata": {
    "ExecuteTime": {
     "end_time": "2021-03-20T06:49:45.501350Z",
     "start_time": "2021-03-20T06:49:45.495719Z"
    }
   },
   "outputs": [],
   "source": [
    "pass_data.groupby(\"Sex\")[\"pclass\"].value_counts()"
   ]
  },
  {
   "cell_type": "code",
   "execution_count": null,
   "metadata": {
    "ExecuteTime": {
     "end_time": "2021-03-20T06:49:45.519212Z",
     "start_time": "2021-03-20T06:49:45.502883Z"
    }
   },
   "outputs": [],
   "source": [
    "pass_data.groupby(\"pclass\")[\"fare\"].describe()"
   ]
  },
  {
   "cell_type": "code",
   "execution_count": null,
   "metadata": {
    "ExecuteTime": {
     "end_time": "2021-03-20T06:49:45.525446Z",
     "start_time": "2021-03-20T06:49:45.520698Z"
    }
   },
   "outputs": [],
   "source": [
    "pass_data.groupby(\"Sex\")[\"age\"].mean()  # average age of passengers depending on sex"
   ]
  },
  {
   "cell_type": "markdown",
   "metadata": {},
   "source": [
    "Children and women are saved first. Let's check."
   ]
  },
  {
   "cell_type": "code",
   "execution_count": null,
   "metadata": {
    "ExecuteTime": {
     "end_time": "2021-03-20T06:49:45.531793Z",
     "start_time": "2021-03-20T06:49:45.526813Z"
    }
   },
   "outputs": [],
   "source": [
    "pass_data.groupby(\"Sex\")[\"survived\"].mean()"
   ]
  },
  {
   "cell_type": "markdown",
   "metadata": {},
   "source": [
    "Same case for different class passengers:"
   ]
  },
  {
   "cell_type": "code",
   "execution_count": null,
   "metadata": {
    "ExecuteTime": {
     "end_time": "2021-03-20T06:49:45.538060Z",
     "start_time": "2021-03-20T06:49:45.533328Z"
    }
   },
   "outputs": [],
   "source": [
    "pass_data.groupby(\"pclass\")[\"survived\"].mean()"
   ]
  },
  {
   "cell_type": "markdown",
   "metadata": {},
   "source": [
    "## Saving data\n",
    "\n",
    "The data can be saved to the disc as well"
   ]
  },
  {
   "cell_type": "code",
   "execution_count": null,
   "metadata": {
    "ExecuteTime": {
     "end_time": "2021-03-20T06:49:45.550443Z",
     "start_time": "2021-03-20T06:49:45.539660Z"
    }
   },
   "outputs": [],
   "source": [
    "pass_data.to_csv(\"another_titanic.csv\", index=False)"
   ]
  },
  {
   "cell_type": "markdown",
   "metadata": {},
   "source": [
    "# [Matplotlib](http://matplotlib.org)\n",
    "\n",
    "great Python library for visualizations.\n",
    "\n",
    "* [Basic Usage Tutorial](https://matplotlib.org/stable/tutorials/introductory/usage.html)\n",
    "* [2D and 3D plotting](http://nbviewer.jupyter.org/github/jrjohansson/scientific-python-lectures/blob/master/Lecture-4-Matplotlib.ipynb)\n",
    "* [Visualization in pandas](http://pandas.pydata.org/pandas-docs/stable/visualization.html)\n",
    "\n",
    "![](https://matplotlib.org/stable/_images/anatomy.png)"
   ]
  },
  {
   "cell_type": "code",
   "execution_count": null,
   "metadata": {
    "ExecuteTime": {
     "end_time": "2021-03-20T06:49:45.553871Z",
     "start_time": "2021-03-20T06:49:45.551960Z"
    }
   },
   "outputs": [],
   "source": [
    "import matplotlib.pyplot as plt"
   ]
  },
  {
   "cell_type": "code",
   "execution_count": null,
   "metadata": {
    "ExecuteTime": {
     "end_time": "2021-03-20T06:49:45.557024Z",
     "start_time": "2021-03-20T06:49:45.555151Z"
    }
   },
   "outputs": [],
   "source": [
    "x = np.linspace(1, 10, 20)"
   ]
  },
  {
   "cell_type": "markdown",
   "metadata": {},
   "source": [
    "Take a look at `axes` object from the `plt.figure`. E.g. they allow to combine different plots on same axes."
   ]
  },
  {
   "cell_type": "code",
   "execution_count": null,
   "metadata": {
    "ExecuteTime": {
     "end_time": "2021-03-20T06:49:45.895749Z",
     "start_time": "2021-03-20T06:49:45.558461Z"
    }
   },
   "outputs": [],
   "source": [
    "fig = plt.figure(figsize=(10, 6))\n",
    "\n",
    "axes = fig.add_axes([0.1, 0.1, 0.8, 0.8])\n",
    "\n",
    "axes.plot(x, x**2, \"r\")\n",
    "axes.plot(x, x**3, \"b*--\")\n",
    "\n",
    "axes.set_xlabel(\"x\")\n",
    "axes.set_ylabel(\"y\")\n",
    "axes.set_title(\"title\")\n",
    "axes.legend([r\"$x^2$\", \"x^3\"], loc=0)\n",
    "\n",
    "plt.show()"
   ]
  },
  {
   "cell_type": "code",
   "execution_count": null,
   "metadata": {
    "ExecuteTime": {
     "end_time": "2021-03-20T06:49:46.081375Z",
     "start_time": "2021-03-20T06:49:45.897215Z"
    }
   },
   "outputs": [],
   "source": [
    "fig = plt.figure(figsize=(10, 6))\n",
    "\n",
    "axes = fig.add_axes([0.1, 0.1, 0.8, 0.8])\n",
    "\n",
    "axes.scatter(x, x**2, color=\"red\", marker=\"*\", s=80)\n",
    "axes.scatter(x, x**3)\n",
    "\n",
    "axes.set_xlabel(\"x\")\n",
    "axes.set_ylabel(\"y\")\n",
    "axes.set_title(\"title\")\n",
    "\n",
    "plt.show()"
   ]
  },
  {
   "cell_type": "markdown",
   "metadata": {},
   "source": [
    "Matplotlib provides great opportunity of plots personalization."
   ]
  },
  {
   "cell_type": "code",
   "execution_count": null,
   "metadata": {
    "ExecuteTime": {
     "end_time": "2021-03-20T06:49:46.282516Z",
     "start_time": "2021-03-20T06:49:46.082775Z"
    }
   },
   "outputs": [],
   "source": [
    "fig = plt.figure(figsize=(10, 6))\n",
    "\n",
    "axes = fig.add_axes([0.1, 0.1, 0.8, 0.8])\n",
    "\n",
    "axes.plot(\n",
    "    x,\n",
    "    x**2,\n",
    "    \"r^-\",\n",
    "    label=\"$y = x^2$\",\n",
    "    markersize=8,\n",
    "    markerfacecolor=\"yellow\",\n",
    "    markeredgewidth=1,\n",
    "    markeredgecolor=\"green\",\n",
    ")\n",
    "axes.plot(x, x**3, \"b*--\", label=\"$y = x^3$\", alpha=0.5)\n",
    "\n",
    "axes.set_xlabel(\"x\")\n",
    "axes.set_ylabel(\"y\")\n",
    "axes.set_title(\"title\")\n",
    "axes.legend(loc=0, fontsize=18)\n",
    "\n",
    "plt.show()"
   ]
  },
  {
   "cell_type": "markdown",
   "metadata": {},
   "source": [
    "## Subaxes\n",
    "\n",
    "And allows to specify axes places and sizes:"
   ]
  },
  {
   "cell_type": "code",
   "execution_count": null,
   "metadata": {
    "ExecuteTime": {
     "end_time": "2021-03-20T06:49:46.482639Z",
     "start_time": "2021-03-20T06:49:46.283906Z"
    }
   },
   "outputs": [],
   "source": [
    "fig = plt.figure()\n",
    "\n",
    "axes1 = fig.add_axes([0.1, 0.1, 0.8, 0.8])  # main axes\n",
    "axes2 = fig.add_axes([0.2, 0.5, 0.4, 0.3])  # inset axes\n",
    "\n",
    "# main figure\n",
    "axes1.plot(x, x**2, \"r\")\n",
    "axes1.set_xlabel(\"x\")\n",
    "axes1.set_ylabel(\"y\")\n",
    "axes1.set_title(\"title\")\n",
    "\n",
    "# insert\n",
    "axes2.plot(x**2, x, \"g\")\n",
    "axes2.set_xlabel(\"y\")\n",
    "axes2.set_ylabel(\"x\")\n",
    "axes2.set_title(\"insert title\")\n",
    "\n",
    "plt.show()"
   ]
  },
  {
   "cell_type": "markdown",
   "metadata": {},
   "source": [
    "## Subplots\n",
    "\n",
    "There are some classic variants though.\n",
    "\n",
    "**This is recommended way to create multiple plots on single figure**"
   ]
  },
  {
   "cell_type": "code",
   "execution_count": null,
   "metadata": {
    "ExecuteTime": {
     "end_time": "2021-03-20T06:49:46.855795Z",
     "start_time": "2021-03-20T06:49:46.484047Z"
    },
    "scrolled": false
   },
   "outputs": [],
   "source": [
    "fig, axes = plt.subplots(nrows=1, ncols=3, figsize=(16, 5))\n",
    "\n",
    "for pow_num, ax in enumerate(axes):\n",
    "    ax.plot(x, x ** (pow_num + 1), \"r\")\n",
    "    ax.set_xlabel(\"x\")\n",
    "    ax.set_ylabel(\"y\")\n",
    "    ax.set_title(f\"$y = x^{pow_num + 1}$\", fontsize=18)\n",
    "fig.tight_layout()  # dealing with intersecting figures"
   ]
  },
  {
   "cell_type": "markdown",
   "metadata": {},
   "source": [
    "It can be saved to the file as well."
   ]
  },
  {
   "cell_type": "code",
   "execution_count": null,
   "metadata": {
    "ExecuteTime": {
     "end_time": "2021-03-20T06:49:47.280142Z",
     "start_time": "2021-03-20T06:49:46.858015Z"
    }
   },
   "outputs": [],
   "source": [
    "fig.savefig(\"pows.png\", dpi=200)"
   ]
  },
  {
   "cell_type": "markdown",
   "metadata": {},
   "source": [
    "## 3d plots\n",
    "\n",
    "are also avalable via Matplotlib. E.g. the surface plot:"
   ]
  },
  {
   "cell_type": "code",
   "execution_count": null,
   "metadata": {
    "ExecuteTime": {
     "end_time": "2021-03-20T06:49:47.286089Z",
     "start_time": "2021-03-20T06:49:47.281660Z"
    }
   },
   "outputs": [],
   "source": [
    "alpha = 0.7\n",
    "phi_ext = 2 * np.pi * 0.5\n",
    "\n",
    "\n",
    "def flux_qubit_potential(phi_m, phi_p):\n",
    "    return 2 + alpha - 2 * np.cos(phi_p) * np.cos(phi_m) - alpha * np.cos(phi_ext - 2 * phi_p)\n",
    "\n",
    "\n",
    "phi_m = np.linspace(0, 2 * np.pi, 100)\n",
    "phi_p = np.linspace(0, 2 * np.pi, 100)\n",
    "X, Y = np.meshgrid(phi_p, phi_m)\n",
    "Z = flux_qubit_potential(X, Y).T"
   ]
  },
  {
   "cell_type": "code",
   "execution_count": null,
   "metadata": {
    "ExecuteTime": {
     "end_time": "2021-03-20T06:49:47.533022Z",
     "start_time": "2021-03-20T06:49:47.287319Z"
    }
   },
   "outputs": [],
   "source": [
    "fig = plt.figure(figsize=(14, 6))\n",
    "\n",
    "ax = fig.add_subplot(111, projection=\"3d\")\n",
    "\n",
    "p = ax.plot_surface(X, Y, Z, rstride=4, cstride=4, linewidth=0, cmap=\"jet\")"
   ]
  },
  {
   "cell_type": "markdown",
   "metadata": {},
   "source": [
    "More advanced 3d plots are available in [plotly](https://plotly.com/python/getting-started/)\n",
    "\n",
    "## Hisograms\n",
    "are available too (and the pandas histogram actually calls the matplotlib's function). Matplotlib provides greatet freedom for histograms though."
   ]
  },
  {
   "cell_type": "code",
   "execution_count": null,
   "metadata": {
    "ExecuteTime": {
     "end_time": "2021-03-20T06:49:47.745752Z",
     "start_time": "2021-03-20T06:49:47.534417Z"
    }
   },
   "outputs": [],
   "source": [
    "fig = plt.figure()\n",
    "axes = fig.add_axes([0.0, 0.0, 1.0, 1.0])\n",
    "bins = 20\n",
    "index = np.arange(bins)\n",
    "axes.hist(pass_data[pass_data[\"Sex\"] == \"male\"][\"age\"].dropna(), bins=bins, alpha=0.6, label=\"male\")\n",
    "axes.hist(\n",
    "    pass_data[pass_data[\"Sex\"] == \"female\"][\"age\"].dropna(), bins=bins, alpha=0.6, label=\"female\"\n",
    ")\n",
    "\n",
    "axes.legend()\n",
    "axes.set_xlabel(\"Age\", fontsize=18)\n",
    "axes.set_ylabel(\"Count\", fontsize=18)\n",
    "axes.set_title(\"Age by gender\", fontsize=18)\n",
    "\n",
    "plt.show()"
   ]
  },
  {
   "cell_type": "markdown",
   "metadata": {},
   "source": [
    "Matplotlib is huge, and many different features are avaialble.<br>\n",
    "For example, [here](http://matplotlib.org/gallery.html) and [here](http://nbviewer.jupyter.org/github/jrjohansson/scientific-python-lectures/blob/master/Lecture-4-Matplotlib.ipynb) are provided great posts about this."
   ]
  },
  {
   "cell_type": "markdown",
   "metadata": {},
   "source": [
    "# Bonus track\n",
    "\n",
    "If you are familiar with everything above this line or it was too easy and you got ahead of the whole class, here is the bonus task:\n",
    "\n",
    "![The Game of Life](https://upload.wikimedia.org/wikipedia/commons/e/e5/Gospers_glider_gun.gif)\n",
    "\n",
    "## The game of life\n",
    "Let's implement [The Game of Life](https://en.wikipedia.org/wiki/Conway%27s_Game_of_Life) using numpy matrix operations.\n",
    "\n",
    "If you don't want to read the Wikipedia page about it, here are the short game of life rules:\n",
    "\n",
    "* There is 2d grid with cells. Every cell is eather *alive* (1) or *dead* (0).\n",
    "* If a living cell has 2 or 3 neighboors it survives. Otherwise it dies (0, 1, 4 and more neighbours).\n",
    "* If a dead cell has exactly 3 neigbours it becomes alive."
   ]
  },
  {
   "cell_type": "code",
   "execution_count": null,
   "metadata": {
    "ExecuteTime": {
     "end_time": "2021-03-20T06:49:47.752679Z",
     "start_time": "2021-03-20T06:49:47.746996Z"
    }
   },
   "outputs": [],
   "source": [
    "%matplotlib notebook"
   ]
  },
  {
   "cell_type": "code",
   "execution_count": null,
   "metadata": {
    "ExecuteTime": {
     "end_time": "2021-03-20T06:49:54.430721Z",
     "start_time": "2021-03-20T06:49:54.428755Z"
    }
   },
   "outputs": [],
   "source": [
    "def np_life_tick(curr_state: np.ndarray) -> np.ndarray:\n",
    "    # YOUR CODE HERE\n",
    "    pass"
   ]
  },
  {
   "cell_type": "markdown",
   "metadata": {},
   "source": [
    "Here is visualization code provided for you:"
   ]
  },
  {
   "cell_type": "code",
   "execution_count": null,
   "metadata": {
    "ExecuteTime": {
     "end_time": "2021-03-20T06:42:17.534271Z",
     "start_time": "2021-03-20T06:42:17.301742Z"
    }
   },
   "outputs": [],
   "source": [
    "plt.ion()\n",
    "\n",
    "# Start life\n",
    "life_state = np.random.choice([0, 1], size=(100, 100))\n",
    "\n",
    "fig = plt.figure()\n",
    "ax = fig.add_subplot(111)\n",
    "fig.show()\n",
    "\n",
    "for _ in range(100):\n",
    "    # make a tick\n",
    "    life_state = np_life_tick(life_state)\n",
    "\n",
    "    # display the tick\n",
    "    ax.clear()\n",
    "    ax.imshow(life_state, cmap=\"gray\")\n",
    "    fig.canvas.draw()"
   ]
  },
  {
   "cell_type": "markdown",
   "metadata": {},
   "source": [
    "And some beautiful initializations if you succeded:"
   ]
  },
  {
   "cell_type": "code",
   "execution_count": null,
   "metadata": {},
   "outputs": [],
   "source": [
    "life_state = np.arange(100) % 2 + np.zeros([100, 100])\n",
    "\n",
    "life_state[47:51, 49:51] = 1\n",
    "\n",
    "fig = plt.figure()\n",
    "ax = fig.add_subplot(111)\n",
    "fig.show()\n",
    "\n",
    "for _ in range(100):\n",
    "    life_state = np_life_tick(life_state)\n",
    "    ax.clear()\n",
    "    ax.imshow(life_state, cmap=\"gray\")\n",
    "    fig.canvas.draw()"
   ]
  },
  {
   "cell_type": "markdown",
   "metadata": {},
   "source": [
    "# Credits <a class=\"tocSkip\">\n",
    "\n",
    "Authors: [Radoslav Neychev](https://github.com/neychev), [Vladislav Goncharneko](https://github.com/v-goncharenko)\n",
    "\n",
    "Based on [Evgeny Sokolov](https://github.com/esokolov) and [YSDA](https://github.com/yandexdataschool) open materials."
   ]
  }
 ],
 "metadata": {
  "kernelspec": {
   "display_name": "Python [conda env:ml-mipt]",
   "language": "python",
   "name": "conda-env-ml-mipt-py"
  },
  "language_info": {
   "codemirror_mode": {
    "name": "ipython",
    "version": 3
   },
   "file_extension": ".py",
   "mimetype": "text/x-python",
   "name": "python",
   "nbconvert_exporter": "python",
   "pygments_lexer": "ipython3",
   "version": "3.8.5"
  },
  "toc": {
   "base_numbering": 1,
   "nav_menu": {},
   "number_sections": true,
   "sideBar": true,
   "skip_h1_title": false,
   "title_cell": "Table of Contents",
   "title_sidebar": "Contents",
   "toc_cell": false,
   "toc_position": {
    "height": "calc(100% - 180px)",
    "left": "10px",
    "top": "150px",
    "width": "358.391px"
   },
   "toc_section_display": true,
   "toc_window_display": true
  }
 },
 "nbformat": 4,
 "nbformat_minor": 1
}
