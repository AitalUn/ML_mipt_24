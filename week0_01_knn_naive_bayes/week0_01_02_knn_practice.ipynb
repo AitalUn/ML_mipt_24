{
 "cells": [
  {
   "cell_type": "markdown",
   "metadata": {},
   "source": [
    "# <a href=\"https://girafe.ai/\" target=\"_blank\" rel=\"noopener noreferrer\"><img src=\"https://raw.githubusercontent.com/girafe-ai/ml-mipt/7096a5df4cada5ee651be1e3215c2f7fb8a7e0bf/logo_margin.svg\" alt=\"girafe-ai logo\" width=\"150px\" align=\"left\"></a> [ml-mipt](https://github.com/girafe-ai/ml-mipt) basic course <a class=\"tocSkip\">"
   ]
  },
  {
   "cell_type": "markdown",
   "metadata": {},
   "source": [
    "# Seminar 01: kNN with scikit-learn <a class=\"tocSkip\">\n",
    "\n",
    "Today we will dig into k Nearest Neigbours algorithm for classification and regression.\n",
    "\n",
    "We consider this algorithm implementation from widely known [`scikit-learn` library](https://scikit-learn.org/stable/index.html) and explore basic concepts of this library which we will extensively use during the whole course."
   ]
  },
  {
   "cell_type": "markdown",
   "metadata": {},
   "source": [
    "# `scikit-learn` introduction\n",
    "\n",
    "## Origins\n",
    "\n",
    "To cite [History page](https://scikit-learn.org/stable/about.html#history):\n",
    "\n",
    "> This project was started in 2007 as a Google Summer of Code project by David Cournapeau. Later that year, Matthieu Brucher started work on this project as part of his thesis.\n",
    "\n",
    "In 2010 various authors of INRIA took leadership of the project and made the **first public release, February the 1st 2010**.<br>\n",
    "Since then, several releases have appeared following a ~ 3-month cycle, and a thriving international community has been leading the development.<br>\n",
    "Long awaited **verison 1.0.0 was released at September, 24th of 2021.**\n",
    "\n",
    "Now project's code is [available on github](https://github.com/scikit-learn/scikit-learn) (49k stars).\n",
    "\n",
    "_Tip:_ If you don't know how some algorithm works in detail, you could easily go to source code and investigate what you need.\n",
    "\n",
    "## Installation\n",
    "\n",
    "This is regular PyPI package, so simple"
   ]
  },
  {
   "cell_type": "code",
   "execution_count": null,
   "metadata": {},
   "outputs": [],
   "source": [
    "!pip install scikit-learn"
   ]
  },
  {
   "cell_type": "markdown",
   "metadata": {},
   "source": [
    "goes well.<br>\n",
    "As well as `conda` variant:\n",
    "\n",
    "`conda install -c conda-forge scikit-learn`\n",
    "\n",
    "## First glance\n",
    "\n",
    "`sklearn` (shortened nickname for scikit-learn) implement most of classical and frequently used algorithms in Machine Learning.<br>\n",
    "Also it provides [User Guide](https://scikit-learn.org/stable/user_guide.html) describing principles, mechanisms and references of every bunch of algorithms implemented.\n",
    "\n",
    "As an entry point to main `sklearn`'s concepts **we recommend [getting started tutorial](https://scikit-learn.org/stable/getting_started.html)**.<br>\n",
    "**Check it out:** it contains main concepts we will need for the whole course!!!<br>\n",
    "\n",
    "[Further tutorials](https://scikit-learn.org/stable/tutorial/index.html) can also be handy to develop your skills."
   ]
  },
  {
   "cell_type": "code",
   "execution_count": null,
   "metadata": {
    "ExecuteTime": {
     "end_time": "2022-02-13T19:10:41.652054Z",
     "start_time": "2022-02-13T19:10:41.277232Z"
    }
   },
   "outputs": [],
   "source": [
    "# regular machine learning libraries imports\n",
    "import matplotlib.pyplot as plt\n",
    "import numpy as np"
   ]
  },
  {
   "cell_type": "markdown",
   "metadata": {},
   "source": [
    "# Synthetic dataset for classification\n",
    "\n",
    "Before applying any model we need some data to operate upon.<br>\n",
    "Let's generate toy task - only 2 features for better visualization.\n",
    "\n",
    "To do that with `sklearn` we need `datasets` module.<br>\n",
    "You could find many datasets in [it's API reference](https://scikit-learn.org/stable/modules/classes.html#module-sklearn.datasets): synthetic, toy and real life datasets (at least they were real life in 2007 😝)<br>\n",
    "[User guide entry](https://scikit-learn.org/stable/datasets.html) contains main principles of datasets representation and usage.\n",
    "\n",
    "For now we use [`make_classification` function](https://scikit-learn.org/stable/modules/generated/sklearn.datasets.make_classification.html) to generate normally distributed clusters of different classes."
   ]
  },
  {
   "cell_type": "code",
   "execution_count": null,
   "metadata": {
    "ExecuteTime": {
     "end_time": "2022-02-13T19:10:42.373116Z",
     "start_time": "2022-02-13T19:10:41.653972Z"
    }
   },
   "outputs": [],
   "source": [
    "from sklearn.datasets import make_classification\n",
    "\n",
    "\n",
    "data, labels = make_classification(\n",
    "    n_samples=100,\n",
    "    n_features=2,\n",
    "    n_informative=2,\n",
    "    n_redundant=0,\n",
    "    n_classes=3,\n",
    "    n_clusters_per_class=1,\n",
    "    random_state=3,\n",
    ")\n",
    "\n",
    "data.shape, labels.shape"
   ]
  },
  {
   "cell_type": "code",
   "execution_count": null,
   "metadata": {
    "ExecuteTime": {
     "end_time": "2022-02-13T19:10:42.378991Z",
     "start_time": "2022-02-13T19:10:42.375759Z"
    }
   },
   "outputs": [],
   "source": [
    "from matplotlib.colors import ListedColormap\n",
    "\n",
    "\n",
    "COLORS = ListedColormap((\"red\", \"blue\", \"yellow\"))\n",
    "\n",
    "\n",
    "def plot_dataset(data: np.ndarray, labels: np.ndarray, title: str = \"\"):\n",
    "    plt.figure(figsize=(7, 7))\n",
    "    plt.scatter(data[:, 0], data[:, 1], s=100, c=labels, cmap=COLORS)\n",
    "    plt.title(title)\n",
    "    plt.grid()\n",
    "    plt.show()"
   ]
  },
  {
   "cell_type": "code",
   "execution_count": null,
   "metadata": {
    "ExecuteTime": {
     "end_time": "2022-02-13T19:10:42.511765Z",
     "start_time": "2022-02-13T19:10:42.381210Z"
    }
   },
   "outputs": [],
   "source": [
    "plot_dataset(data, labels, \"Initial dataset\")"
   ]
  },
  {
   "cell_type": "markdown",
   "metadata": {},
   "source": [
    "To estimate generalizing ability of final algorithm we need to split data.\n",
    "\n",
    "Note: in real life we need to introduce _validation_ split as well, but for now only train and test is enough."
   ]
  },
  {
   "cell_type": "code",
   "execution_count": null,
   "metadata": {
    "ExecuteTime": {
     "end_time": "2022-02-13T19:10:42.540266Z",
     "start_time": "2022-02-13T19:10:42.513293Z"
    }
   },
   "outputs": [],
   "source": [
    "from sklearn.model_selection import train_test_split\n",
    "\n",
    "\n",
    "train_data, test_data, train_labels, test_labels = train_test_split(\n",
    "    data,\n",
    "    labels,\n",
    "    random_state=1,\n",
    ")"
   ]
  },
  {
   "cell_type": "markdown",
   "metadata": {},
   "source": [
    "# k Nearest Neighbours algorithm\n",
    "\n",
    "The heart of this algorithm is ability to find distance to two arbitrary points given.<br>\n",
    "This could be done directly via calculating distances between every two points in the dataset or with more sophisticated approaches which we will discuss later.\n",
    "\n",
    "For now let's get familiar with `sklearn` implementation.\n",
    "\n",
    "## `sklearn.neighbors`\n",
    "\n",
    "All code related to Nearest Neighbours based algorithms is presented in [`neighbors` submodule](https://scikit-learn.org/stable/modules/classes.html#module-sklearn.neighbors).\n",
    "\n",
    "**Conprehensive description** of all the approaches is provided in [the corresponding section of User Guide](https://scikit-learn.org/stable/modules/neighbors.html). It worth reading!\n",
    "\n",
    "For now we only interested in [`KNeighborsClassifier` class](https://scikit-learn.org/stable/modules/generated/sklearn.neighbors.KNeighborsClassifier.html)"
   ]
  },
  {
   "cell_type": "code",
   "execution_count": null,
   "metadata": {
    "ExecuteTime": {
     "end_time": "2022-02-13T19:10:42.634805Z",
     "start_time": "2022-02-13T19:10:42.541735Z"
    }
   },
   "outputs": [],
   "source": [
    "from sklearn.neighbors import KNeighborsClassifier"
   ]
  },
  {
   "cell_type": "code",
   "execution_count": null,
   "metadata": {
    "ExecuteTime": {
     "end_time": "2022-02-13T19:10:42.639995Z",
     "start_time": "2022-02-13T19:10:42.636467Z"
    }
   },
   "outputs": [],
   "source": [
    "KNeighborsClassifier.__mro__"
   ]
  },
  {
   "cell_type": "markdown",
   "metadata": {},
   "source": [
    "Note presence of the following classes:\n",
    "\n",
    "- `sklearn.base.ClassifierMixin` - is nessesary to inherit by all the classifiers. Provides metrics and sets `estimator_type`.\n",
    "- `sklearn.base.BaseEstimator` - common base for all the estimators (regressors, classifiers, transforms, density estimators)\n",
    "\n",
    "When you implement your custom `sklearn` compatible class, you have to inherit them as well.\n",
    "\n",
    "Look at `sklearn.base` [module documentation](https://scikit-learn.org/stable/modules/classes.html#module-sklearn.base) to get familiar with all facilities available for each estimator."
   ]
  },
  {
   "cell_type": "code",
   "execution_count": null,
   "metadata": {
    "ExecuteTime": {
     "end_time": "2022-02-13T19:10:42.647901Z",
     "start_time": "2022-02-13T19:10:42.643309Z"
    }
   },
   "outputs": [],
   "source": [
    "knn_clf = KNeighborsClassifier()\n",
    "knn_clf.fit(train_data, train_labels)"
   ]
  },
  {
   "cell_type": "code",
   "execution_count": null,
   "metadata": {
    "ExecuteTime": {
     "end_time": "2022-02-13T19:10:42.656323Z",
     "start_time": "2022-02-13T19:10:42.650612Z"
    }
   },
   "outputs": [],
   "source": [
    "from sklearn.metrics import accuracy_score\n",
    "\n",
    "\n",
    "predictions = knn_clf.predict(test_data)\n",
    "accuracy_score(test_labels, predictions)"
   ]
  },
  {
   "cell_type": "code",
   "execution_count": null,
   "metadata": {
    "ExecuteTime": {
     "end_time": "2022-02-13T19:10:42.660794Z",
     "start_time": "2022-02-13T19:10:42.657969Z"
    }
   },
   "outputs": [],
   "source": [
    "predictions"
   ]
  },
  {
   "cell_type": "markdown",
   "metadata": {},
   "source": [
    "### Visualize results\n",
    "\n",
    "We create a grid in data space (2 dimensional in our case), then predict class for each element of this gird and finally color each pixel in grid with class colour.<br>\n",
    "In this way we could see all classifier predictions and estimate complexity and sanity of a model."
   ]
  },
  {
   "cell_type": "code",
   "execution_count": null,
   "metadata": {
    "ExecuteTime": {
     "end_time": "2022-02-13T19:10:42.665494Z",
     "start_time": "2022-02-13T19:10:42.662264Z"
    }
   },
   "outputs": [],
   "source": [
    "def make_meshgrid(\n",
    "    data: np.ndarray,\n",
    "    step: float = 0.05,\n",
    "    border: float = 0.5,\n",
    "):\n",
    "    x, y = data[:, 0], data[:, 1]\n",
    "    x_min, x_max = x.min() - border, x.max() + border\n",
    "    y_min, y_max = y.min() - border, y.max() + border\n",
    "    return np.meshgrid(np.arange(x_min, x_max, step), np.arange(y_min, y_max, step))"
   ]
  },
  {
   "cell_type": "code",
   "execution_count": null,
   "metadata": {
    "ExecuteTime": {
     "end_time": "2022-02-13T19:10:42.672419Z",
     "start_time": "2022-02-13T19:10:42.667018Z"
    }
   },
   "outputs": [],
   "source": [
    "LIGHT_COLORS = ListedColormap((\"lightcoral\", \"lightblue\", \"lightyellow\"))\n",
    "\n",
    "\n",
    "def plot_decision_surface(estimator, train_data, train_labels, test_data, test_labels):\n",
    "    # fit model\n",
    "    estimator.fit(train_data, train_labels)\n",
    "\n",
    "    # create mesh and predict classes for it\n",
    "    xx, yy = make_meshgrid(train_data)\n",
    "    flat_predictions = estimator.predict(np.c_[xx.ravel(), yy.ravel()])\n",
    "    mesh_predictions = flat_predictions.reshape(xx.shape)\n",
    "\n",
    "    # create subplots\n",
    "    fig, axes = plt.subplots(1, 2, figsize=(16, 6))\n",
    "    fig.suptitle(estimator)\n",
    "\n",
    "    # plot decision surface on the train data\n",
    "    axes[0].pcolormesh(xx, yy, mesh_predictions, cmap=LIGHT_COLORS, shading=\"auto\")\n",
    "    axes[0].scatter(train_data[:, 0], train_data[:, 1], s=100, c=train_labels, cmap=COLORS)\n",
    "    train_acc = accuracy_score(train_labels, estimator.predict(train_data))\n",
    "    axes[0].set_title(f\"Train data, accuracy={train_acc:.2f}\")\n",
    "\n",
    "    # plot decision surface on the test data\n",
    "    axes[1].pcolormesh(xx, yy, mesh_predictions, cmap=LIGHT_COLORS, shading=\"auto\")\n",
    "    axes[1].scatter(test_data[:, 0], test_data[:, 1], c=test_labels, s=100, cmap=COLORS)\n",
    "    test_acc = accuracy_score(test_labels, estimator.predict(test_data))\n",
    "    axes[1].set_title(f\"Test data, accuracy={test_acc:.2f}\")\n",
    "\n",
    "    plt.show()"
   ]
  },
  {
   "cell_type": "code",
   "execution_count": null,
   "metadata": {
    "ExecuteTime": {
     "end_time": "2022-02-13T19:10:47.078112Z",
     "start_time": "2022-02-13T19:10:42.673929Z"
    },
    "scrolled": true
   },
   "outputs": [],
   "source": [
    "for n_neighbors in (1, 2, 3, 5, 10, 20, 30, 40):\n",
    "    estimator = KNeighborsClassifier(n_neighbors)\n",
    "\n",
    "    plot_decision_surface(estimator, train_data, train_labels, test_data, test_labels)"
   ]
  },
  {
   "cell_type": "markdown",
   "metadata": {},
   "source": [
    "Seems good!\n",
    "\n",
    "## Harder synthetic problem"
   ]
  },
  {
   "cell_type": "code",
   "execution_count": null,
   "metadata": {
    "ExecuteTime": {
     "end_time": "2022-02-13T19:10:47.083062Z",
     "start_time": "2022-02-13T19:10:47.079593Z"
    }
   },
   "outputs": [],
   "source": [
    "data, labels = make_classification(\n",
    "    n_samples=100,\n",
    "    n_features=100,\n",
    "    n_informative=50,\n",
    "    n_redundant=50,\n",
    "    n_classes=3,\n",
    "    n_clusters_per_class=1,\n",
    "    random_state=42,\n",
    ")"
   ]
  },
  {
   "cell_type": "code",
   "execution_count": null,
   "metadata": {
    "ExecuteTime": {
     "end_time": "2022-02-13T19:10:47.087363Z",
     "start_time": "2022-02-13T19:10:47.084585Z"
    }
   },
   "outputs": [],
   "source": [
    "train_data, test_data, train_labels, test_labels = train_test_split(\n",
    "    data,\n",
    "    labels,\n",
    "    test_size=0.3,\n",
    "    random_state=1,\n",
    ")"
   ]
  },
  {
   "cell_type": "code",
   "execution_count": null,
   "metadata": {
    "ExecuteTime": {
     "end_time": "2022-02-13T19:10:47.092239Z",
     "start_time": "2022-02-13T19:10:47.088673Z"
    }
   },
   "outputs": [],
   "source": [
    "clf = KNeighborsClassifier(n_neighbors=5)\n",
    "clf.fit(train_data, train_labels)"
   ]
  },
  {
   "cell_type": "code",
   "execution_count": null,
   "metadata": {
    "ExecuteTime": {
     "end_time": "2022-02-13T19:10:47.099134Z",
     "start_time": "2022-02-13T19:10:47.093928Z"
    }
   },
   "outputs": [],
   "source": [
    "predictions = clf.predict(test_data)\n",
    "accuracy_score(test_labels, predictions)"
   ]
  },
  {
   "cell_type": "markdown",
   "metadata": {},
   "source": [
    "not so good...\n",
    "\n",
    "### Dimesionality issue"
   ]
  },
  {
   "cell_type": "code",
   "execution_count": null,
   "metadata": {
    "ExecuteTime": {
     "end_time": "2022-02-13T19:10:47.104960Z",
     "start_time": "2022-02-13T19:10:47.100572Z"
    }
   },
   "outputs": [],
   "source": [
    "def knn_vs_dimensionality(n_classes: int, dimensions: tuple):\n",
    "    \"\"\"Generates synthetic dataset of given dimensions and checks knn algorithm on them.\"\"\"\n",
    "    scores = []\n",
    "\n",
    "    for dim in dimensions:\n",
    "        data, labels = make_classification(\n",
    "            n_samples=1000,\n",
    "            n_features=dim,\n",
    "            n_informative=dim // 2,\n",
    "            n_redundant=dim // 2,\n",
    "            n_classes=n_classes,\n",
    "            n_clusters_per_class=1,\n",
    "            random_state=42,\n",
    "        )\n",
    "\n",
    "        train_data, test_data, train_labels, test_labels = train_test_split(\n",
    "            data,\n",
    "            labels,\n",
    "            test_size=0.3,\n",
    "            random_state=1,\n",
    "        )\n",
    "\n",
    "        clf = KNeighborsClassifier(n_neighbors=5)\n",
    "        clf.fit(train_data, train_labels)\n",
    "        predictions = clf.predict(test_data)\n",
    "\n",
    "        acc = accuracy_score(test_labels, predictions)\n",
    "        scores.append(acc)\n",
    "\n",
    "    plt.figure(figsize=(12, 7))\n",
    "    plt.plot(dimensions, scores)\n",
    "    plt.xlabel(\"Data dimensionality\")\n",
    "    plt.ylabel(\"Accuracy\")\n",
    "    plt.grid()\n",
    "    plt.show()"
   ]
  },
  {
   "cell_type": "code",
   "execution_count": null,
   "metadata": {
    "ExecuteTime": {
     "end_time": "2022-02-13T19:10:47.377326Z",
     "start_time": "2022-02-13T19:10:47.106487Z"
    }
   },
   "outputs": [],
   "source": [
    "knn_vs_dimensionality(5, (10, 20, 50, 100, 500, 1000))"
   ]
  },
  {
   "cell_type": "markdown",
   "metadata": {},
   "source": [
    "# Implementation efficiency\n",
    "\n",
    "As we said before there are several ways to find nearest neigbours.<br>\n",
    "`sklearn` implements three of them:\n",
    "\n",
    "- Brute force\n",
    "- KD tree\n",
    "- Ball tree\n",
    "\n",
    "You could read about underlying data structures in [related section of User Guide](https://scikit-learn.org/stable/modules/neighbors.html#nearest-neighbor-algorithms).\n",
    "\n",
    "TODO: consider each implementation training and inference time"
   ]
  },
  {
   "cell_type": "markdown",
   "metadata": {},
   "source": [
    "# Practice area\n",
    "\n",
    "Now let's try and train a simple (or not so) kNN classifier on a more complicated dataset.\n",
    "\n",
    "Widely known [wine dataset](https://archive.ics.uci.edu/ml/datasets/wine) is one of UCI open source datsets.<br>\n",
    "We will use UCI archive number of times during this course."
   ]
  },
  {
   "cell_type": "code",
   "execution_count": null,
   "metadata": {
    "ExecuteTime": {
     "end_time": "2022-02-13T19:10:48.436197Z",
     "start_time": "2022-02-13T19:10:47.379758Z"
    }
   },
   "outputs": [],
   "source": [
    "# download dataset\n",
    "!curl https://archive.ics.uci.edu/ml/machine-learning-databases/wine/wine.data > wine.csv"
   ]
  },
  {
   "cell_type": "code",
   "execution_count": null,
   "metadata": {
    "ExecuteTime": {
     "end_time": "2022-02-13T19:10:48.818673Z",
     "start_time": "2022-02-13T19:10:48.438169Z"
    }
   },
   "outputs": [],
   "source": [
    "import pandas as pd"
   ]
  },
  {
   "cell_type": "code",
   "execution_count": null,
   "metadata": {
    "ExecuteTime": {
     "end_time": "2022-02-13T19:10:48.836188Z",
     "start_time": "2022-02-13T19:10:48.820134Z"
    }
   },
   "outputs": [],
   "source": [
    "dataset = pd.read_csv(\"wine.csv\", header=None)\n",
    "dataset.head()"
   ]
  },
  {
   "cell_type": "code",
   "execution_count": null,
   "metadata": {
    "ExecuteTime": {
     "end_time": "2022-02-13T19:10:48.844457Z",
     "start_time": "2022-02-13T19:10:48.841277Z"
    }
   },
   "outputs": [],
   "source": [
    "X = dataset.drop(0, axis=1).to_numpy()\n",
    "y = dataset[0].to_numpy()"
   ]
  },
  {
   "cell_type": "code",
   "execution_count": null,
   "metadata": {
    "ExecuteTime": {
     "end_time": "2022-02-13T19:10:48.849371Z",
     "start_time": "2022-02-13T19:10:48.846312Z"
    }
   },
   "outputs": [],
   "source": [
    "X_train, X_test, y_train, y_test = train_test_split(X, y, test_size=0.2, random_state=42)\n",
    "\n",
    "print(X_train.shape)\n",
    "print(X_test.shape)"
   ]
  },
  {
   "cell_type": "code",
   "execution_count": null,
   "metadata": {
    "ExecuteTime": {
     "end_time": "2022-02-13T19:10:48.852732Z",
     "start_time": "2022-02-13T19:10:48.851085Z"
    }
   },
   "outputs": [],
   "source": [
    "# YOUR CODE HERE"
   ]
  },
  {
   "cell_type": "markdown",
   "metadata": {},
   "source": [
    "# Bonus area\n",
    "\n",
    "**Those who gets accuracy of at least 0.8 recieves bonus (0.5 max)**"
   ]
  },
  {
   "cell_type": "code",
   "execution_count": null,
   "metadata": {
    "ExecuteTime": {
     "end_time": "2022-02-13T19:10:48.856095Z",
     "start_time": "2022-02-13T19:10:48.854440Z"
    }
   },
   "outputs": [],
   "source": [
    "# YOUR CODE HERE"
   ]
  },
  {
   "cell_type": "markdown",
   "metadata": {},
   "source": [
    "# Credits <a class=\"tocSkip\">\n",
    "\n",
    "Authors: [Radoslav Neychev](https://github.com/neychev), [Vladislav Goncharneko](https://github.com/v-goncharenko)"
   ]
  }
 ],
 "metadata": {
  "anaconda-cloud": {},
  "kernelspec": {
   "display_name": "Python [conda env:ml-mipt]",
   "language": "python",
   "name": "conda-env-ml-mipt-py"
  },
  "language_info": {
   "codemirror_mode": {
    "name": "ipython",
    "version": 3
   },
   "file_extension": ".py",
   "mimetype": "text/x-python",
   "name": "python",
   "nbconvert_exporter": "python",
   "pygments_lexer": "ipython3",
   "version": "3.8.5"
  },
  "toc": {
   "base_numbering": 1,
   "nav_menu": {},
   "number_sections": true,
   "sideBar": true,
   "skip_h1_title": false,
   "title_cell": "Table of Contents",
   "title_sidebar": "Contents",
   "toc_cell": false,
   "toc_position": {},
   "toc_section_display": true,
   "toc_window_display": true
  }
 },
 "nbformat": 4,
 "nbformat_minor": 1
}
