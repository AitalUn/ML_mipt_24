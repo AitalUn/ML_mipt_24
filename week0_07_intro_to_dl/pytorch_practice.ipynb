{
 "cells": [
  {
   "cell_type": "markdown",
   "metadata": {
    "colab_type": "text",
    "id": "-nEtOTFPos11"
   },
   "source": [
    "### What is PyTorch?\n",
    "\n",
    "It’s a Python-based scientific computing package targeted at two sets of audiences:\n",
    "\n",
    "-  A replacement for NumPy to use the power of GPUs\n",
    "-  a deep learning research platform that provides maximum flexibility and speed\n",
    "\n",
    "Getting Started\n",
    "---------------\n",
    "\n",
    "**Tensors**\n",
    "\n",
    "Tensors are similar to NumPy’s ndarrays, with the addition being that\n",
    "Tensors can also be used on a GPU to accelerate computing.\n",
    "\n"
   ]
  },
  {
   "cell_type": "markdown",
   "metadata": {},
   "source": [
    "_Credits: First two parts of this notebook are based on PyTorch official_ [tensor](https://pytorch.org/tutorials/beginner/blitz/tensor_tutorial.html#sphx-glr-beginner-blitz-tensor-tutorial-py) _and_ [autograd](https://pytorch.org/tutorials/beginner/blitz/autograd_tutorial.html#sphx-glr-beginner-blitz-autograd-tutorial-py) _tutorials._"
   ]
  },
  {
   "cell_type": "code",
   "execution_count": null,
   "metadata": {},
   "outputs": [],
   "source": [
    "import torch"
   ]
  },
  {
   "cell_type": "markdown",
   "metadata": {
    "colab_type": "text",
    "id": "y2XO1pKzos17"
   },
   "source": [
    "Construct a 5x3 matrix, uninitialized:\n",
    "\n"
   ]
  },
  {
   "cell_type": "code",
   "execution_count": null,
   "metadata": {
    "ExecuteTime": {
     "end_time": "2021-03-25T07:44:50.031085Z",
     "start_time": "2021-03-25T07:44:50.005970Z"
    },
    "colab": {},
    "colab_type": "code",
    "id": "z4hzsf2Zos2A"
   },
   "outputs": [],
   "source": [
    "x = torch.empty(5, 3)\n",
    "print(x)"
   ]
  },
  {
   "cell_type": "markdown",
   "metadata": {
    "colab_type": "text",
    "id": "s1UXUAyfos2G"
   },
   "source": [
    "Construct a randomly initialized matrix:\n",
    "\n"
   ]
  },
  {
   "cell_type": "code",
   "execution_count": null,
   "metadata": {
    "ExecuteTime": {
     "end_time": "2021-03-25T07:44:50.213418Z",
     "start_time": "2021-03-25T07:44:50.208186Z"
    },
    "colab": {},
    "colab_type": "code",
    "id": "2pZuhVZdos2I"
   },
   "outputs": [],
   "source": [
    "x = torch.rand(5, 3)\n",
    "print(x)"
   ]
  },
  {
   "cell_type": "markdown",
   "metadata": {
    "colab_type": "text",
    "id": "XDuGrzjJos2O"
   },
   "source": [
    "Construct a matrix filled zeros and of dtype long:\n",
    "\n"
   ]
  },
  {
   "cell_type": "code",
   "execution_count": null,
   "metadata": {
    "ExecuteTime": {
     "end_time": "2021-03-25T07:44:50.549516Z",
     "start_time": "2021-03-25T07:44:50.545546Z"
    },
    "colab": {},
    "colab_type": "code",
    "id": "d7RuB4xhos2P"
   },
   "outputs": [],
   "source": [
    "x = torch.zeros(5, 3, dtype=torch.long)\n",
    "print(x)"
   ]
  },
  {
   "cell_type": "markdown",
   "metadata": {
    "colab_type": "text",
    "id": "dh6Esa3Fos2W"
   },
   "source": [
    "Construct a tensor directly from data:\n",
    "\n"
   ]
  },
  {
   "cell_type": "code",
   "execution_count": null,
   "metadata": {
    "ExecuteTime": {
     "end_time": "2021-03-25T07:44:51.299248Z",
     "start_time": "2021-03-25T07:44:51.296532Z"
    },
    "colab": {},
    "colab_type": "code",
    "id": "RnInKPIQos2X"
   },
   "outputs": [],
   "source": [
    "x = torch.tensor([5.5, 3])\n",
    "print(x)"
   ]
  },
  {
   "cell_type": "markdown",
   "metadata": {
    "colab_type": "text",
    "id": "vMJZ3uZQos2q"
   },
   "source": [
    "or create a tensor based on an existing tensor. These methods\n",
    "will reuse properties of the input tensor, e.g. dtype, unless\n",
    "new values are provided by user\n",
    "\n"
   ]
  },
  {
   "cell_type": "code",
   "execution_count": null,
   "metadata": {
    "ExecuteTime": {
     "end_time": "2021-03-25T07:44:52.052262Z",
     "start_time": "2021-03-25T07:44:52.047903Z"
    },
    "colab": {},
    "colab_type": "code",
    "id": "bKfLS4Mios2r"
   },
   "outputs": [],
   "source": [
    "x = x.new_ones(5, 3, dtype=torch.double)  # new_* methods take in sizes\n",
    "print(x)\n",
    "\n",
    "x = torch.randn_like(x, dtype=torch.float)  # override dtype!\n",
    "print(x)  # result has the same size"
   ]
  },
  {
   "cell_type": "code",
   "execution_count": null,
   "metadata": {
    "ExecuteTime": {
     "end_time": "2021-03-25T07:44:53.123766Z",
     "start_time": "2021-03-25T07:44:53.121825Z"
    }
   },
   "outputs": [],
   "source": [
    "import numpy as np"
   ]
  },
  {
   "cell_type": "code",
   "execution_count": null,
   "metadata": {
    "ExecuteTime": {
     "end_time": "2021-03-25T07:44:53.715540Z",
     "start_time": "2021-03-25T07:44:53.568415Z"
    }
   },
   "outputs": [],
   "source": [
    "a = np.random.randint((2, 5))\n",
    "\n",
    "# Create a torch tensor from numpy tensor and cast it to float32 type\n",
    "a_tensor = None  # YOUR CODE HERE\n",
    "\n",
    "assert a_tensor.dtype == torch.float32"
   ]
  },
  {
   "cell_type": "markdown",
   "metadata": {
    "colab_type": "text",
    "id": "cHcJcupjos2u"
   },
   "source": [
    "Get its size:\n",
    "\n"
   ]
  },
  {
   "cell_type": "code",
   "execution_count": null,
   "metadata": {
    "ExecuteTime": {
     "end_time": "2021-03-25T07:45:03.043559Z",
     "start_time": "2021-03-25T07:45:03.041294Z"
    },
    "colab": {},
    "colab_type": "code",
    "id": "glNo_10Kos2v"
   },
   "outputs": [],
   "source": [
    "print(x.size())"
   ]
  },
  {
   "cell_type": "markdown",
   "metadata": {},
   "source": [
    "**Note:** ``torch.Size`` is in fact a tuple, so it supports all tuple operations."
   ]
  },
  {
   "cell_type": "code",
   "execution_count": null,
   "metadata": {
    "ExecuteTime": {
     "end_time": "2021-03-25T07:45:40.913217Z",
     "start_time": "2021-03-25T07:45:40.906379Z"
    }
   },
   "outputs": [],
   "source": [
    "isinstance(x.size(), tuple)"
   ]
  },
  {
   "cell_type": "markdown",
   "metadata": {
    "colab_type": "text",
    "id": "_scE1Qvwos21"
   },
   "source": [
    "#### Operations\n",
    "\n",
    "There are multiple syntaxes for operations. In the following\n",
    "example, we will take a look at the addition operation.\n",
    "\n",
    "Addition: syntax 1"
   ]
  },
  {
   "cell_type": "code",
   "execution_count": null,
   "metadata": {
    "ExecuteTime": {
     "end_time": "2021-03-25T07:47:25.121154Z",
     "start_time": "2021-03-25T07:47:25.115729Z"
    },
    "colab": {},
    "colab_type": "code",
    "id": "luQAJTT9os22"
   },
   "outputs": [],
   "source": [
    "y = torch.rand(5, 3)\n",
    "print(x + y)"
   ]
  },
  {
   "cell_type": "markdown",
   "metadata": {
    "colab_type": "text",
    "id": "e8s8E-Q2os26"
   },
   "source": [
    "Addition: syntax 2\n",
    "\n"
   ]
  },
  {
   "cell_type": "code",
   "execution_count": null,
   "metadata": {
    "ExecuteTime": {
     "end_time": "2021-03-25T07:47:26.319413Z",
     "start_time": "2021-03-25T07:47:26.315562Z"
    },
    "colab": {},
    "colab_type": "code",
    "id": "FLwb3hgyos28"
   },
   "outputs": [],
   "source": [
    "print(torch.add(x, y))"
   ]
  },
  {
   "cell_type": "markdown",
   "metadata": {
    "colab_type": "text",
    "id": "2dItCJmIos2_"
   },
   "source": [
    "Addition: providing an output tensor as argument\n",
    "\n"
   ]
  },
  {
   "cell_type": "code",
   "execution_count": null,
   "metadata": {
    "ExecuteTime": {
     "end_time": "2021-03-25T07:47:34.343508Z",
     "start_time": "2021-03-25T07:47:34.339936Z"
    },
    "colab": {},
    "colab_type": "code",
    "id": "eTXFN-TTos3B"
   },
   "outputs": [],
   "source": [
    "result = torch.empty(5, 3)\n",
    "torch.add(x, y, out=result)\n",
    "print(result)"
   ]
  },
  {
   "cell_type": "markdown",
   "metadata": {
    "colab_type": "text",
    "id": "BmLxccujos3F"
   },
   "source": [
    "Addition: in-place\n",
    "\n"
   ]
  },
  {
   "cell_type": "code",
   "execution_count": null,
   "metadata": {
    "ExecuteTime": {
     "end_time": "2021-03-25T07:47:35.559048Z",
     "start_time": "2021-03-25T07:47:35.555829Z"
    },
    "colab": {},
    "colab_type": "code",
    "id": "udSpL0x0os3H"
   },
   "outputs": [],
   "source": [
    "# adds x to y\n",
    "y.add_(x)\n",
    "print(y)"
   ]
  },
  {
   "cell_type": "markdown",
   "metadata": {
    "colab_type": "text",
    "id": "zqQU0LO0os3M"
   },
   "source": [
    "**Note**\n",
    "\n",
    "Any operation that mutates a tensor in-place is post-fixed with an ``_``.\\\n",
    "For example: ``x.copy_(y)``, ``x.t_()``, will change ``x``.</p></div>\n",
    "\n",
    "You can use standard NumPy-like indexing with all bells and whistles!"
   ]
  },
  {
   "cell_type": "code",
   "execution_count": null,
   "metadata": {
    "ExecuteTime": {
     "end_time": "2021-03-25T07:49:20.923429Z",
     "start_time": "2021-03-25T07:49:20.918350Z"
    },
    "colab": {},
    "colab_type": "code",
    "id": "wcuoNbqOos3Q"
   },
   "outputs": [],
   "source": [
    "print(x[:, 1])"
   ]
  },
  {
   "cell_type": "markdown",
   "metadata": {
    "colab_type": "text",
    "id": "XyKhJ4E8os3U"
   },
   "source": [
    "Resizing: If you want to resize/reshape tensor, you can use ``torch.view``:\n",
    "\n"
   ]
  },
  {
   "cell_type": "code",
   "execution_count": null,
   "metadata": {
    "ExecuteTime": {
     "end_time": "2021-03-25T07:49:24.353702Z",
     "start_time": "2021-03-25T07:49:24.349651Z"
    },
    "colab": {},
    "colab_type": "code",
    "id": "LmCUrv3qos3V"
   },
   "outputs": [],
   "source": [
    "x = torch.randn(4, 4)\n",
    "y = x.view(16)\n",
    "z = x.view(-1, 8)  # the size -1 is inferred from other dimensions\n",
    "print(x.size(), y.size(), z.size())"
   ]
  },
  {
   "cell_type": "markdown",
   "metadata": {
    "colab_type": "text",
    "id": "Srv3YKMMos3Y"
   },
   "source": [
    "If you have a one element tensor, use ``.item()`` to get the value as a\n",
    "Python number\n",
    "\n"
   ]
  },
  {
   "cell_type": "code",
   "execution_count": null,
   "metadata": {
    "ExecuteTime": {
     "end_time": "2021-03-25T07:49:26.216650Z",
     "start_time": "2021-03-25T07:49:26.213200Z"
    },
    "colab": {},
    "colab_type": "code",
    "id": "s13XZt8Cos3Z"
   },
   "outputs": [],
   "source": [
    "x = torch.randn(1)\n",
    "print(x)\n",
    "print(x.item())"
   ]
  },
  {
   "cell_type": "markdown",
   "metadata": {
    "colab_type": "text",
    "id": "orMsQvQAos3c"
   },
   "source": [
    "**Read later:**\n",
    "\n",
    "100+ Tensor operations, including transposing, indexing, slicing,\n",
    "mathematical operations, linear algebra, random numbers, etc.,\n",
    "[are described here](http://pytorch.org/docs/torch)\n",
    "\n",
    "## NumPy Bridge\n",
    "\n",
    "Converting a Torch Tensor to a NumPy array and vice versa is a breeze.\n",
    "\n",
    "The Torch Tensor and NumPy array will share their underlying memory\n",
    "locations, and changing one will change the other.\n",
    "\n",
    "#### Converting a Torch Tensor to a NumPy Array"
   ]
  },
  {
   "cell_type": "code",
   "execution_count": null,
   "metadata": {
    "ExecuteTime": {
     "end_time": "2021-03-25T07:51:14.418778Z",
     "start_time": "2021-03-25T07:51:14.415453Z"
    },
    "colab": {},
    "colab_type": "code",
    "id": "BOdXxb_Vos3d"
   },
   "outputs": [],
   "source": [
    "a = torch.ones(5)\n",
    "print(a)"
   ]
  },
  {
   "cell_type": "code",
   "execution_count": null,
   "metadata": {
    "ExecuteTime": {
     "end_time": "2021-03-25T07:51:15.098804Z",
     "start_time": "2021-03-25T07:51:15.095300Z"
    },
    "colab": {},
    "colab_type": "code",
    "id": "68cPoOiIos3i"
   },
   "outputs": [],
   "source": [
    "b = a.numpy()\n",
    "print(b)"
   ]
  },
  {
   "cell_type": "markdown",
   "metadata": {
    "colab_type": "text",
    "id": "N9q-JAGdos3n"
   },
   "source": [
    "See how the numpy array changed in value.\n",
    "\n"
   ]
  },
  {
   "cell_type": "code",
   "execution_count": null,
   "metadata": {
    "ExecuteTime": {
     "end_time": "2021-03-25T07:51:16.419056Z",
     "start_time": "2021-03-25T07:51:16.415306Z"
    },
    "colab": {},
    "colab_type": "code",
    "id": "0-AYXf1Los3p"
   },
   "outputs": [],
   "source": [
    "a.add_(1)\n",
    "print(a)\n",
    "print(b)"
   ]
  },
  {
   "cell_type": "markdown",
   "metadata": {
    "colab_type": "text",
    "id": "8QtC7o0zos3s"
   },
   "source": [
    "#### Converting NumPy Array to Torch Tensor\n",
    "\n",
    "See how changing the np array changed the Torch Tensor automatically\n",
    "\n"
   ]
  },
  {
   "cell_type": "code",
   "execution_count": null,
   "metadata": {
    "ExecuteTime": {
     "end_time": "2021-03-25T07:51:47.878839Z",
     "start_time": "2021-03-25T07:51:47.874879Z"
    },
    "colab": {},
    "colab_type": "code",
    "id": "MxF1_zXDos3t"
   },
   "outputs": [],
   "source": [
    "a = np.ones(5)\n",
    "b = torch.from_numpy(a)\n",
    "\n",
    "np.add(a, 1, out=a)\n",
    "\n",
    "print(a)\n",
    "print(b)"
   ]
  },
  {
   "cell_type": "markdown",
   "metadata": {
    "colab_type": "text",
    "id": "-w5pWYnaos3w"
   },
   "source": [
    "All the Tensors on the CPU except a CharTensor support converting to\n",
    "NumPy and back.\n",
    "\n",
    "## CUDA Tensors\n",
    "\n",
    "Tensors can be moved onto any device using the ``.to`` method."
   ]
  },
  {
   "cell_type": "code",
   "execution_count": null,
   "metadata": {
    "ExecuteTime": {
     "end_time": "2021-03-25T07:52:48.774481Z",
     "start_time": "2021-03-25T07:52:48.771927Z"
    },
    "colab": {},
    "colab_type": "code",
    "id": "LHW5QuDSos3x"
   },
   "outputs": [],
   "source": [
    "# let us run this cell only if CUDA is available\n",
    "# We will use ``torch.device`` objects to move tensors in and out of GPU\n",
    "if torch.cuda.is_available():\n",
    "    device = torch.device(\"cuda\")  # a CUDA device object\n",
    "    y = torch.ones_like(x, device=device)  # directly create a tensor on GPU\n",
    "    x = x.to(device)  # or just use strings ``.to(\"cuda\")``\n",
    "    z = x + y\n",
    "    print(z)\n",
    "    print(z.to(\"cpu\", torch.double))  # ``.to`` can also change dtype together!"
   ]
  },
  {
   "cell_type": "markdown",
   "metadata": {},
   "source": [
    "# Autograd: Automatic Differentiation\n",
    "\n",
    "Central to all neural networks in PyTorch is the ``autograd`` package.\n",
    "Let’s first briefly visit this, and we will then go to training our\n",
    "first neural network.\n",
    "\n",
    "\n",
    "The ``autograd`` package provides automatic differentiation for all operations\n",
    "on Tensors. It is a define-by-run framework, which means that your backprop is\n",
    "defined by how your code is run, and that every single iteration can be\n",
    "different.\n",
    "\n",
    "Let us see this in more simple terms with some examples.\n",
    "\n",
    "## Tensor\n",
    "\n",
    "``torch.Tensor`` is the central class of the package. If you set its attribute\n",
    "``.requires_grad`` as ``True``, it starts to track all operations on it. When\n",
    "you finish your computation you can call ``.backward()`` and have all the\n",
    "gradients computed automatically. The gradient for this tensor will be\n",
    "accumulated into ``.grad`` attribute.\n",
    "\n",
    "To stop a tensor from tracking history, you can call ``.detach()`` to detach\n",
    "it from the computation history, and to prevent future computation from being\n",
    "tracked.\n",
    "\n",
    "To prevent tracking history (and using memory), you can also wrap the code block\n",
    "in ``with torch.no_grad():``. This can be particularly helpful when evaluating a\n",
    "model because the model may have trainable parameters with `requires_grad=True`,\n",
    "but for which we don't need the gradients.\n",
    "\n",
    "There’s one more class which is very important for autograd\n",
    "implementation - a ``Function``.\n",
    "\n",
    "``Tensor`` and ``Function`` are interconnected and build up an acyclic\n",
    "graph, that encodes a complete history of computation. Each tensor has\n",
    "a ``.grad_fn`` attribute that references a ``Function`` that has created\n",
    "the ``Tensor`` (except for Tensors created by the user - their\n",
    "``grad_fn is None``).\n",
    "\n",
    "If you want to compute the derivatives, you can call ``.backward()`` on\n",
    "a ``Tensor``. If ``Tensor`` is a scalar (i.e. it holds a one element\n",
    "data), you don’t need to specify any arguments to ``backward()``,\n",
    "however if it has more elements, you need to specify a ``gradient``\n",
    "argument that is a tensor of matching shape.\n",
    "\n"
   ]
  },
  {
   "cell_type": "markdown",
   "metadata": {},
   "source": [
    "Create a tensor and set requires_grad=True to track computation with it\n",
    "\n"
   ]
  },
  {
   "cell_type": "code",
   "execution_count": null,
   "metadata": {
    "ExecuteTime": {
     "end_time": "2021-03-25T07:54:22.121198Z",
     "start_time": "2021-03-25T07:54:22.118180Z"
    }
   },
   "outputs": [],
   "source": [
    "x = torch.ones(2, 2, requires_grad=True)\n",
    "print(x)"
   ]
  },
  {
   "cell_type": "markdown",
   "metadata": {},
   "source": [
    "Do an operation of tensor:\n",
    "\n"
   ]
  },
  {
   "cell_type": "code",
   "execution_count": null,
   "metadata": {
    "ExecuteTime": {
     "end_time": "2021-03-25T07:54:23.068686Z",
     "start_time": "2021-03-25T07:54:23.063505Z"
    }
   },
   "outputs": [],
   "source": [
    "y = x + 2\n",
    "print(y)"
   ]
  },
  {
   "cell_type": "markdown",
   "metadata": {},
   "source": [
    "``y`` was created as a result of an operation, so it has a ``grad_fn``.\n",
    "\n"
   ]
  },
  {
   "cell_type": "code",
   "execution_count": null,
   "metadata": {
    "ExecuteTime": {
     "end_time": "2021-03-25T07:54:24.218277Z",
     "start_time": "2021-03-25T07:54:24.215937Z"
    }
   },
   "outputs": [],
   "source": [
    "print(y.grad_fn)"
   ]
  },
  {
   "cell_type": "markdown",
   "metadata": {},
   "source": [
    "Do more operations on y"
   ]
  },
  {
   "cell_type": "code",
   "execution_count": null,
   "metadata": {
    "ExecuteTime": {
     "end_time": "2021-03-25T07:54:27.885352Z",
     "start_time": "2021-03-25T07:54:27.877905Z"
    }
   },
   "outputs": [],
   "source": [
    "z = y * y * 3\n",
    "out = z.mean()\n",
    "\n",
    "print(z, out)"
   ]
  },
  {
   "cell_type": "markdown",
   "metadata": {},
   "source": [
    "``.requires_grad_( ... )`` changes an existing Tensor's ``requires_grad``\n",
    "flag in-place. The input flag defaults to ``False`` if not given.\n",
    "\n"
   ]
  },
  {
   "cell_type": "code",
   "execution_count": null,
   "metadata": {
    "ExecuteTime": {
     "end_time": "2021-03-25T07:54:33.675595Z",
     "start_time": "2021-03-25T07:54:33.671007Z"
    }
   },
   "outputs": [],
   "source": [
    "a = torch.randn(2, 2)\n",
    "a = (a * 3) / (a - 1)\n",
    "print(a.requires_grad)\n",
    "\n",
    "a.requires_grad_(True)\n",
    "print(a.requires_grad)\n",
    "\n",
    "b = (a * a).sum()\n",
    "print(b.grad_fn)"
   ]
  },
  {
   "cell_type": "markdown",
   "metadata": {},
   "source": [
    "Gradients\n",
    "---------\n",
    "Let's backprop now\n",
    "Because ``out`` contains a single scalar, ``out.backward()`` is\n",
    "equivalent to ``out.backward(torch.tensor(1))``.\n",
    "\n"
   ]
  },
  {
   "cell_type": "code",
   "execution_count": null,
   "metadata": {
    "ExecuteTime": {
     "end_time": "2021-03-25T07:59:19.505356Z",
     "start_time": "2021-03-25T07:59:19.495444Z"
    }
   },
   "outputs": [],
   "source": [
    "out.backward()"
   ]
  },
  {
   "cell_type": "markdown",
   "metadata": {},
   "source": [
    "print gradients d(out)/dx\n",
    "\n",
    "\n"
   ]
  },
  {
   "cell_type": "code",
   "execution_count": null,
   "metadata": {
    "ExecuteTime": {
     "end_time": "2021-03-25T07:59:20.529072Z",
     "start_time": "2021-03-25T07:59:20.525327Z"
    }
   },
   "outputs": [],
   "source": [
    "print(x.grad)"
   ]
  },
  {
   "cell_type": "markdown",
   "metadata": {},
   "source": [
    "You should have got a matrix of ``4.5``. Let’s call the ``out``\n",
    "*Tensor* “$o$”.\n",
    "We have that \n",
    "$$o = \\frac{1}{4}\\sum_i z_i,$$\n",
    "\n",
    "$$z_i = 3(x_i+2)^2,$$\n",
    "$$z_i|_{x_i=1} = 27$$\n",
    "\n",
    "Therefore,\n"
   ]
  },
  {
   "cell_type": "markdown",
   "metadata": {},
   "source": [
    "$$\\frac{\\partial o}{\\partial x_i} = \\frac{3}{2}(x_i+2),$$"
   ]
  },
  {
   "cell_type": "markdown",
   "metadata": {},
   "source": [
    "$$\\frac{\\partial o}{\\partial x_i}\\bigr\\rvert_{x_i=1} = \\frac{9}{2} = 4.5$$\n"
   ]
  },
  {
   "cell_type": "markdown",
   "metadata": {},
   "source": [
    "\n",
    "\n",
    "You can do many crazy things with autograd!\n",
    "\n"
   ]
  },
  {
   "cell_type": "code",
   "execution_count": null,
   "metadata": {
    "ExecuteTime": {
     "end_time": "2021-03-25T07:59:24.837999Z",
     "start_time": "2021-03-25T07:59:24.829629Z"
    }
   },
   "outputs": [],
   "source": [
    "x = torch.randn(3, requires_grad=True)\n",
    "\n",
    "y = x * 2\n",
    "while y.data.norm() < 1000:\n",
    "    y = y * 2\n",
    "\n",
    "print(y)"
   ]
  },
  {
   "cell_type": "code",
   "execution_count": null,
   "metadata": {
    "ExecuteTime": {
     "end_time": "2021-03-25T07:59:30.795788Z",
     "start_time": "2021-03-25T07:59:30.791645Z"
    }
   },
   "outputs": [],
   "source": [
    "gradients = torch.tensor([0.1, 1.0, 0.0001], dtype=torch.float)\n",
    "y.backward(gradients)\n",
    "\n",
    "print(x.grad)"
   ]
  },
  {
   "cell_type": "markdown",
   "metadata": {},
   "source": [
    "You can also stop autograd from tracking history on Tensors\n",
    "with ``.requires_grad=True`` by wrapping the code block in\n",
    "``with torch.no_grad()``:\n",
    "\n"
   ]
  },
  {
   "cell_type": "code",
   "execution_count": null,
   "metadata": {
    "ExecuteTime": {
     "end_time": "2021-03-25T07:59:32.483343Z",
     "start_time": "2021-03-25T07:59:32.476923Z"
    }
   },
   "outputs": [],
   "source": [
    "print(x.requires_grad)\n",
    "print((x ** 2).requires_grad)\n",
    "\n",
    "with torch.no_grad():\n",
    "    print((x ** 2).requires_grad)"
   ]
  },
  {
   "cell_type": "markdown",
   "metadata": {},
   "source": [
    "**Read Later:**\n",
    "\n",
    "* Documentation of ``autograd`` and ``Function`` is at http://pytorch.org/docs/autograd\n",
    "* Methods to visualize graph: [Netron](https://github.com/lutzroeder/Netron), [hiddenlayer](https://github.com/waleedka/hiddenlayer), [pytorchviz](https://github.com/szagoruyko/pytorchviz)\n"
   ]
  },
  {
   "cell_type": "markdown",
   "metadata": {},
   "source": [
    "### Dealing with the familiar task\n",
    "Now we will tackle the same car classification problem with new techniques: neural networks. Let's get started"
   ]
  },
  {
   "cell_type": "code",
   "execution_count": null,
   "metadata": {
    "ExecuteTime": {
     "end_time": "2021-03-25T08:02:34.418334Z",
     "start_time": "2021-03-25T08:02:34.088251Z"
    }
   },
   "outputs": [],
   "source": [
    "import pandas as pd"
   ]
  },
  {
   "cell_type": "code",
   "execution_count": null,
   "metadata": {
    "ExecuteTime": {
     "end_time": "2021-03-25T08:02:36.997378Z",
     "start_time": "2021-03-25T08:02:35.025671Z"
    }
   },
   "outputs": [],
   "source": [
    "import matplotlib.pyplot as plt\n",
    "import numpy as np\n",
    "import pandas as pd\n",
    "from sklearn.model_selection import train_test_split\n",
    "\n",
    "\n",
    "try:\n",
    "    dataset = pd.read_csv(\n",
    "        \"../homeworks/hw01_classification/car_data.csv\", delimiter=\",\", header=None\n",
    "    ).values\n",
    "except FileNotFoundError:\n",
    "    !wget https://raw.githubusercontent.com/girafe-ai/ml-course/23f_ptml/homeworks/hw01_classification/car_data.csv\n",
    "    dataset = pd.read_csv(\"car_data.csv\", delimiter=\",\", header=None).values"
   ]
  },
  {
   "cell_type": "code",
   "execution_count": null,
   "metadata": {
    "ExecuteTime": {
     "end_time": "2021-03-25T08:03:00.698385Z",
     "start_time": "2021-03-25T08:03:00.691096Z"
    }
   },
   "outputs": [],
   "source": [
    "data = dataset[:, :-1].astype(int)\n",
    "target = dataset[:, -1]\n",
    "\n",
    "print(data.shape, target.shape)\n",
    "\n",
    "X_train, X_test, y_train_raw, y_test_raw = train_test_split(data, target, test_size=0.15)\n",
    "print(X_train.shape, y_train_raw.shape, X_test.shape, y_test_raw.shape)"
   ]
  },
  {
   "cell_type": "markdown",
   "metadata": {},
   "source": [
    "Now we need to map all the class labels to numbers. PyTorch does not like non-numeric labels."
   ]
  },
  {
   "cell_type": "code",
   "execution_count": null,
   "metadata": {
    "ExecuteTime": {
     "end_time": "2021-03-25T08:03:01.902565Z",
     "start_time": "2021-03-25T08:03:01.898700Z"
    }
   },
   "outputs": [],
   "source": [
    "mapper = {x: idx for idx, x in enumerate(np.unique(y_train_raw))}\n",
    "y_train = np.array([mapper[y] for y in y_train_raw])\n",
    "y_test = np.array([mapper[y] for y in y_test_raw])"
   ]
  },
  {
   "cell_type": "markdown",
   "metadata": {},
   "source": [
    "And let's preprocess the feature matrices as well"
   ]
  },
  {
   "cell_type": "code",
   "execution_count": null,
   "metadata": {
    "ExecuteTime": {
     "end_time": "2021-03-25T08:03:07.488277Z",
     "start_time": "2021-03-25T08:03:07.482541Z"
    }
   },
   "outputs": [],
   "source": [
    "from sklearn.preprocessing import StandardScaler\n",
    "\n",
    "\n",
    "scaler = StandardScaler().fit(X_train.astype(float))\n",
    "\n",
    "X_train_scaled = scaler.transform(X_train.astype(float))\n",
    "X_test_scaled = scaler.transform(X_test.astype(float))"
   ]
  },
  {
   "cell_type": "code",
   "execution_count": null,
   "metadata": {},
   "outputs": [],
   "source": [
    "# !pip install torchsummary"
   ]
  },
  {
   "cell_type": "code",
   "execution_count": null,
   "metadata": {
    "ExecuteTime": {
     "end_time": "2021-03-25T08:03:13.471438Z",
     "start_time": "2021-03-25T08:03:13.466301Z"
    }
   },
   "outputs": [],
   "source": [
    "import torch\n",
    "import torchsummary\n",
    "from torch import nn\n",
    "from torch.nn import functional as F"
   ]
  },
  {
   "cell_type": "code",
   "execution_count": null,
   "metadata": {},
   "outputs": [],
   "source": [
    "import scikitplot\n",
    "from sklearn.metrics import accuracy_score, f1_score"
   ]
  },
  {
   "cell_type": "markdown",
   "metadata": {},
   "source": [
    "Here comes your first model, simple multiclass logistic regression"
   ]
  },
  {
   "cell_type": "code",
   "execution_count": null,
   "metadata": {
    "ExecuteTime": {
     "end_time": "2021-03-25T08:03:17.115064Z",
     "start_time": "2021-03-25T08:03:17.112511Z"
    }
   },
   "outputs": [],
   "source": [
    "model = nn.Sequential()\n",
    "model.add_module(\"l1\", nn.Linear(19, 4))\n",
    "model.add_module(\"a1\", nn.LogSoftmax(dim=1))"
   ]
  },
  {
   "cell_type": "code",
   "execution_count": null,
   "metadata": {
    "ExecuteTime": {
     "end_time": "2021-03-25T08:03:17.684328Z",
     "start_time": "2021-03-25T08:03:17.656443Z"
    }
   },
   "outputs": [],
   "source": [
    "torchsummary.summary(model, (19,))"
   ]
  },
  {
   "cell_type": "markdown",
   "metadata": {},
   "source": [
    "We define the optimizer (it's named Adam, we will discuss it tomorrow. You can treat it as SGD with some bells and whistles)"
   ]
  },
  {
   "cell_type": "code",
   "execution_count": null,
   "metadata": {
    "ExecuteTime": {
     "end_time": "2021-03-25T08:03:35.684563Z",
     "start_time": "2021-03-25T08:03:35.682609Z"
    }
   },
   "outputs": [],
   "source": [
    "opt = torch.optim.Adam(model.parameters())"
   ]
  },
  {
   "cell_type": "markdown",
   "metadata": {},
   "source": [
    "And here comes the loss function as well. `nn.CrossEntropyLoss` combines both log-softmax and "
   ]
  },
  {
   "cell_type": "code",
   "execution_count": null,
   "metadata": {
    "ExecuteTime": {
     "end_time": "2021-03-25T08:03:36.554954Z",
     "start_time": "2021-03-25T08:03:36.553203Z"
    }
   },
   "outputs": [],
   "source": [
    "loss_function = nn.NLLLoss()"
   ]
  },
  {
   "cell_type": "code",
   "execution_count": null,
   "metadata": {
    "ExecuteTime": {
     "end_time": "2021-03-25T08:03:36.931586Z",
     "start_time": "2021-03-25T08:03:36.928944Z"
    }
   },
   "outputs": [],
   "source": [
    "X_train_torch = torch.tensor(X_train_scaled, dtype=torch.float32)\n",
    "X_test_torch = torch.tensor(X_test_scaled, dtype=torch.float32)\n",
    "\n",
    "y_train_torch = torch.tensor(y_train, dtype=torch.long)\n",
    "y_test_torch = torch.tensor(y_test, dtype=torch.long)"
   ]
  },
  {
   "cell_type": "code",
   "execution_count": null,
   "metadata": {
    "ExecuteTime": {
     "end_time": "2021-03-25T08:03:37.558971Z",
     "start_time": "2021-03-25T08:03:37.553100Z"
    }
   },
   "outputs": [],
   "source": [
    "# example loss\n",
    "loss_function(model(X_train_torch[:3]), y_train_torch[:3])"
   ]
  },
  {
   "cell_type": "code",
   "execution_count": null,
   "metadata": {
    "ExecuteTime": {
     "end_time": "2021-03-25T08:03:38.322632Z",
     "start_time": "2021-03-25T08:03:38.201020Z"
    }
   },
   "outputs": [],
   "source": [
    "history = []\n",
    "\n",
    "for i in range(1000):\n",
    "    # sample 128 random observations\n",
    "    ix = np.random.randint(0, len(X_train), 256)\n",
    "    x_batch = X_train_torch[ix]\n",
    "    y_batch = y_train_torch[ix]\n",
    "\n",
    "    # predict \n",
    "    y_predicted = model(x_batch)\n",
    "\n",
    "    # compute loss, just like before\n",
    "    loss = loss_function(y_predicted, y_batch)\n",
    "\n",
    "    # compute gradients\n",
    "    loss.backward()\n",
    "\n",
    "    # Adam step\n",
    "    opt.step()\n",
    "\n",
    "    # clear gradients\n",
    "    opt.zero_grad()\n",
    "\n",
    "    history.append(loss.data.numpy())\n",
    "\n",
    "    if i % 50 == 0:\n",
    "        print(\n",
    "            \"step #{} | mean loss = {:.5}, test accuracy = {:.5}\".format(\n",
    "                i,\n",
    "                np.mean(history[-10:]),\n",
    "                accuracy_score(y_test, model(X_test_torch).detach().numpy().argmax(axis=1)),\n",
    "            )\n",
    "        )"
   ]
  },
  {
   "cell_type": "markdown",
   "metadata": {},
   "source": [
    "Now we get the predictions"
   ]
  },
  {
   "cell_type": "code",
   "execution_count": null,
   "metadata": {
    "ExecuteTime": {
     "end_time": "2021-03-25T08:03:59.367866Z",
     "start_time": "2021-03-25T08:03:59.363750Z"
    }
   },
   "outputs": [],
   "source": [
    "y_predicted_train = model(torch.from_numpy(X_train_scaled).type(torch.float32)).detach().numpy()\n",
    "y_predicted_test = model(torch.from_numpy(X_test_scaled).type(torch.float32)).detach().numpy()"
   ]
  },
  {
   "cell_type": "code",
   "execution_count": null,
   "metadata": {
    "ExecuteTime": {
     "end_time": "2021-03-25T08:05:28.426245Z",
     "start_time": "2021-03-25T08:05:28.419274Z"
    }
   },
   "outputs": [],
   "source": [
    "print(\n",
    "    \"Accuracy train: {}\\nAccuracy  test: {}\\nf1 train: {}\\nf1 test: {}\".format(\n",
    "        accuracy_score(y_train, np.argmax(y_predicted_train, axis=1)),\n",
    "        accuracy_score(y_test, np.argmax(y_predicted_test, axis=1)),\n",
    "        f1_score(y_train, np.argmax(y_predicted_train, axis=1), average=\"macro\"),\n",
    "        f1_score(y_test, np.argmax(y_predicted_test, axis=1), average=\"macro\"),\n",
    "    )\n",
    ")"
   ]
  },
  {
   "cell_type": "code",
   "execution_count": null,
   "metadata": {
    "ExecuteTime": {
     "end_time": "2021-03-25T08:05:30.242852Z",
     "start_time": "2021-03-25T08:05:30.235373Z"
    }
   },
   "outputs": [],
   "source": [
    "print(\n",
    "    \"Accuracy train: {}\\nAccuracy  test: {}\\nf1 train: {}\\nf1 test: {}\".format(\n",
    "        accuracy_score(y_train, np.argmax(y_predicted_train, axis=1)),\n",
    "        accuracy_score(y_test, np.argmax(y_predicted_test, axis=1)),\n",
    "        f1_score(y_train, np.argmax(y_predicted_train, axis=1), average=\"weighted\"),\n",
    "        f1_score(y_test, np.argmax(y_predicted_test, axis=1), average=\"weighted\"),\n",
    "    )\n",
    ")"
   ]
  },
  {
   "cell_type": "code",
   "execution_count": null,
   "metadata": {
    "ExecuteTime": {
     "end_time": "2021-03-25T08:05:31.057348Z",
     "start_time": "2021-03-25T08:05:30.756125Z"
    }
   },
   "outputs": [],
   "source": [
    "scikitplot.metrics.plot_roc(y_test, y_predicted_test)"
   ]
  },
  {
   "cell_type": "markdown",
   "metadata": {},
   "source": [
    "__Not that good, yeah? Let's get back and make it really work__"
   ]
  },
  {
   "cell_type": "markdown",
   "metadata": {},
   "source": [
    "### More complex stuff: MNIST"
   ]
  },
  {
   "cell_type": "code",
   "execution_count": null,
   "metadata": {},
   "outputs": [],
   "source": [
    "from torchvision.datasets import MNIST # or FashionMNIST\n",
    "from torchvision import transforms\n",
    "from torch.utils.data import DataLoader, Subset"
   ]
  },
  {
   "cell_type": "code",
   "execution_count": null,
   "metadata": {},
   "outputs": [],
   "source": [
    "dataset = MNIST('.', download=True, transform=transforms.ToTensor())"
   ]
  },
  {
   "cell_type": "code",
   "execution_count": null,
   "metadata": {},
   "outputs": [],
   "source": [
    "train_indices = np.random.choice(np.arange(len(dataset)), size=int(len(dataset)*0.75), replace=False)\n",
    "test_indices = np.array(list(set(np.arange(len(dataset))) - set(train_indices)))"
   ]
  },
  {
   "cell_type": "code",
   "execution_count": null,
   "metadata": {},
   "outputs": [],
   "source": [
    "train_data = Subset(dataset, indices=train_indices)\n",
    "test_data = Subset(dataset, indices=test_indices)"
   ]
  },
  {
   "cell_type": "code",
   "execution_count": null,
   "metadata": {},
   "outputs": [],
   "source": [
    "batch_size = 32\n",
    "train_dataloader = DataLoader(train_data, batch_size=batch_size, shuffle=True)\n",
    "test_dataloader = DataLoader(test_data, batch_size=batch_size, shuffle=False)"
   ]
  },
  {
   "cell_type": "code",
   "execution_count": null,
   "metadata": {},
   "outputs": [],
   "source": [
    "print(\"Train size = %i, test_size = %i\" % (len(train_data), len(test_data)))"
   ]
  },
  {
   "cell_type": "code",
   "execution_count": null,
   "metadata": {},
   "outputs": [],
   "source": [
    "image, label = train_data[0]\n",
    "plt.imshow(image.reshape([28, 28]))\n",
    "plt.title(str(label))"
   ]
  },
  {
   "cell_type": "code",
   "execution_count": null,
   "metadata": {},
   "outputs": [],
   "source": [
    "# Your turn: create a multiclass classifier in here for MNIST dataset."
   ]
  },
  {
   "cell_type": "code",
   "execution_count": null,
   "metadata": {},
   "outputs": [],
   "source": [
    "# create a network that stacks layers on top of each other\n",
    "model = nn.Sequential()\n",
    "\n",
    "model.add_module(\n",
    "    \"linear_1\",\n",
    ")  # YOUR CODE HERE)\n",
    "model.add_module(\n",
    "    \"activation_1\",\n",
    ")  # YOUR CODE HERE)"
   ]
  },
  {
   "cell_type": "markdown",
   "metadata": {},
   "source": [
    "Take a look at the model structure:"
   ]
  },
  {
   "cell_type": "code",
   "execution_count": null,
   "metadata": {},
   "outputs": [],
   "source": [
    "torchsummary.summary(model)"
   ]
  },
  {
   "cell_type": "markdown",
   "metadata": {},
   "source": [
    "Let's check that everything works correctly:"
   ]
  },
  {
   "cell_type": "code",
   "execution_count": null,
   "metadata": {},
   "outputs": [],
   "source": [
    "# create dummy data with 3 samples and 784 features\n",
    "x, y = next(iter(train_dataloader))\n",
    "x = x.view((batch_size, -1)) # reshape to vector"
   ]
  },
  {
   "cell_type": "markdown",
   "metadata": {},
   "source": [
    "Let's call the loss function from `torch.nn`."
   ]
  },
  {
   "cell_type": "code",
   "execution_count": null,
   "metadata": {},
   "outputs": [],
   "source": [
    "loss_function = nn.CrossEntropyLoss()"
   ]
  },
  {
   "cell_type": "markdown",
   "metadata": {},
   "source": [
    "Define some optimizer for your model parameters:"
   ]
  },
  {
   "cell_type": "code",
   "execution_count": null,
   "metadata": {},
   "outputs": [],
   "source": [
    "opt = None  # YOUR CODE HERE"
   ]
  },
  {
   "cell_type": "markdown",
   "metadata": {},
   "source": [
    "Compute the loss for some batch of objects:"
   ]
  },
  {
   "cell_type": "code",
   "execution_count": null,
   "metadata": {},
   "outputs": [],
   "source": [
    "loss = None  # YOUR CODE HERE"
   ]
  },
  {
   "cell_type": "markdown",
   "metadata": {},
   "source": [
    "Do a backward pass and optimizator step:"
   ]
  },
  {
   "cell_type": "code",
   "execution_count": null,
   "metadata": {},
   "outputs": [],
   "source": [
    "# YOUR CODE HERE"
   ]
  },
  {
   "cell_type": "markdown",
   "metadata": {},
   "source": [
    "Finally, implement the optimization pipeline and monitor the model quality during the optimization."
   ]
  },
  {
   "cell_type": "code",
   "execution_count": null,
   "metadata": {},
   "outputs": [],
   "source": [
    "# YOUR CODE HERE"
   ]
  }
 ],
 "metadata": {
  "colab": {
   "name": "tensor_tutorial.ipynb",
   "provenance": []
  },
  "interpreter": {
   "hash": "71d0ee483b9ae8cbda3f05a3a71b81e1161707edf66941f7b5004075f2c398b6"
  },
  "kernelspec": {
   "display_name": "Python [conda env:ml-mipt]",
   "language": "python",
   "name": "python3"
  },
  "language_info": {
   "codemirror_mode": {
    "name": "ipython",
    "version": 3
   },
   "file_extension": ".py",
   "mimetype": "text/x-python",
   "name": "python",
   "nbconvert_exporter": "python",
   "pygments_lexer": "ipython3",
   "version": "3.9.7"
  },
  "toc": {
   "base_numbering": 1,
   "nav_menu": {},
   "number_sections": true,
   "sideBar": true,
   "skip_h1_title": false,
   "title_cell": "Table of Contents",
   "title_sidebar": "Contents",
   "toc_cell": false,
   "toc_position": {},
   "toc_section_display": true,
   "toc_window_display": true
  }
 },
 "nbformat": 4,
 "nbformat_minor": 1
}
