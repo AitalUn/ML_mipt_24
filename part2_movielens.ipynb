{
 "cells": [
  {
   "cell_type": "markdown",
   "metadata": {
    "id": "aNefBwu1VA7M"
   },
   "source": [
    "# Рекомендательная система на базе датасета **movielens**"
   ]
  },
  {
   "cell_type": "markdown",
   "metadata": {
    "id": "59_iZqNkVA7S"
   },
   "source": [
    "Один из наиболее известных датасетов в мире рекомендательных систем - Movielens 25M, содержащий рейтинги к фильмам, оставленные различными пользователями на одноименном сайте https://movielens.org/.\n",
    "\n",
    "Мы будем использовать мини-версию датасета, содержащую 100 тысяч записей рейтингов фильмов."
   ]
  },
  {
   "cell_type": "markdown",
   "metadata": {
    "id": "7MTzoxulVA7V"
   },
   "source": [
    "## Загрузка данных"
   ]
  },
  {
   "cell_type": "markdown",
   "metadata": {
    "id": "I5fvYqJDVA7X"
   },
   "source": [
    "Для создания алгоритмов рекомендательной системы, будем использовать библиотеку **surprise**."
   ]
  },
  {
   "cell_type": "markdown",
   "metadata": {
    "id": "rt05w2p2VA7Z"
   },
   "source": [
    "Установим её, если она ещё не установлена на компьютер."
   ]
  },
  {
   "cell_type": "code",
   "execution_count": null,
   "metadata": {
    "ExecuteTime": {
     "end_time": "2021-05-19T21:44:04.713021Z",
     "start_time": "2021-05-19T21:43:39.695307Z"
    },
    "colab": {
     "base_uri": "https://localhost:8080/"
    },
    "id": "jZ0JToZrVA7c",
    "outputId": "e42119a5-c23a-4285-9569-c5d677b5a064"
   },
   "outputs": [
    {
     "name": "stdout",
     "output_type": "stream",
     "text": [
      "Collecting scikit-surprise\n",
      "  Downloading scikit-surprise-1.1.1.tar.gz (11.8 MB)\n",
      "\u001b[K     |████████████████████████████████| 11.8 MB 50 kB/s \n",
      "\u001b[?25hRequirement already satisfied: joblib>=0.11 in /usr/local/lib/python3.7/dist-packages (from scikit-surprise) (1.0.1)\n",
      "Requirement already satisfied: numpy>=1.11.2 in /usr/local/lib/python3.7/dist-packages (from scikit-surprise) (1.19.5)\n",
      "Requirement already satisfied: scipy>=1.0.0 in /usr/local/lib/python3.7/dist-packages (from scikit-surprise) (1.4.1)\n",
      "Requirement already satisfied: six>=1.10.0 in /usr/local/lib/python3.7/dist-packages (from scikit-surprise) (1.15.0)\n",
      "Building wheels for collected packages: scikit-surprise\n",
      "  Building wheel for scikit-surprise (setup.py) ... \u001b[?25l\u001b[?25hdone\n",
      "  Created wheel for scikit-surprise: filename=scikit_surprise-1.1.1-cp37-cp37m-linux_x86_64.whl size=1619402 sha256=878925805aa3f4c03d45b5bd0d1b75045bd98710c8dc008207f414f6e7de1781\n",
      "  Stored in directory: /root/.cache/pip/wheels/76/44/74/b498c42be47b2406bd27994e16c5188e337c657025ab400c1c\n",
      "Successfully built scikit-surprise\n",
      "Installing collected packages: scikit-surprise\n",
      "Successfully installed scikit-surprise-1.1.1\n"
     ]
    }
   ],
   "source": [
    "!pip install scikit-surprise"
   ]
  },
  {
   "cell_type": "code",
   "execution_count": null,
   "metadata": {
    "ExecuteTime": {
     "end_time": "2021-05-19T21:44:06.029598Z",
     "start_time": "2021-05-19T21:44:04.717362Z"
    },
    "id": "jpq1v5WTVA7n"
   },
   "outputs": [],
   "source": [
    "from surprise import Dataset"
   ]
  },
  {
   "cell_type": "markdown",
   "metadata": {
    "id": "78r_pDDhVA7v"
   },
   "source": [
    "Загружаем датасет из **surprise**"
   ]
  },
  {
   "cell_type": "code",
   "execution_count": null,
   "metadata": {
    "ExecuteTime": {
     "end_time": "2021-05-19T21:44:54.051477Z",
     "start_time": "2021-05-19T21:44:52.353186Z"
    },
    "colab": {
     "base_uri": "https://localhost:8080/"
    },
    "id": "1eJDcXYDVA7x",
    "outputId": "19e461e0-ce2c-420a-d451-a1e00a2ef287"
   },
   "outputs": [
    {
     "name": "stdout",
     "output_type": "stream",
     "text": [
      "Trying to download dataset from http://files.grouplens.org/datasets/movielens/ml-100k.zip...\n",
      "Done! Dataset ml-100k has been saved to /root/.surprise_data/ml-100k\n"
     ]
    }
   ],
   "source": [
    "data = Dataset.load_builtin(\"ml-100k\", prompt=False)"
   ]
  },
  {
   "cell_type": "markdown",
   "metadata": {
    "ExecuteTime": {
     "end_time": "2021-05-19T22:12:49.230638Z",
     "start_time": "2021-05-19T22:12:49.225985Z"
    },
    "id": "HU856k6FpwjA"
   },
   "source": [
    "**Замечание для любителей настоящих данных**\n",
    "\n",
    "Вы можете попробовать загрузить полную верисю датасета (`'ml-1m'`) и попробовать сделать задание на нём.\n",
    "\n",
    "Но вычисления будут занимать большее количество времени (и требовать некоторого железа).\n",
    "\n",
    "За использование расширенного датасета не будет бонусов в оценке (да и результатах по большей части тоже) - только ваш энтузиазм."
   ]
  },
  {
   "cell_type": "markdown",
   "metadata": {
    "id": "M7FSaRcPVA74"
   },
   "source": [
    "## Визуализация данных"
   ]
  },
  {
   "cell_type": "markdown",
   "metadata": {
    "id": "_xcR-N4kVA76"
   },
   "source": [
    "Для удобной работы с данными загрузим библиотеку **pandas**"
   ]
  },
  {
   "cell_type": "code",
   "execution_count": null,
   "metadata": {
    "ExecuteTime": {
     "end_time": "2021-05-19T21:45:10.083388Z",
     "start_time": "2021-05-19T21:45:09.808012Z"
    },
    "id": "IbXPCvMzVA78"
   },
   "outputs": [],
   "source": [
    "import pandas as pd"
   ]
  },
  {
   "cell_type": "markdown",
   "metadata": {
    "id": "cBXvcnFRVA8J"
   },
   "source": [
    "Преобразуем данные к формату **pandas DataFrame**, для удобной работы с ними:"
   ]
  },
  {
   "cell_type": "code",
   "execution_count": null,
   "metadata": {
    "ExecuteTime": {
     "end_time": "2021-05-19T21:45:10.722512Z",
     "start_time": "2021-05-19T21:45:10.679709Z"
    },
    "id": "4c78lO-xVA8L"
   },
   "outputs": [],
   "source": [
    "df = pd.DataFrame(data.raw_ratings, columns=[\"userId\", \"movieId\", \"rating\", \"timestamp\"])"
   ]
  },
  {
   "cell_type": "code",
   "execution_count": null,
   "metadata": {
    "ExecuteTime": {
     "end_time": "2021-05-19T21:45:11.315222Z",
     "start_time": "2021-05-19T21:45:11.296874Z"
    },
    "colab": {
     "base_uri": "https://localhost:8080/",
     "height": 359
    },
    "id": "z8iZfdnZVA8S",
    "outputId": "306ff5ea-58b6-4352-9251-dd79d68c1d86"
   },
   "outputs": [
    {
     "data": {
      "text/html": [
       "<div>\n",
       "<style scoped>\n",
       "    .dataframe tbody tr th:only-of-type {\n",
       "        vertical-align: middle;\n",
       "    }\n",
       "\n",
       "    .dataframe tbody tr th {\n",
       "        vertical-align: top;\n",
       "    }\n",
       "\n",
       "    .dataframe thead th {\n",
       "        text-align: right;\n",
       "    }\n",
       "</style>\n",
       "<table border=\"1\" class=\"dataframe\">\n",
       "  <thead>\n",
       "    <tr style=\"text-align: right;\">\n",
       "      <th></th>\n",
       "      <th>userId</th>\n",
       "      <th>movieId</th>\n",
       "      <th>rating</th>\n",
       "      <th>timestamp</th>\n",
       "    </tr>\n",
       "  </thead>\n",
       "  <tbody>\n",
       "    <tr>\n",
       "      <th>0</th>\n",
       "      <td>196</td>\n",
       "      <td>242</td>\n",
       "      <td>3.0</td>\n",
       "      <td>881250949</td>\n",
       "    </tr>\n",
       "    <tr>\n",
       "      <th>1</th>\n",
       "      <td>186</td>\n",
       "      <td>302</td>\n",
       "      <td>3.0</td>\n",
       "      <td>891717742</td>\n",
       "    </tr>\n",
       "    <tr>\n",
       "      <th>2</th>\n",
       "      <td>22</td>\n",
       "      <td>377</td>\n",
       "      <td>1.0</td>\n",
       "      <td>878887116</td>\n",
       "    </tr>\n",
       "    <tr>\n",
       "      <th>3</th>\n",
       "      <td>244</td>\n",
       "      <td>51</td>\n",
       "      <td>2.0</td>\n",
       "      <td>880606923</td>\n",
       "    </tr>\n",
       "    <tr>\n",
       "      <th>4</th>\n",
       "      <td>166</td>\n",
       "      <td>346</td>\n",
       "      <td>1.0</td>\n",
       "      <td>886397596</td>\n",
       "    </tr>\n",
       "    <tr>\n",
       "      <th>5</th>\n",
       "      <td>298</td>\n",
       "      <td>474</td>\n",
       "      <td>4.0</td>\n",
       "      <td>884182806</td>\n",
       "    </tr>\n",
       "    <tr>\n",
       "      <th>6</th>\n",
       "      <td>115</td>\n",
       "      <td>265</td>\n",
       "      <td>2.0</td>\n",
       "      <td>881171488</td>\n",
       "    </tr>\n",
       "    <tr>\n",
       "      <th>7</th>\n",
       "      <td>253</td>\n",
       "      <td>465</td>\n",
       "      <td>5.0</td>\n",
       "      <td>891628467</td>\n",
       "    </tr>\n",
       "    <tr>\n",
       "      <th>8</th>\n",
       "      <td>305</td>\n",
       "      <td>451</td>\n",
       "      <td>3.0</td>\n",
       "      <td>886324817</td>\n",
       "    </tr>\n",
       "    <tr>\n",
       "      <th>9</th>\n",
       "      <td>6</td>\n",
       "      <td>86</td>\n",
       "      <td>3.0</td>\n",
       "      <td>883603013</td>\n",
       "    </tr>\n",
       "  </tbody>\n",
       "</table>\n",
       "</div>"
      ],
      "text/plain": [
       "  userId movieId  rating  timestamp\n",
       "0    196     242     3.0  881250949\n",
       "1    186     302     3.0  891717742\n",
       "2     22     377     1.0  878887116\n",
       "3    244      51     2.0  880606923\n",
       "4    166     346     1.0  886397596\n",
       "5    298     474     4.0  884182806\n",
       "6    115     265     2.0  881171488\n",
       "7    253     465     5.0  891628467\n",
       "8    305     451     3.0  886324817\n",
       "9      6      86     3.0  883603013"
      ]
     },
     "execution_count": 6,
     "metadata": {
      "tags": []
     },
     "output_type": "execute_result"
    }
   ],
   "source": [
    "df.head(10)"
   ]
  },
  {
   "cell_type": "markdown",
   "metadata": {
    "id": "8lk_aMC6VA8a"
   },
   "source": [
    "- Колонка **userId** - идентификаторы пользователей сайта movielens;\n",
    "- Колонка **movieId** - идентификаторы фильмов;\n",
    "- Колонка **rating** - оценки фильмов пользователями по шкале от 1 до 5;\n",
    "- Колонка **timestamp** - это время оценки фильма пользователем. Данный формат представления времени показывает, сколько секунд прошло с 1 января 1970 года."
   ]
  },
  {
   "cell_type": "markdown",
   "metadata": {
    "id": "cGXqlWpiVA8c"
   },
   "source": [
    "Мы можем посмотреть, сколько уникальных значений находится в каждой из колонок."
   ]
  },
  {
   "cell_type": "code",
   "execution_count": null,
   "metadata": {
    "ExecuteTime": {
     "end_time": "2021-05-19T22:02:35.215890Z",
     "start_time": "2021-05-19T22:02:35.136012Z"
    },
    "colab": {
     "base_uri": "https://localhost:8080/"
    },
    "id": "VwB6SrRHVA8e",
    "outputId": "776d0971-c729-4a35-c9dd-5c120cf05096"
   },
   "outputs": [
    {
     "data": {
      "text/plain": [
       "userId         943\n",
       "movieId       1682\n",
       "rating           5\n",
       "timestamp    49282\n",
       "dtype: int64"
      ]
     },
     "execution_count": 7,
     "metadata": {
      "tags": []
     },
     "output_type": "execute_result"
    }
   ],
   "source": [
    "df.apply(\"nunique\")"
   ]
  },
  {
   "cell_type": "markdown",
   "metadata": {
    "id": "gdNUHvGaVA8l"
   },
   "source": [
    "Для корректной работы с графиками в python требуется загрузить специальную библиотеку\n",
    "**matplotlib**, программную библиотеку на языке python для визуализации данных двумерной и трехмерной графикой."
   ]
  },
  {
   "cell_type": "markdown",
   "metadata": {
    "id": "Tmcpr7aiVA8r"
   },
   "source": [
    "Посмотрим наглядно, как часто в датасете встречаются разные оценки:"
   ]
  },
  {
   "cell_type": "code",
   "execution_count": null,
   "metadata": {
    "ExecuteTime": {
     "end_time": "2021-05-19T22:02:37.345997Z",
     "start_time": "2021-05-19T22:02:37.184180Z"
    },
    "colab": {
     "base_uri": "https://localhost:8080/",
     "height": 281
    },
    "id": "3XYMil_AVA8s",
    "outputId": "42290307-66d3-4a6a-808e-26819f0662ea"
   },
   "outputs": [
    {
     "data": {
      "image/png": "[encoded data removed]",
      "text/plain": [
       "<Figure size 432x288 with 1 Axes>"
      ]
     },
     "metadata": {
      "needs_background": "light",
      "tags": []
     },
     "output_type": "display_data"
    }
   ],
   "source": [
    "df[\"rating\"].value_counts().sort_index().plot.bar(title=\"Распределение рейтингов\", rot=0);"
   ]
  },
  {
   "cell_type": "markdown",
   "metadata": {
    "id": "sc4V13ojVA8x"
   },
   "source": [
    "## Разбиение выборки на обучающую и тестовую"
   ]
  },
  {
   "cell_type": "markdown",
   "metadata": {
    "id": "feldOglfVA8z"
   },
   "source": [
    "Библиотека **surprise** высокоуровневая, и позволяет нам разбить данные на обучающую и тестовую выборки всего одной функцией **train_test_split()**"
   ]
  },
  {
   "cell_type": "code",
   "execution_count": null,
   "metadata": {
    "ExecuteTime": {
     "end_time": "2021-05-19T22:02:38.425837Z",
     "start_time": "2021-05-19T22:02:38.423431Z"
    },
    "id": "wj01SJESVA80"
   },
   "outputs": [],
   "source": [
    "from surprise.model_selection import train_test_split"
   ]
  },
  {
   "cell_type": "markdown",
   "metadata": {
    "id": "oapSXAZ2VA84"
   },
   "source": [
    "Функция **train_test_split()** принимает на вход два параметра:\n",
    "\n",
    "- **data** - данные\n",
    "- **test_size** - доля тестовой выборки. Укажем 0,25, чтобы тестовая выборка составляла 25% от всей выборки."
   ]
  },
  {
   "cell_type": "code",
   "execution_count": null,
   "metadata": {
    "ExecuteTime": {
     "end_time": "2021-05-19T22:02:39.800246Z",
     "start_time": "2021-05-19T22:02:39.639654Z"
    },
    "id": "tL12glA_VA85"
   },
   "outputs": [],
   "source": [
    "trainset, testset = train_test_split(data, test_size=0.25)"
   ]
  },
  {
   "cell_type": "markdown",
   "metadata": {
    "id": "zCBGWlqppwjL"
   },
   "source": [
    "# Задание 1\n",
    "\n",
    "Проведите исследование данных (exploratory data analysis, EDA).\n",
    "\n",
    "Выясните:\n",
    "\n",
    "1. Сколько оценок в среднем поставил один человек (и какова выборочная дисперсия этой величины)\n",
    "1. Сколько оценок в среднем имеет один фильм (+дисперсия)\n",
    "\n",
    "Также для каждой из этих величин постройте гистограму (или violin plot) распределения чтобы увидеть картину целиком. Возможно вам понадобится использовать логарифмический масштаб осей (эту настройку можно передать в matplotlib)."
   ]
  },
  {
   "cell_type": "code",
   "execution_count": null,
   "metadata": {
    "ExecuteTime": {
     "end_time": "2021-05-19T22:02:40.697202Z",
     "start_time": "2021-05-19T22:02:40.695626Z"
    },
    "id": "B07W7k2CpwjM"
   },
   "outputs": [],
   "source": [
    "import matplotlib.pyplot as plt"
   ]
  },
  {
   "cell_type": "code",
   "execution_count": null,
   "metadata": {
    "colab": {
     "base_uri": "https://localhost:8080/"
    },
    "id": "ZSUrt-A7NE_R",
    "outputId": "8678bcb4-2b5c-4974-e5a1-d1745fca6e8d"
   },
   "outputs": [
    {
     "data": {
      "text/plain": [
       "(75000, 3)"
      ]
     },
     "execution_count": 49,
     "metadata": {
      "tags": []
     },
     "output_type": "execute_result"
    }
   ],
   "source": [
    "df_train = pd.DataFrame(\n",
    "    data=[i for i in trainset.all_ratings()], columns=[\"user\", \"movie\", \"rating\"]\n",
    ")\n",
    "\n",
    "df_train.shape"
   ]
  },
  {
   "cell_type": "code",
   "execution_count": null,
   "metadata": {
    "colab": {
     "base_uri": "https://localhost:8080/"
    },
    "id": "gG9BFrboNs9X",
    "outputId": "8237def8-ace4-441c-95ff-b787cde87dbe"
   },
   "outputs": [
    {
     "name": "stdout",
     "output_type": "stream",
     "text": [
      "Mean:    79.53340402969248\n",
      "Std:     75.65107842209369\n",
      "Median:  48.0\n"
     ]
    }
   ],
   "source": [
    "users_train = df_train.groupby(\"user\")[\"rating\"].count()\n",
    "\n",
    "print(\"Mean:   \", users_train.mean())\n",
    "print(\"Std:    \", users_train.std())\n",
    "print(\"Median: \", users_train.median())"
   ]
  },
  {
   "cell_type": "code",
   "execution_count": null,
   "metadata": {
    "colab": {
     "base_uri": "https://localhost:8080/",
     "height": 265
    },
    "id": "0tT3pO34RGSe",
    "outputId": "b90431ac-b1f3-4632-8a34-8eb1e463057d"
   },
   "outputs": [
    {
     "data": {
      "image/png": "[encoded data removed]",
      "text/plain": [
       "<Figure size 432x288 with 1 Axes>"
      ]
     },
     "metadata": {
      "needs_background": "light",
      "tags": []
     },
     "output_type": "display_data"
    }
   ],
   "source": [
    "users_train.hist();"
   ]
  },
  {
   "cell_type": "code",
   "execution_count": null,
   "metadata": {
    "colab": {
     "base_uri": "https://localhost:8080/",
     "height": 265
    },
    "id": "0kHxA0gvQ0mO",
    "outputId": "845b2884-d3ab-427d-f974-d5dbea9db5a0"
   },
   "outputs": [
    {
     "data": {
      "image/png": "[encoded data removed]",
      "text/plain": [
       "<Figure size 432x288 with 1 Axes>"
      ]
     },
     "metadata": {
      "needs_background": "light",
      "tags": []
     },
     "output_type": "display_data"
    }
   ],
   "source": [
    "plt.hist(users_train, log=True);"
   ]
  },
  {
   "cell_type": "markdown",
   "metadata": {
    "id": "R0stySJ-ojqf"
   },
   "source": [
    "Гистограмма имеет длинный хвост справа. Большая часть пользователей поставила менее 50 оценок. В среднем один человек ставит 80 оценок при достаточно большом стандартном отклонении величиной в 75 оценок. Это говорит о том, что поведение пользователей очень разнится, но значительная часть пользователей имеет только несколько единиц оцененных фильмов."
   ]
  },
  {
   "cell_type": "code",
   "execution_count": null,
   "metadata": {
    "colab": {
     "base_uri": "https://localhost:8080/"
    },
    "id": "gu8ouflREVDV",
    "outputId": "91577774-0e54-4fd2-9fa1-b0ae547241d5"
   },
   "outputs": [
    {
     "name": "stdout",
     "output_type": "stream",
     "text": [
      "Mean:    45.75960951799878\n",
      "Std:     60.48438625426886\n",
      "Median:  21.0\n"
     ]
    }
   ],
   "source": [
    "movies_train = df_train.groupby(\"movie\")[\"rating\"].count()\n",
    "\n",
    "print(\"Mean:   \", movies_train.mean())\n",
    "print(\"Std:    \", movies_train.std())\n",
    "print(\"Median: \", movies_train.median())"
   ]
  },
  {
   "cell_type": "code",
   "execution_count": null,
   "metadata": {
    "colab": {
     "base_uri": "https://localhost:8080/",
     "height": 265
    },
    "id": "iPgB7Q73Jm-l",
    "outputId": "bcd9f1b9-3356-4995-e208-8d9c08a277ed"
   },
   "outputs": [
    {
     "data": {
      "image/png": "[encoded data removed]",
      "text/plain": [
       "<Figure size 432x288 with 1 Axes>"
      ]
     },
     "metadata": {
      "needs_background": "light",
      "tags": []
     },
     "output_type": "display_data"
    }
   ],
   "source": [
    "movies_train.hist();"
   ]
  },
  {
   "cell_type": "code",
   "execution_count": null,
   "metadata": {
    "colab": {
     "base_uri": "https://localhost:8080/",
     "height": 265
    },
    "id": "_OBmmIcKRZBe",
    "outputId": "0be19b46-6270-4181-c166-d005a09f0b87"
   },
   "outputs": [
    {
     "data": {
      "image/png": "[encoded data removed]",
      "text/plain": [
       "<Figure size 432x288 with 1 Axes>"
      ]
     },
     "metadata": {
      "needs_background": "light",
      "tags": []
     },
     "output_type": "display_data"
    }
   ],
   "source": [
    "plt.hist(movies_train, log=True);"
   ]
  },
  {
   "cell_type": "markdown",
   "metadata": {
    "id": "iguEITpZqpnz"
   },
   "source": [
    "Здесь гистограмма также имеет длинный хвост справа. Большая часть фильмов имеет менее 30 оценок. В среднем один фильм имеет 45 оценок при стандартном отклонении величиной в 60 оценок."
   ]
  },
  {
   "cell_type": "markdown",
   "metadata": {
    "id": "Pjk90jTfVA89"
   },
   "source": [
    "## Построение простой модели"
   ]
  },
  {
   "cell_type": "code",
   "execution_count": null,
   "metadata": {
    "ExecuteTime": {
     "end_time": "2021-05-19T22:02:41.561498Z",
     "start_time": "2021-05-19T22:02:41.559739Z"
    },
    "id": "R4bUU2_iVA8-"
   },
   "outputs": [],
   "source": [
    "from surprise import SVD, KNNBasic, accuracy"
   ]
  },
  {
   "cell_type": "markdown",
   "metadata": {
    "id": "wIrqEcYHVA9C"
   },
   "source": [
    "Инициализируем алгоритм. Алгоритм SVD - один из самых распространенных методов матричной факторизации (представления матрицы в виде произведения нескольких матриц). Такое представление позволяет анализировать похожие матрицы и раскладывать их на так называемые \"компоненты\". А так же, восстанавливая матрицы их этих компонент - заполнять недостающие значения (в нашем случае - оценки). Почитать можно здесь: http://www.albertauyeung.com/post/python-matrix-factorization/"
   ]
  },
  {
   "cell_type": "code",
   "execution_count": null,
   "metadata": {
    "ExecuteTime": {
     "end_time": "2021-05-19T22:02:42.425602Z",
     "start_time": "2021-05-19T22:02:42.423778Z"
    },
    "id": "U-C8PSgmVA9D"
   },
   "outputs": [],
   "source": [
    "algo = SVD()"
   ]
  },
  {
   "cell_type": "markdown",
   "metadata": {
    "id": "T46Qt-efVA9G"
   },
   "source": [
    "Тренируем на тренировочной выборке алгоритм."
   ]
  },
  {
   "cell_type": "code",
   "execution_count": null,
   "metadata": {
    "ExecuteTime": {
     "end_time": "2021-05-19T22:02:46.743669Z",
     "start_time": "2021-05-19T22:02:43.351791Z"
    },
    "colab": {
     "base_uri": "https://localhost:8080/"
    },
    "id": "023_UmhzVA9I",
    "outputId": "ba438e9c-96dd-4385-c662-11ff64c89f22"
   },
   "outputs": [
    {
     "data": {
      "text/plain": [
       "<surprise.prediction_algorithms.matrix_factorization.SVD at 0x7f0f92b25bd0>"
      ]
     },
     "execution_count": 61,
     "metadata": {
      "tags": []
     },
     "output_type": "execute_result"
    }
   ],
   "source": [
    "algo.fit(trainset)"
   ]
  },
  {
   "cell_type": "markdown",
   "metadata": {
    "id": "PLr4X8_3VA9M"
   },
   "source": [
    "Делаем предсказание на тестовой выборке."
   ]
  },
  {
   "cell_type": "code",
   "execution_count": null,
   "metadata": {
    "ExecuteTime": {
     "end_time": "2021-05-19T22:02:47.649261Z",
     "start_time": "2021-05-19T22:02:47.631815Z"
    },
    "colab": {
     "base_uri": "https://localhost:8080/"
    },
    "id": "rvvw4w3aVA9R",
    "outputId": "d70821aa-6c47-4b00-b98f-7566e15b42ee"
   },
   "outputs": [
    {
     "name": "stdout",
     "output_type": "stream",
     "text": [
      "RMSE: 0.9366\n"
     ]
    }
   ],
   "source": [
    "predictions = algo.test(testset)\n",
    "accuracy.rmse(predictions);"
   ]
  },
  {
   "cell_type": "markdown",
   "metadata": {
    "id": "gxA9DhnrVA9W"
   },
   "source": [
    "## Кросс-валидация"
   ]
  },
  {
   "cell_type": "markdown",
   "metadata": {
    "id": "3nfQSI8gVA9X"
   },
   "source": [
    "Обучая любой алгоритм машинного обучения мы, фактически, \"подгоняем\" модель под данные, которые ей подаём. Но, если подгонять слишком сильно, то модель переобучится. То есть модель начнёт запоминать ответы вместо того, чтобы выявлять закономерности.\n",
    "\n",
    "На графиках ниже точки тренировочной выборки:\n",
    "\n",
    "- слева - недообученная модель (большая ошибка на тренировочной выборке; большая ошибка на тестовой выборке)\n",
    "- посередине - хорошо обученная модель (маленькая ошибка на тренировочной выборке; маленькая ошибка на тестовой выборке)\n",
    "- справа - переобученная модель (очень маленькая или нулевая ошибка на тренировочной выборке; большая ошибка на тестовой выборке)"
   ]
  },
  {
   "cell_type": "markdown",
   "metadata": {
    "id": "7sdQG7kTVA9Y"
   },
   "source": [
    "<p align=\"center\">\n",
    "  <img src=\"https://drive.google.com/uc?id=1Eg4Xg4o-lhzrgqNNmNQCtB1RxNJmnmWx\" alt=\"Drawing\" style=\"width: 700px;\" width=\"700\"/>\n",
    "</p>"
   ]
  },
  {
   "cell_type": "markdown",
   "metadata": {
    "id": "mYNhrqsNVA9Z"
   },
   "source": [
    "Таким образом, обучая модель, мы всегда уменьшаем ошибку на тренировочной выборке. Вместе с ошибкой на тренировочной выборке, падает и ошибка на тестовой. Но после какого-то момента, модель начинает переобучатся, и ошибка на тестовой выборке начинает расти, в то время, как ошибка на тренировочной выборке продолжает падать. "
   ]
  },
  {
   "cell_type": "markdown",
   "metadata": {
    "id": "Xmuhn5RUVA9Z"
   },
   "source": [
    "<p align=\"center\">\n",
    "  <img src=\"https://drive.google.com/uc?id=1mvU_jJIe07tAoX82qODcpmTBctx0ReuT\" alt=\"Drawing\" style=\"width: 700px;\" width=\"700\"/>\n",
    "</p>"
   ]
  },
  {
   "cell_type": "markdown",
   "metadata": {
    "id": "k-m8IjEkVA9a"
   },
   "source": [
    "Может получится ситуация, когда мы видим маленькую ошибку нашей модели, и думаем, что она хорошая, но на самом деле она просто переобучилась, и на новых данных покажет плохой результат.\n",
    "\n",
    "Чтобы избежать такой ситуации можно использовать отложенную выборку. То есть мы разбиваем наши данные на **тренировочную** выборку, **тестовую** выборку и **отложенную** выборку. Соответственно, обучаем модель на тренировочной, в ходе обучения проверяем результат на тестовой выборке, а в конце обучения, чтобы оценить качество модели, ошибку считаем на отложенной выборке."
   ]
  },
  {
   "cell_type": "markdown",
   "metadata": {
    "id": "6qQjDxYpVA9c"
   },
   "source": [
    "При таком подходе в обучении модели участвует только тренировочная выборка. Тестовую и отложенную мы используем только для проверки. Если у нас мало данных, отложенная выборка - непозволительная роскошь.\n",
    "\n",
    "Другой популярный подход это **кросс-валидация** или скользящий контроль. Суть метода заключается в том, что мы дераем не одно разбиение датесета, а несколько разбиений таким образом, чтобы все данные использовались и в обучении и для проверки. Такие разбиения называются **фолдами**.\n",
    "\n",
    "Преимущества такого подхожа в том, что мы используем все данные для обучения. Также это позволяет оценить устойчивость модели. Если ошибки полученные на разных фолдах сильно отличаются, что модель неустойчива.\n",
    "Недостаток метода в том, что нам нужно обучать не одну модель, а несколько (столько, сколько мы выбрали фолдов).\n",
    "\n",
    "На практике часто выбирают 5 фолдов."
   ]
  },
  {
   "cell_type": "markdown",
   "metadata": {
    "id": "ZrMKa--nVA9d"
   },
   "source": [
    "<p align=\"center\">\n",
    "  <img src=\"https://drive.google.com/uc?id=1C9eHgCi30X08XaSScmjqIOT3ayBtBiFw\" alt=\"Drawing\" style=\"width: 500px;\" width=\"300\"/>\n",
    "</p>"
   ]
  },
  {
   "cell_type": "code",
   "execution_count": null,
   "metadata": {
    "id": "3Nm_zw-BVA9e"
   },
   "outputs": [],
   "source": [
    "from surprise.model_selection import cross_validate"
   ]
  },
  {
   "cell_type": "markdown",
   "metadata": {
    "id": "VEPy4jGKVA9h"
   },
   "source": [
    "Используем функцию **cross_validate** из модуля **model_selection** библиотеки **surprise**.\n",
    "\n",
    "Функция принимает на вход:\n",
    "\n",
    "- algo - алгоритм, который будем обучать.\n",
    "- data - исходные данные. Обратите внимание, что данные передаём не разбитые на выборки.\n",
    "- measures - метрики ошибок по которым мы хотим сравнивать модели. Мы передаём среднеквадратичную ошибку и среднюю ошибку.\n",
    "- cv - количество фолдов.\n",
    "- verbose - параметр указывающий хотим ли мы увидеть подробный результат выполнения функции."
   ]
  },
  {
   "cell_type": "code",
   "execution_count": null,
   "metadata": {
    "colab": {
     "base_uri": "https://localhost:8080/"
    },
    "id": "0dzKI1AmVA9i",
    "outputId": "8bd3af9c-ec24-4651-9a2c-61cb8dc2545b"
   },
   "outputs": [
    {
     "name": "stdout",
     "output_type": "stream",
     "text": [
      "Evaluating RMSE, MAE of algorithm SVD on 5 split(s).\n",
      "\n",
      "                  Fold 1  Fold 2  Fold 3  Fold 4  Fold 5  Mean    Std     \n",
      "RMSE (testset)    0.9345  0.9385  0.9277  0.9383  0.9430  0.9364  0.0051  \n",
      "MAE (testset)     0.7379  0.7396  0.7304  0.7373  0.7454  0.7381  0.0048  \n",
      "Fit time          4.86    4.73    4.73    4.75    4.76    4.77    0.05    \n",
      "Test time         0.16    0.32    0.22    0.15    0.17    0.20    0.06    \n"
     ]
    },
    {
     "data": {
      "text/plain": [
       "{'fit_time': (4.8556907176971436,\n",
       "  4.733015060424805,\n",
       "  4.7292773723602295,\n",
       "  4.753777027130127,\n",
       "  4.7619428634643555),\n",
       " 'test_mae': array([0.73791363, 0.73964668, 0.73041271, 0.73729362, 0.74535101]),\n",
       " 'test_rmse': array([0.9345365 , 0.93847059, 0.92766388, 0.9382971 , 0.94301478]),\n",
       " 'test_time': (0.16189932823181152,\n",
       "  0.316727876663208,\n",
       "  0.21869850158691406,\n",
       "  0.15225601196289062,\n",
       "  0.16740775108337402)}"
      ]
     },
     "execution_count": 69,
     "metadata": {
      "tags": []
     },
     "output_type": "execute_result"
    }
   ],
   "source": [
    "algo = SVD()\n",
    "cross_validate(algo, data, measures=[\"RMSE\", \"MAE\"], cv=5, verbose=True)"
   ]
  },
  {
   "cell_type": "markdown",
   "metadata": {
    "id": "D1ICfHrkVA9l"
   },
   "source": [
    "В результате получаем значения ошибок на каждом из фолдов, а также их среднее и стандартное отклонение (СО). Маленькое СО, как в нашем случае, говорит об устойчивости модели.\n",
    "\n",
    "Дополнительно мы видим время тренировки и время предсказания модели на каждом из фолдов."
   ]
  },
  {
   "cell_type": "markdown",
   "metadata": {
    "id": "qgBGv8BZVA9m"
   },
   "source": [
    "## Поиск по сетке (Grid search)"
   ]
  },
  {
   "cell_type": "markdown",
   "metadata": {
    "id": "j4L5ffx8VA9n"
   },
   "source": [
    "Теперь, когда у нас есть надёжный способ оценивать качество модели, мы можем перейти к подбору гиперпараметров модели, т.е. параметров, которые нужно указывать вручную, потому что нельзя обучить во время тренировки модели.\n",
    "\n",
    "Метод поиска по сетке очень прост. Мы передаём варианты каждого из параметров, который мы хотим перебрать, а функция перебирает все возможные варианты переданных параметров. Например, на картинке ниже перебираются параметры \"регуляризация\" и \"скорость обучения\"."
   ]
  },
  {
   "cell_type": "markdown",
   "metadata": {
    "id": "NfWrGyLhVA9s"
   },
   "source": [
    "<p align=\"center\">\n",
    "  <img src=\"https://drive.google.com/uc?id=1xs9z_Zo1A2QinErKYEB-bp6eGnLWodbO\" alt=\"Drawing\" style=\"width: 700px;\" width=\"700\"/>\n",
    "</p>"
   ]
  },
  {
   "cell_type": "markdown",
   "metadata": {
    "id": "c7PSdgEnpwjb"
   },
   "source": [
    "# Задание 2\n",
    "\n",
    "## Часть 1\n",
    "\n",
    "Оптимизируйте следующие параметры алгоритма SVD:\n",
    "\n",
    "- n_epochs - количество эпох обучения\n",
    "- lr_all - скорость обучения\n",
    "- reg_all - регуляризация\n",
    "\n",
    "Более детальное описание алгоритма смотри в [документации](https://surprise.readthedocs.io/en/stable/matrix_factorization.html#surprise.prediction_algorithms.matrix_factorization.SVD)\n",
    "\n",
    "P.S. не нужно делать слишком большую сетку перебора - если время расчёта отнимает больше 10 мин, то это уже очень много (для базового датасета)."
   ]
  },
  {
   "cell_type": "code",
   "execution_count": null,
   "metadata": {
    "id": "7g8NQTNrVA9t"
   },
   "outputs": [],
   "source": [
    "from surprise.model_selection import GridSearchCV"
   ]
  },
  {
   "cell_type": "markdown",
   "metadata": {
    "id": "hvEIIGGeVA92"
   },
   "source": [
    "Для перебора по сетке используем функцию **GridSearchCV**.\n",
    "На вход подаём:\n",
    "\n",
    "- алгоритм.\n",
    "- параметры, которые хотим перебрать.\n",
    "- метрики ошибок.\n",
    "- количество фолдов для кросс-валидации.\n",
    "\n",
    "Обратите внимание, что функция выполняет кросс-валидация автоматически."
   ]
  },
  {
   "cell_type": "code",
   "execution_count": null,
   "metadata": {
    "id": "tUo_Y70UVA-B"
   },
   "outputs": [],
   "source": [
    "params = {\"n_epochs\": [10, 20, 30, 50], \"lr_all\": [0.001, 0.01, 0.05], \"reg_all\": [0.01, 0.05, 0.1]}\n",
    "grid = GridSearchCV(\n",
    "    SVD, param_grid=params, measures=[\"rmse\", \"mae\"], cv=3, n_jobs=-1, return_train_measures=True\n",
    ")\n",
    "grid.fit(data)"
   ]
  },
  {
   "cell_type": "code",
   "execution_count": null,
   "metadata": {
    "colab": {
     "base_uri": "https://localhost:8080/"
    },
    "id": "-NmK5M4el8A5",
    "outputId": "43885a58-60c7-440c-a58d-752215e33b15"
   },
   "outputs": [
    {
     "data": {
      "text/plain": [
       "({'mae': 0.7273996928959344, 'rmse': 0.9202630083569435},\n",
       " {'mae': {'lr_all': 0.01, 'n_epochs': 50, 'reg_all': 0.1},\n",
       "  'rmse': {'lr_all': 0.01, 'n_epochs': 50, 'reg_all': 0.1}})"
      ]
     },
     "execution_count": 100,
     "metadata": {
      "tags": []
     },
     "output_type": "execute_result"
    }
   ],
   "source": [
    "grid.best_score, grid.best_params"
   ]
  },
  {
   "cell_type": "markdown",
   "metadata": {
    "id": "RQ9tPY8vpwjc"
   },
   "source": [
    "## Часть 2\n",
    "\n",
    "Выберите другую модель из scikit surprise для предсказания рекомендаций (полный список смотри в [документации](https://surprise.readthedocs.io/en/stable/prediction_algorithms_package.html)).<br>\n",
    "И настройте её параметры с помощью поиска по сетке.\n",
    "\n",
    "Сравните результаты с предыдущей моделью."
   ]
  },
  {
   "cell_type": "code",
   "execution_count": null,
   "metadata": {
    "ExecuteTime": {
     "end_time": "2021-05-19T22:04:44.054734Z",
     "start_time": "2021-05-19T22:04:44.053080Z"
    },
    "id": "hLV4m6SApwjd"
   },
   "outputs": [],
   "source": [
    "params = {\"k\": [10, 20, 40], \"min_k\": [1, 2, 5]}\n",
    "grid = GridSearchCV(\n",
    "    KNNBasic,\n",
    "    param_grid=params,\n",
    "    measures=[\"rmse\", \"mae\"],\n",
    "    cv=3,\n",
    "    n_jobs=-1,\n",
    "    return_train_measures=True,\n",
    ")\n",
    "grid.fit(data)"
   ]
  },
  {
   "cell_type": "code",
   "execution_count": null,
   "metadata": {
    "colab": {
     "base_uri": "https://localhost:8080/"
    },
    "id": "WhG0M4X1gefB",
    "outputId": "9375fbbb-d028-4211-9ac6-da4f70cec696"
   },
   "outputs": [
    {
     "data": {
      "text/plain": [
       "({'mae': 0.7788196795808612, 'rmse': 0.9861140589377565},\n",
       " {'mae': {'k': 20, 'min_k': 2}, 'rmse': {'k': 20, 'min_k': 2}})"
      ]
     },
     "execution_count": 98,
     "metadata": {
      "tags": []
     },
     "output_type": "execute_result"
    }
   ],
   "source": [
    "knn_model = grid.best_estimator\n",
    "\n",
    "grid.best_score, grid.best_params"
   ]
  },
  {
   "cell_type": "markdown",
   "metadata": {
    "id": "8lbG1suopwjd"
   },
   "source": [
    "# Задание 3\n",
    "\n",
    "С помощью натренированной модели (любой из предыдущих) постройте по 3 рекомендации для каждого клиента из тестовой выборки.\n",
    "\n",
    "Проанализируйте полученные результаты: сколько раз был порекомендован каждый фильм? Каково распределение этих частот? (постройте гистограму)"
   ]
  },
  {
   "cell_type": "markdown",
   "metadata": {
    "id": "wrYNzkB1sjLJ"
   },
   "source": [
    "Так как модель SVD показала меньшую ошибку, будем использовать ее для дальнейших предсказаний."
   ]
  },
  {
   "cell_type": "code",
   "execution_count": null,
   "metadata": {
    "id": "FjqKbhEZ2dWT"
   },
   "outputs": [],
   "source": [
    "def get_top_n(predictions, n=3):\n",
    "    \"\"\"Return the top-N recommendation for each user from a set of predictions.\n",
    "\n",
    "    Args:\n",
    "        predictions(list of Prediction objects): The list of predictions, as\n",
    "            returned by the test method of an algorithm.\n",
    "        n(int): The number of recommendation to output for each user. Default\n",
    "            is 10.\n",
    "\n",
    "    Returns:\n",
    "    A dict where keys are user (raw) ids and values are lists of tuples:\n",
    "        [(raw item id, rating estimation), ...] of size n.\n",
    "    \"\"\"\n",
    "\n",
    "    # First map the predictions to each user.\n",
    "    top_n = {}\n",
    "    for uid, iid, true_r, est, _ in predictions:\n",
    "        top_n[uid] = top_n.get(uid, []) + [(iid, est)]\n",
    "\n",
    "    # Then sort the predictions for each user and retrieve the k highest ones.\n",
    "    for uid, user_ratings in top_n.items():\n",
    "        user_ratings.sort(key=lambda x: x[1], reverse=True)\n",
    "        top_n[uid] = user_ratings[:n]\n",
    "\n",
    "    return top_n"
   ]
  },
  {
   "cell_type": "code",
   "execution_count": null,
   "metadata": {
    "id": "aFC9Xsqh5Hvz"
   },
   "outputs": [],
   "source": [
    "algo = SVD(lr_all=0.01, n_epochs=50, reg_all=0.1, random_state=0)\n",
    "algo.fit(trainset)\n",
    "preds = algo.test(testset)"
   ]
  },
  {
   "cell_type": "code",
   "execution_count": null,
   "metadata": {
    "colab": {
     "base_uri": "https://localhost:8080/"
    },
    "id": "T_WdhHmq4uVj",
    "outputId": "59036628-b1b9-4365-ee2f-d94c8b3fe0e1"
   },
   "outputs": [
    {
     "data": {
      "text/plain": [
       "943"
      ]
     },
     "execution_count": 146,
     "metadata": {
      "tags": []
     },
     "output_type": "execute_result"
    }
   ],
   "source": [
    "top_n = get_top_n(preds, n=3)\n",
    "len(top_n)"
   ]
  },
  {
   "cell_type": "code",
   "execution_count": null,
   "metadata": {
    "colab": {
     "base_uri": "https://localhost:8080/"
    },
    "id": "YRdoBXzA57as",
    "outputId": "c3274084-d8a4-4e37-f2a5-d0f2dbc8ec4c"
   },
   "outputs": [
    {
     "data": {
      "text/plain": [
       "411"
      ]
     },
     "execution_count": 150,
     "metadata": {
      "tags": []
     },
     "output_type": "execute_result"
    }
   ],
   "source": [
    "all_recommends = []\n",
    "for user_ratings in top_n.values():\n",
    "    movies = [iid for (iid, _) in user_ratings]\n",
    "    all_recommends += movies\n",
    "\n",
    "uniq_movies = set(all_recommends)\n",
    "len(uniq_movies)"
   ]
  },
  {
   "cell_type": "code",
   "execution_count": null,
   "metadata": {
    "colab": {
     "base_uri": "https://localhost:8080/"
    },
    "id": "0aBwMn-E-Tvl",
    "outputId": "356826f5-6241-418f-aa93-35bb366186db"
   },
   "outputs": [
    {
     "data": {
      "text/plain": [
       "50     114\n",
       "174     62\n",
       "318     60\n",
       "98      57\n",
       "313     56\n",
       "100     56\n",
       "302     51\n",
       "127     49\n",
       "172     48\n",
       "12      47\n",
       "dtype: int64"
      ]
     },
     "execution_count": 154,
     "metadata": {
      "tags": []
     },
     "output_type": "execute_result"
    }
   ],
   "source": [
    "freq_rcmnd = pd.Series(all_recommends).value_counts()\n",
    "freq_rcmnd.head(10)"
   ]
  },
  {
   "cell_type": "markdown",
   "metadata": {
    "id": "4T8Rj-IZAk-L"
   },
   "source": [
    "Построим распределение частот рекомендаций:"
   ]
  },
  {
   "cell_type": "code",
   "execution_count": null,
   "metadata": {
    "colab": {
     "base_uri": "https://localhost:8080/",
     "height": 374
    },
    "id": "b-LISnvO9GJE",
    "outputId": "aad2651c-c16c-4b9d-b713-4e5292408679"
   },
   "outputs": [
    {
     "data": {
      "image/png": "[encoded data removed]",
      "text/plain": [
       "<Figure size 1152x432 with 1 Axes>"
      ]
     },
     "metadata": {
      "needs_background": "light",
      "tags": []
     },
     "output_type": "display_data"
    }
   ],
   "source": [
    "plt.figure(figsize=(16, 6))\n",
    "plt.bar(freq_rcmnd.index, freq_rcmnd.values);"
   ]
  },
  {
   "cell_type": "markdown",
   "metadata": {
    "id": "5MwMFkHjAreL"
   },
   "source": [
    "Посмоторим чуть более детально на первые 30 значений:"
   ]
  },
  {
   "cell_type": "code",
   "execution_count": null,
   "metadata": {
    "colab": {
     "base_uri": "https://localhost:8080/",
     "height": 374
    },
    "id": "YcZ9UM7o_s7F",
    "outputId": "42581b6e-c65a-459b-9b0f-bb8d2c28f283"
   },
   "outputs": [
    {
     "data": {
      "image/png": "[encoded data removed]",
      "text/plain": [
       "<Figure size 1152x432 with 1 Axes>"
      ]
     },
     "metadata": {
      "needs_background": "light",
      "tags": []
     },
     "output_type": "display_data"
    }
   ],
   "source": [
    "plt.figure(figsize=(16, 6))\n",
    "plt.bar(freq_rcmnd.index[:30], freq_rcmnd.values[:30]);"
   ]
  },
  {
   "cell_type": "markdown",
   "metadata": {
    "id": "HWo9Me_2AhmE"
   },
   "source": [
    "Из 943 пользователей примерно 100 из них (12 %) был рекомендован один и тот же фильм. Остальные фильмы по числу рекомендаций выделяются не так сильно. В целом я считаю распределение адекватным, так как есть фильмы на широкую аудиторию, пользующиеся большим спросом, а есть более специализированные фильмы."
   ]
  },
  {
   "cell_type": "markdown",
   "metadata": {
    "id": "BkzUyyVUpwjg"
   },
   "source": [
    "# Задание 4\n",
    "\n",
    "В оригинальных данных есть поле `timestamp` (см. момент загрузки данных).\n",
    "\n",
    "Используя оптимальный вариант модели (и её гиперпараметров), найденный выше, проведите кросс-валидацию в стиле временного ряда (см. [документацию sklearn](https://scikit-learn.org/stable/modules/cross_validation.html#time-series-split)). Достаточно использовать 5 частей. Иными словами, нужно раделить выборку на равные части, каждая из которых будет соответствовать последовательным временным промежуткам.\n",
    "\n",
    "![Time series validation split](https://scikit-learn.org/stable/_images/sphx_glr_plot_cv_indices_013.png)\n",
    "\n",
    "Нашли ли вы отличия с предыдущей валидацией?"
   ]
  },
  {
   "cell_type": "code",
   "execution_count": null,
   "metadata": {
    "id": "i7d_RhUiD-KU"
   },
   "outputs": [],
   "source": [
    "from sklearn.model_selection import TimeSeriesSplit\n",
    "from surprise import Dataset, Reader  # , Trainset"
   ]
  },
  {
   "cell_type": "code",
   "execution_count": null,
   "metadata": {
    "id": "UKPcNCgYGp-A"
   },
   "outputs": [],
   "source": [
    "def time_cross_validation(algo, df, cv=5):\n",
    "    df = df.sort_values(\"timestamp\")\n",
    "    tscv = TimeSeriesSplit(n_splits=cv)\n",
    "\n",
    "    columns = [\"Fold \" + str(i + 1) for i in range(cv)]\n",
    "    results = pd.DataFrame(index=[\"RMSE\", \"MAE\"], columns=columns)\n",
    "\n",
    "    fold = 0\n",
    "    for train_index, test_index in tscv.split(df):\n",
    "        fold += 1\n",
    "\n",
    "        df_train_split, df_test_split = df.iloc[train_index], df.iloc[test_index]\n",
    "        reader = Reader()\n",
    "        train_split = Dataset.load_from_df(df_train_split[[\"userId\", \"movieId\", \"rating\"]], reader)\n",
    "        train_split = train_split.build_full_trainset()\n",
    "\n",
    "        test_split = list(\n",
    "            zip(\n",
    "                df_test_split[\"userId\"].values,\n",
    "                df_test_split[\"movieId\"].values,\n",
    "                df_test_split[\"rating\"].values,\n",
    "            )\n",
    "        )\n",
    "\n",
    "        algo.fit(train_split)\n",
    "        predictions = algo.test(test_split)\n",
    "        results.loc[\"RMSE\", \"Fold \" + str(fold)] = accuracy.rmse(predictions, verbose=False)\n",
    "        results.loc[\"MAE\", \"Fold \" + str(fold)] = accuracy.mae(predictions, verbose=False)\n",
    "\n",
    "    results[\"Mean\"] = results[columns].mean(axis=1)\n",
    "    results[\"Std\"] = results[columns].std(axis=1)\n",
    "\n",
    "    print(results)"
   ]
  },
  {
   "cell_type": "markdown",
   "metadata": {
    "id": "pMNJf7uKV80I"
   },
   "source": [
    "Повторим результаты обычной кросс-валидации для удобства сравнения:"
   ]
  },
  {
   "cell_type": "code",
   "execution_count": null,
   "metadata": {
    "colab": {
     "base_uri": "https://localhost:8080/"
    },
    "id": "xxi1s-qUVbYt",
    "outputId": "875c1a20-0397-43e9-fb42-c305a7a4397d"
   },
   "outputs": [
    {
     "name": "stdout",
     "output_type": "stream",
     "text": [
      "Evaluating RMSE, MAE of algorithm SVD on 5 split(s).\n",
      "\n",
      "                  Fold 1  Fold 2  Fold 3  Fold 4  Fold 5  Mean    Std     \n",
      "RMSE (testset)    0.9062  0.9161  0.9141  0.9073  0.9069  0.9101  0.0041  \n",
      "MAE (testset)     0.7177  0.7220  0.7200  0.7168  0.7169  0.7187  0.0020  \n",
      "Fit time          11.84   11.92   11.85   11.90   11.96   11.90   0.05    \n",
      "Test time         0.15    0.18    0.16    0.45    0.16    0.22    0.11    \n"
     ]
    }
   ],
   "source": [
    "algo = SVD(lr_all=0.01, n_epochs=50, reg_all=0.1, random_state=0)\n",
    "cross_validate(algo, data, measures=[\"RMSE\", \"MAE\"], cv=5, verbose=True);"
   ]
  },
  {
   "cell_type": "markdown",
   "metadata": {
    "id": "6qk4uIyZWHln"
   },
   "source": [
    "И проведем кросс-валидацию с временным разбиением фолдов:"
   ]
  },
  {
   "cell_type": "code",
   "execution_count": null,
   "metadata": {
    "colab": {
     "base_uri": "https://localhost:8080/"
    },
    "id": "hKv3GyqyGnxS",
    "outputId": "b8ebd4ea-80f4-486e-81cb-25fe25d4ca92"
   },
   "outputs": [
    {
     "name": "stdout",
     "output_type": "stream",
     "text": [
      "        Fold 1    Fold 2    Fold 3   Fold 4    Fold 5      Mean       Std\n",
      "RMSE   1.03235  0.994967   1.09581  1.03359   1.01264  1.033871  0.038091\n",
      "MAE   0.814998  0.794079  0.866946  0.82394  0.818887  0.823770  0.026677\n"
     ]
    }
   ],
   "source": [
    "algo = SVD(lr_all=0.01, n_epochs=50, reg_all=0.1, random_state=0)\n",
    "time_cross_validation(algo, df, cv=5)"
   ]
  },
  {
   "cell_type": "markdown",
   "metadata": {
    "id": "QQs2u2LGTrr2"
   },
   "source": [
    "Ошибка при TimeSeries-разбиении возросла по сравнению с обычным разбиением, результаты стали менее стабильными. При обычном разделении результат был лучше видимо из-за того, что модель мухлевала и заглядывала в будущее.\n",
    "\n",
    "При этом мы видим, что при TimeSeries-валидации с каждым новым фолдом качество не улучшается, ведь данных с каждой итерацией и становится больше."
   ]
  }
 ],
 "metadata": {
  "colab": {
   "collapsed_sections": [
    "sc4V13ojVA8x"
   ],
   "name": "homework_3_movielens - Екатерина Харлова.ipynb",
   "provenance": []
  },
  "kernelspec": {
   "display_name": "Python [conda env:ml-mipt]",
   "language": "python",
   "name": "conda-env-ml-mipt-py"
  },
  "language_info": {
   "codemirror_mode": {
    "name": "ipython",
    "version": 3
   },
   "file_extension": ".py",
   "mimetype": "text/x-python",
   "name": "python",
   "nbconvert_exporter": "python",
   "pygments_lexer": "ipython3",
   "version": "3.8.13"
  },
  "toc": {
   "base_numbering": 1,
   "nav_menu": {},
   "number_sections": true,
   "sideBar": true,
   "skip_h1_title": false,
   "title_cell": "Table of Contents",
   "title_sidebar": "Contents",
   "toc_cell": false,
   "toc_position": {},
   "toc_section_display": true,
   "toc_window_display": true
  }
 },
 "nbformat": 4,
 "nbformat_minor": 1
}
