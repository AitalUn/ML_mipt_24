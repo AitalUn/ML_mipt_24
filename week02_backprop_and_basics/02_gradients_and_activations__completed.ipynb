{
 "cells": [
  {
   "cell_type": "markdown",
   "metadata": {},
   "source": [
    "## Введение в глубокое обучение\n",
    "### Занятие 2. Метод обратного распространения ошибки, функции активации\n",
    "\n",
    "##### Автор: [Радослав Нейчев](https://www.linkedin.com/in/radoslav-neychev/), @neychev"
   ]
  },
  {
   "cell_type": "markdown",
   "metadata": {},
   "source": [
    "#### План занятия:\n",
    "0. Повторение базовых понятий из мира нейронных сетей\n",
    "1. Введение в PyTorch\n",
    "2. Метод обратного распространения ошибки (backpropagation)\n",
    "3. Обзор различных функций активации\n",
    "4. Построение нейронной сети и сравнение с классическими методами"
   ]
  },
  {
   "cell_type": "markdown",
   "metadata": {},
   "source": [
    "### Базовые понятия при работе с нейронными сетями\n",
    "\n",
    "__Нейронная сеть (neural network)__ – композиция линейных и нелинейных преобразований. В целом, нейронная сеть представляет собой сложную (параметрическую) функцию $f$, задающую отображение из исходного признакового пространства $\\mathbb{X}_O$ в целевое пространство $\\mathbb{Y}$:\n",
    "$$\n",
    "f: \\;\\;\\; \\mathbb{X}_O \\longrightarrow \\mathbb{Y}.\n",
    "$$\n",
    "Часто нейронные сети представляют собой последовательность преобразований, представленных слоями и функциями активации.\n",
    "\n",
    "__Слой (layer)__ – некоторая функция/преобразование над исходными данными. Простейший пример: линейный слой, являющийся линейным преобразованием над входящими данными (т.е. просто преобразование $WX +b$, как и в линейной регрессии).\n",
    "\n",
    "__Функция активации (activation function)__ – нелинейное преобразование, применяющееся ко всем данным пришедшим на вход поэлементно. Благодаря функциям активации нейронные сети способны преобразовывать данные *нелинейным образом*, что позволяет порождать более информативные признаковые описания.\n",
    "\n",
    "__Функция потерь (loss function)__ – функция потерь, оценивающая качество полученного предсказания. Как правило, от функции потерь требуется свойство дифференцируемости."
   ]
  },
  {
   "cell_type": "markdown",
   "metadata": {},
   "source": [
    "![img](https://pytorch.org/tutorials/_static/pytorch-logo-dark.svg)\n",
    "### Введение в PyTorch\n",
    "\n",
    "[__PyTorch__](http://pytorch.org/) – один из основных фреймворков в DL на текущий момент. Его серьезным преимуществом является способность динамически строить граф вычислений. Все вычисления могут производиться в тот момент, когда вы к ним обращаетесь, что значительно упрощает как обучение, так и отладку моделей. Также он способен *автоматически вычислять градиенты*, *использовать GPU для ускорения вычислений* и в целом значительно упрощает разработку методов машинного обучения, основанных на нейронных сетях.\n",
    "\n",
    "Синтаксис в PyTorch во многом похож на Numpy. Рассмотрим подробнее различия и сходства."
   ]
  },
  {
   "cell_type": "code",
   "execution_count": 1,
   "metadata": {},
   "outputs": [
    {
     "name": "stdout",
     "output_type": "stream",
     "text": [
      "PyTorch version: 1.10.0\n"
     ]
    }
   ],
   "source": [
    "import numpy as np\n",
    "import torch\n",
    "print('PyTorch version: {}'.format(torch.__version__))\n",
    "import matplotlib.pyplot as plt\n",
    "%matplotlib inline\n",
    "\n",
    "from IPython.display import clear_output"
   ]
  },
  {
   "cell_type": "markdown",
   "metadata": {},
   "source": [
    "Создадим матрицу и применим к ней несколько базовых операций сначала с помощью numpy:"
   ]
  },
  {
   "cell_type": "code",
   "execution_count": 2,
   "metadata": {
    "scrolled": false
   },
   "outputs": [
    {
     "name": "stdout",
     "output_type": "stream",
     "text": [
      "X :\n",
      "[[ 0  1  2  3]\n",
      " [ 4  5  6  7]\n",
      " [ 8  9 10 11]\n",
      " [12 13 14 15]]\n",
      "\n",
      "X.shape : (4, 4)\n",
      "\n",
      "add 5 :\n",
      "[[ 5  6  7  8]\n",
      " [ 9 10 11 12]\n",
      " [13 14 15 16]\n",
      " [17 18 19 20]]\n",
      "\n",
      "X*X^T  :\n",
      "[[ 14  38  62  86]\n",
      " [ 38 126 214 302]\n",
      " [ 62 214 366 518]\n",
      " [ 86 302 518 734]]\n",
      "\n",
      "mean over cols :\n",
      "[ 1.5  5.5  9.5 13.5]\n",
      "\n",
      "cumsum of cols :\n",
      "[[ 0  1  2  3]\n",
      " [ 4  6  8 10]\n",
      " [12 15 18 21]\n",
      " [24 28 32 36]]\n",
      "\n"
     ]
    }
   ],
   "source": [
    "# numpy world\n",
    "\n",
    "x = np.arange(16).reshape(4,4)\n",
    "\n",
    "print(\"X :\\n%s\\n\" % x)\n",
    "print(\"X.shape : %s\\n\" % (x.shape,))\n",
    "print(\"add 5 :\\n%s\\n\" % (x + 5))\n",
    "print(\"X*X^T  :\\n%s\\n\" % np.dot(x,x.T))\n",
    "print(\"mean over cols :\\n%s\\n\" % (x.mean(axis=-1)))\n",
    "print(\"cumsum of cols :\\n%s\\n\" % (np.cumsum(x,axis=0)))"
   ]
  },
  {
   "cell_type": "markdown",
   "metadata": {},
   "source": [
    "А затем с помощью PyTorch:"
   ]
  },
  {
   "cell_type": "code",
   "execution_count": 3,
   "metadata": {},
   "outputs": [
    {
     "name": "stdout",
     "output_type": "stream",
     "text": [
      "X :\n",
      "tensor([[ 0.,  1.,  2.,  3.],\n",
      "        [ 4.,  5.,  6.,  7.],\n",
      "        [ 8.,  9., 10., 11.],\n",
      "        [12., 13., 14., 15.]])\n",
      "X.shape : torch.Size([4, 4])\n",
      "\n",
      "add 5 :\n",
      "tensor([[ 5.,  6.,  7.,  8.],\n",
      "        [ 9., 10., 11., 12.],\n",
      "        [13., 14., 15., 16.],\n",
      "        [17., 18., 19., 20.]])\n",
      "X*X^T  :\n",
      "tensor([[ 14.,  38.,  62.,  86.],\n",
      "        [ 38., 126., 214., 302.],\n",
      "        [ 62., 214., 366., 518.],\n",
      "        [ 86., 302., 518., 734.]])\n",
      "mean over cols :\n",
      "tensor([ 1.5000,  5.5000,  9.5000, 13.5000])\n",
      "cumsum of cols :\n",
      "tensor([[ 0.,  1.,  2.,  3.],\n",
      "        [ 4.,  6.,  8., 10.],\n",
      "        [12., 15., 18., 21.],\n",
      "        [24., 28., 32., 36.]])\n"
     ]
    }
   ],
   "source": [
    "# pytorch world\n",
    "\n",
    "x = np.arange(16).reshape(4,4)\n",
    "\n",
    "x = torch.tensor(x, dtype=torch.float32) #or torch.arange(0,16).view(4,4)\n",
    "\n",
    "print (\"X :\\n%s\" % x)\n",
    "print(\"X.shape : %s\\n\" % (x.shape,))\n",
    "print (\"add 5 :\\n%s\" % (x + 5))\n",
    "print (\"X*X^T  :\\n%s\" % torch.matmul(x,x.transpose(1,0)))  #short: x.mm(x.t())\n",
    "print (\"mean over cols :\\n%s\" % torch.mean(x,dim=-1))\n",
    "print (\"cumsum of cols :\\n%s\" % torch.cumsum(x,dim=0))"
   ]
  },
  {
   "cell_type": "markdown",
   "metadata": {},
   "source": [
    "Как можно заметить, их синтаксис крайне похож, что значительно упрощает изучение и использование PyTorch.\n",
    "Стоит заметить, что совместимость [не является полной](https://github.com/pytorch/pytorch/issues/50344), и смешивать `numpy` и `torch` неявным образом не стоит.\n",
    "\n",
    "Из различий в синтаксисе, например, стоит подметить:\n",
    "\n",
    "* Для указания нужной оси координат в PyTorch используется `dim`, в отличие от `axis` в numpy\n",
    " * `x.sum(axis=-1) -> x.sum(dim=-1)`\n",
    "* Приведение типов производится по-другому:\n",
    " * `x.astype('int64') -> x.type(torch.LongTensor)`\n",
    " \n",
    "И, конечно, numpy не позволяет использовать GPU и автоматически вычислять градиенты.\n",
    "\n",
    "Воспользуемся PyTorch на простом тригонометрическом примере (основанном на данной [публикации](https://www.quora.com/What-are-the-most-interesting-equation-plots)):"
   ]
  },
  {
   "cell_type": "markdown",
   "metadata": {},
   "source": [
    "Вычислим значения данной параметрической функции с помощью PyTorch:\n",
    "\n",
    "$$ x(t) = t - 1.5 * cos( 17 t) $$\n",
    "$$ y(t) = t - 1.5 * sin( 25 t) $$\n"
   ]
  },
  {
   "cell_type": "code",
   "execution_count": 4,
   "metadata": {},
   "outputs": [
    {
     "data": {
      "text/plain": [
       "[<matplotlib.lines.Line2D at 0x137439fa0>]"
      ]
     },
     "execution_count": 4,
     "metadata": {},
     "output_type": "execute_result"
    },
    {
     "data": {
      "image/png": "[encoded data removed]",
      "text/plain": [
       "<Figure size 432x288 with 1 Axes>"
      ]
     },
     "metadata": {
      "needs_background": "light"
     },
     "output_type": "display_data"
    }
   ],
   "source": [
    "t = torch.linspace(-10, 10, steps = 10000)\n",
    "\n",
    "# compute x(t) and y(t) as defined above\n",
    "x = t - 15 * torch.cos(1.7*t) # <your_code_here>\n",
    "y = t - 3 * torch.sin(5*t) # <your_code_here>\n",
    "\n",
    "plt.plot(x.numpy(), y.numpy())"
   ]
  },
  {
   "cell_type": "markdown",
   "metadata": {},
   "source": [
    "Попробуйте также поменять параметры и пронаблюдать, как меняется график для их различных значений."
   ]
  },
  {
   "cell_type": "markdown",
   "metadata": {},
   "source": [
    "### Метод обратного распространения ошибки и автоматическое вычисление градиентов в PyTorch\n",
    "\n",
    "Как уже не раз упоминалось, PyTorch позволяет автоматически вычислять градиенты.  Каждый \"тензор\" в PyTorch обладает булевым свойством `requires_grad`. Если ему присвоено значение `True`, то по данному тензору может быть посчитан градиент.\n",
    "\n",
    "Общая процедура выглядит следующим образом:\n",
    "* Пусть `x = torch.arange(5, requires_grad=True)`.\n",
    "* Результат операции суммирования будет равен `b = torch.sum(x)`.\n",
    "* Для вычисления градиентов достаточно вызвать метод `b.backward()` у результата операции суммирования.\n",
    "* После этого у `x` появятся градиенты $\\frac{\\delta b}{\\delta x}$.\n",
    "\n",
    "Также стоит помнить, что если `x` одновременно участвует в нескольких операциях, то градиенты от них __суммируются__.\n",
    "\n",
    "\n",
    "Рассмотрим на интерактивном примере:"
   ]
  },
  {
   "cell_type": "code",
   "execution_count": 5,
   "metadata": {},
   "outputs": [
    {
     "name": "stdout",
     "output_type": "stream",
     "text": [
      "tensor([0., 1., 2., 3., 4., 5., 6., 7., 8., 9.], requires_grad=True)\n",
      "gradients before backward call: None\n"
     ]
    }
   ],
   "source": [
    "x = torch.arange(10, dtype=torch.float32, requires_grad=True)\n",
    "print(x)\n",
    "print('gradients before backward call:', x.grad)\n",
    "b = x.sum()"
   ]
  },
  {
   "cell_type": "code",
   "execution_count": 6,
   "metadata": {},
   "outputs": [],
   "source": [
    "c = x.mean()"
   ]
  },
  {
   "cell_type": "code",
   "execution_count": 7,
   "metadata": {},
   "outputs": [],
   "source": [
    "c.backward()"
   ]
  },
  {
   "cell_type": "code",
   "execution_count": 8,
   "metadata": {},
   "outputs": [],
   "source": [
    "b.backward()"
   ]
  },
  {
   "cell_type": "code",
   "execution_count": 10,
   "metadata": {},
   "outputs": [
    {
     "name": "stdout",
     "output_type": "stream",
     "text": [
      "b=45.0\n",
      "gradients after backward call: tensor([3.1000, 3.1000, 3.1000, 3.1000, 3.1000, 3.1000, 3.1000, 3.1000, 3.1000,\n",
      "        3.1000])\n"
     ]
    }
   ],
   "source": [
    "print('b={}'.format(b))\n",
    "b.backward()\n",
    "print('gradients after backward call:', x.grad)"
   ]
  },
  {
   "cell_type": "markdown",
   "metadata": {},
   "source": [
    "#### Упрощенная задача оценки стоимости жилья\n",
    "Воспользуемся рассмотренными методами для решения задачи оценки стоимости жилья с использованием набора данных _Boston house-prices dataset_. Для начала рассмотрим одномерный случай."
   ]
  },
  {
   "cell_type": "code",
   "execution_count": 27,
   "metadata": {
    "scrolled": true
   },
   "outputs": [
    {
     "data": {
      "text/plain": [
       "<matplotlib.collections.PathCollection at 0x157706850>"
      ]
     },
     "execution_count": 27,
     "metadata": {},
     "output_type": "execute_result"
    },
    {
     "data": {
      "image/png": "[encoded data removed]",
      "text/plain": [
       "<Figure size 432x288 with 1 Axes>"
      ]
     },
     "metadata": {
      "needs_background": "light"
     },
     "output_type": "display_data"
    }
   ],
   "source": [
    "from sklearn.datasets import load_boston\n",
    "boston = load_boston()\n",
    "plt.scatter(boston.data[:, -1], boston.target)"
   ]
  },
  {
   "cell_type": "code",
   "execution_count": 28,
   "metadata": {},
   "outputs": [
    {
     "data": {
      "text/plain": [
       "(506, 13)"
      ]
     },
     "execution_count": 28,
     "metadata": {},
     "output_type": "execute_result"
    }
   ],
   "source": [
    "boston.data.shape"
   ]
  },
  {
   "cell_type": "code",
   "execution_count": 29,
   "metadata": {},
   "outputs": [],
   "source": [
    "w = torch.zeros(1, requires_grad=True)\n",
    "b = torch.zeros(1, requires_grad=True)\n",
    "\n",
    "x = torch.tensor(boston.data[:,-1] / 10, dtype=torch.float32)\n",
    "y = torch.tensor(boston.target, dtype=torch.float32)"
   ]
  },
  {
   "cell_type": "code",
   "execution_count": 30,
   "metadata": {},
   "outputs": [],
   "source": [
    "y_pred = w * x + b\n",
    "loss = torch.mean( (y_pred - y)**2 )"
   ]
  },
  {
   "cell_type": "code",
   "execution_count": 31,
   "metadata": {},
   "outputs": [],
   "source": [
    "b.grad"
   ]
  },
  {
   "cell_type": "code",
   "execution_count": 32,
   "metadata": {},
   "outputs": [],
   "source": [
    "# propagete gradients\n",
    "loss.backward()"
   ]
  },
  {
   "cell_type": "markdown",
   "metadata": {},
   "source": [
    "Градиенты можно увидеть в поле `.grad` у всех переменных, которые их \"требуют\"."
   ]
  },
  {
   "cell_type": "code",
   "execution_count": 33,
   "metadata": {},
   "outputs": [
    {
     "name": "stdout",
     "output_type": "stream",
     "text": [
      "dL/dw = tensor([-47.3514])\n",
      "\n",
      "dL/db = tensor([-45.0656])\n",
      "\n"
     ]
    }
   ],
   "source": [
    "print(\"dL/dw = {}\\n\".format(w.grad))\n",
    "print(\"dL/db = {}\\n\".format(b.grad))"
   ]
  },
  {
   "cell_type": "markdown",
   "metadata": {},
   "source": [
    "Ввиду накопления градиентов по умолчанию, __очищать их между шагами градиентного спуска необходимо вручную__."
   ]
  },
  {
   "cell_type": "code",
   "execution_count": 34,
   "metadata": {},
   "outputs": [
    {
     "data": {
      "image/png": "[encoded data removed]",
      "text/plain": [
       "<Figure size 432x288 with 1 Axes>"
      ]
     },
     "metadata": {
      "needs_background": "light"
     },
     "output_type": "display_data"
    },
    {
     "name": "stdout",
     "output_type": "stream",
     "text": [
      "loss =  28.3435\n"
     ]
    }
   ],
   "source": [
    "w = torch.zeros(1, requires_grad=True)\n",
    "b = torch.zeros(1, requires_grad=True)\n",
    "\n",
    "x = torch.tensor(boston.data[:,-1] / 10, dtype=torch.float32)\n",
    "y = torch.tensor(boston.target, dtype=torch.float32)\n",
    "\n",
    "for i in range(100):\n",
    "\n",
    "    y_pred = w * torch.log(x) + b\n",
    "    loss = torch.mean( (y - y_pred)**2 ) \n",
    "    loss.backward()\n",
    "\n",
    "    w.data -= 0.05 * w.grad.data\n",
    "    b.data -= 0.05 * b.grad.data\n",
    "    \n",
    "    #zero gradients\n",
    "    w.grad.data.zero_()\n",
    "    b.grad.data.zero_()\n",
    "    \n",
    "    # the rest of code is just bells and whistles\n",
    "    if (i+1)%5==0:\n",
    "        clear_output(True)\n",
    "        plt.scatter(x.data.numpy(), y.data.numpy())\n",
    "        plt.scatter(x.data.numpy(), y_pred.data.numpy(), color='orange', linewidth=5)\n",
    "        plt.show()\n",
    "\n",
    "        print(\"loss = \", loss.data.numpy())\n",
    "        if loss.data.numpy() < 0.5:\n",
    "            print(\"Done!\")\n",
    "            break"
   ]
  },
  {
   "cell_type": "markdown",
   "metadata": {},
   "source": [
    "Модель сходится и даже делает предсказания неплохого качества. Но, судя по графику, зависимость явно не является линейной.\n",
    "\n",
    "__Задача__: Попробуйте доработать код выше, чтобы регрессионная модель стала нелинейной. Помните о том, что вычисление градиентов происходит автоматически, т.е. достаточно лишь поменять способ вычисления `y_pred`. "
   ]
  },
  {
   "cell_type": "markdown",
   "metadata": {},
   "source": [
    "___ \n",
    "\n",
    "___ \n",
    "\n",
    "___\n",
    "________________________________________________________________\n",
    "________________________________________________________________\n",
    "________________________________________________________________\n",
    "________________________________________________________________\n",
    "________________________________________________________________\n",
    "________________________________________________________________\n",
    "После того, как вы справились с задачей выше, полезно обратить внимание на один небольшой, но очень важный момент: все значения тензора `x` были поделены на \"волшебную\" константу 10. Посмотрим, что произойдет, если этого не делать:"
   ]
  },
  {
   "cell_type": "code",
   "execution_count": 35,
   "metadata": {},
   "outputs": [
    {
     "data": {
      "text/plain": [
       "array([[6.3200e-03, 1.8000e+01, 2.3100e+00, ..., 1.5300e+01, 3.9690e+02,\n",
       "        4.9800e+00],\n",
       "       [2.7310e-02, 0.0000e+00, 7.0700e+00, ..., 1.7800e+01, 3.9690e+02,\n",
       "        9.1400e+00],\n",
       "       [2.7290e-02, 0.0000e+00, 7.0700e+00, ..., 1.7800e+01, 3.9283e+02,\n",
       "        4.0300e+00],\n",
       "       ...,\n",
       "       [6.0760e-02, 0.0000e+00, 1.1930e+01, ..., 2.1000e+01, 3.9690e+02,\n",
       "        5.6400e+00],\n",
       "       [1.0959e-01, 0.0000e+00, 1.1930e+01, ..., 2.1000e+01, 3.9345e+02,\n",
       "        6.4800e+00],\n",
       "       [4.7410e-02, 0.0000e+00, 1.1930e+01, ..., 2.1000e+01, 3.9690e+02,\n",
       "        7.8800e+00]])"
      ]
     },
     "execution_count": 35,
     "metadata": {},
     "output_type": "execute_result"
    }
   ],
   "source": [
    "boston.data"
   ]
  },
  {
   "cell_type": "code",
   "execution_count": 37,
   "metadata": {},
   "outputs": [
    {
     "data": {
      "image/png": "[encoded data removed]",
      "text/plain": [
       "<Figure size 432x288 with 1 Axes>"
      ]
     },
     "metadata": {
      "needs_background": "light"
     },
     "output_type": "display_data"
    },
    {
     "name": "stdout",
     "output_type": "stream",
     "text": [
      "loss =  nan\n"
     ]
    }
   ],
   "source": [
    "# Now we do not divide the x values by 10. See what happens next\n",
    "x = torch.tensor(boston.data[:,-1], dtype=torch.float32)\n",
    "\n",
    "w = torch.zeros(1, requires_grad=True)\n",
    "b = torch.zeros(1, requires_grad=True)\n",
    "\n",
    "\n",
    "grad_history = []\n",
    "\n",
    "for i in range(100):\n",
    "\n",
    "    y_pred = w * x  + b\n",
    "    loss = torch.mean( (y_pred - y)**2 )\n",
    "    loss.backward()\n",
    "    grad_history.append((w.grad.item(), b.grad.item()))\n",
    "\n",
    "    # Be extremely careful with accessing the .data attribute!\n",
    "    w.data -= 0.05 * w.grad.data\n",
    "    b.data -= 0.05 * b.grad.data\n",
    "    \n",
    "    #zero gradients\n",
    "    w.grad.data.zero_()\n",
    "    b.grad.data.zero_()\n",
    "    \n",
    "    # the rest of code is just bells and whistles\n",
    "    if (i+1)%5==0:\n",
    "        clear_output(True)\n",
    "        plt.scatter(x.data.numpy(), y.data.numpy())\n",
    "        plt.scatter(x.data.numpy(), y_pred.data.numpy(), color='orange', linewidth=5)\n",
    "        plt.show()\n",
    "\n",
    "        print(\"loss = \", loss.data.numpy())\n",
    "        if loss.data.numpy() < 0.5:\n",
    "            print(\"Done!\")\n",
    "            break\n"
   ]
  },
  {
   "cell_type": "code",
   "execution_count": 38,
   "metadata": {},
   "outputs": [
    {
     "data": {
      "text/plain": [
       "[<matplotlib.lines.Line2D at 0x157b56f70>]"
      ]
     },
     "execution_count": 38,
     "metadata": {},
     "output_type": "execute_result"
    },
    {
     "data": {
      "image/png": "[encoded data removed]",
      "text/plain": [
       "<Figure size 432x288 with 1 Axes>"
      ]
     },
     "metadata": {
      "needs_background": "light"
     },
     "output_type": "display_data"
    }
   ],
   "source": [
    "plt.plot([np.log(np.abs(element[0])) for element in grad_history], )"
   ]
  },
  {
   "cell_type": "code",
   "execution_count": 39,
   "metadata": {},
   "outputs": [],
   "source": [
    "# print(grad_history)"
   ]
  },
  {
   "cell_type": "markdown",
   "metadata": {},
   "source": [
    "Как вы могли заметить, мы столкнулись с \"взрывом градиентов\" (exloding gradients). Данная проблема является достаточно частой, и для ее решения используется нормировка данных, понижение learning rate или же техника _gradient clipping_, которая будет рассмотрена позднее.\n",
    "\n",
    "Константа 10 в данном случае была подобрана вручную. Лучше пользоваться классическими методами нормировки, например вручную:"
   ]
  },
  {
   "cell_type": "code",
   "execution_count": 40,
   "metadata": {},
   "outputs": [
    {
     "name": "stdout",
     "output_type": "stream",
     "text": [
      "(1,)\n",
      "(1,)\n"
     ]
    },
    {
     "data": {
      "text/plain": [
       "(506,)"
      ]
     },
     "execution_count": 40,
     "metadata": {},
     "output_type": "execute_result"
    }
   ],
   "source": [
    "x_normed = boston.data.copy()[:, -1]\n",
    "x_normed -= np.mean(x_normed)\n",
    "x_normed /= np.std(x_normed)\n",
    "print(x_normed.mean(axis=0, keepdims=True).shape)\n",
    "print(x_normed.std(axis=0, keepdims=True).shape)\n",
    "boston.data[:,-1].shape"
   ]
  },
  {
   "cell_type": "code",
   "execution_count": 41,
   "metadata": {},
   "outputs": [
    {
     "data": {
      "text/plain": [
       "(506,)"
      ]
     },
     "execution_count": 41,
     "metadata": {},
     "output_type": "execute_result"
    }
   ],
   "source": [
    "x_normed.shape"
   ]
  },
  {
   "cell_type": "code",
   "execution_count": 42,
   "metadata": {},
   "outputs": [
    {
     "data": {
      "text/plain": [
       "array([-1.07556230e+00, -4.92439366e-01, -1.20872740e+00, -1.36151682e+00,\n",
       "       -1.02650148e+00, -1.04332233e+00, -3.12676184e-02,  9.10700206e-01,\n",
       "        2.42177359e+00,  6.23343950e-01,  1.09292612e+00,  8.64783596e-02,\n",
       "        4.28502391e-01, -6.15792295e-01, -3.35444728e-01, -5.86355801e-01,\n",
       "       -8.51284251e-01,  2.82721656e-01, -1.34996218e-01, -1.92467469e-01,\n",
       "        1.17282518e+00,  1.64975678e-01,  8.50425479e-01,  1.01302707e+00,\n",
       "        5.11204923e-01,  5.40641418e-01,  3.02345986e-01,  6.48575231e-01,\n",
       "        2.05966814e-02, -9.43458210e-02,  1.39429976e+00,  5.42383894e-02,\n",
       "        2.11058779e+00,  7.98561179e-01,  1.07750701e+00, -4.16745523e-01,\n",
       "       -1.74244877e-01, -5.44303666e-01, -3.53667320e-01, -1.16807700e+00,\n",
       "       -1.49608365e+00, -1.09518663e+00, -9.59218064e-01, -7.30734797e-01,\n",
       "       -4.34968115e-01, -3.42453418e-01,  2.09831289e-01,  8.61639382e-01,\n",
       "        2.54512652e+00,  4.97187545e-01,  1.11709641e-01, -4.51788969e-01,\n",
       "       -1.03351017e+00, -5.91962752e-01,  3.00944248e-01, -1.09939185e+00,\n",
       "       -9.64825016e-01, -1.21994130e+00, -8.12035592e-01, -4.81225463e-01,\n",
       "        6.96575056e-02,  2.50481686e-01, -8.30258184e-01, -4.41976804e-01,\n",
       "       -6.45228790e-01, -1.11901618e+00, -3.38248204e-01, -6.38220100e-01,\n",
       "        6.12470786e-02, -5.41500190e-01, -8.31659921e-01, -3.88710766e-01,\n",
       "       -9.99868462e-01, -7.16717419e-01, -8.23249494e-01, -5.20474122e-01,\n",
       "       -9.57475588e-02, -3.34042991e-01, -4.38832589e-02, -4.98046317e-01,\n",
       "       -1.03210843e+00, -7.61573030e-01, -8.31659921e-01, -7.20922633e-01,\n",
       "       -4.25155950e-01, -8.58292940e-01,  2.90071084e-02, -5.90561014e-01,\n",
       "       -1.00267194e+00, -9.74637181e-01, -5.38696714e-01, -6.24202722e-01,\n",
       "       -6.29809673e-01, -9.03148551e-01, -2.89187380e-01, -8.41472086e-01,\n",
       "       -1.84057042e-01, -1.18349612e+00, -1.27320734e+00, -9.05952027e-01,\n",
       "       -4.53190706e-01, -6.98494827e-01, -2.83580429e-01,  1.10307903e-01,\n",
       "       -4.52849968e-02,  5.35034466e-01,  8.42015052e-01,  2.01420862e-01,\n",
       "       -5.36954238e-02,  4.06074586e-01,  4.86314381e-02, -3.49462107e-01,\n",
       "        4.98589283e-01,  6.21942212e-01, -3.08811710e-01,  4.35511080e-01,\n",
       "       -8.59353940e-02, -3.29837777e-01,  3.80843305e-01,  1.34137446e-01,\n",
       "        2.40669521e-01,  2.26652143e-01,  7.39688190e-01,  1.78818809e+00,\n",
       "        6.90627366e-01,  3.02345986e-01,  2.04750959e+00,  6.35959590e-01,\n",
       "        3.83646780e-01,  7.97159441e-01, -7.43807526e-03, -5.50971616e-02,\n",
       "       -2.14895275e-01,  3.33184218e-01,  6.52780444e-01,  6.03719620e-01,\n",
       "        5.95309193e-01,  2.71507754e-01,  1.21487732e+00,  8.13980295e-01,\n",
       "        1.61297086e+00,  3.04975214e+00,  1.98583312e+00,  1.92976361e+00,\n",
       "        2.33206237e+00,  2.12320343e+00,  5.60265747e-01,  2.36570408e+00,\n",
       "        2.19609380e+00,  1.23309991e+00,  2.02822600e-01,  8.78800974e-02,\n",
       "       -7.47214913e-02,  4.39716294e-01,  3.45799859e-01,  3.31782480e-01,\n",
       "        4.88777118e-01, -1.13023008e+00, -8.72310319e-01, -7.37743487e-01,\n",
       "       -1.00267194e+00, -1.53112710e+00, -1.50449408e+00, -1.30825078e+00,\n",
       "       -1.42004907e-01, -3.98522931e-01, -1.25498475e+00, -7.19180156e-02,\n",
       "       -2.17698750e-01, -1.86860518e-01,  2.49079948e-01, -8.73371318e-02,\n",
       "        2.85525132e-01, -5.06456744e-01, -4.22352474e-01, -1.02650148e+00,\n",
       "       -3.56470796e-01, -8.91934648e-01, -8.03625165e-01, -1.06715188e+00,\n",
       "       -7.13913943e-01, -4.48985493e-01, -1.09799011e+00, -9.77440656e-01,\n",
       "        1.86001746e-01,  6.96575056e-02, -1.14985441e+00, -8.37266873e-01,\n",
       "       -1.13443529e+00, -1.01809105e+00, -1.05874145e+00, -1.11621270e+00,\n",
       "       -1.37132899e+00, -1.06855362e+00, -1.15966657e+00, -1.35731161e+00,\n",
       "       -1.20171871e+00, -5.66731471e-01, -8.45677300e-01, -1.13443529e+00,\n",
       "       -1.14985441e+00, -7.32136535e-01, -1.33768728e+00, -1.23956563e+00,\n",
       "       -1.36992725e+00, -2.49938720e-01, -2.35921342e-01,  7.57910782e-01,\n",
       "        2.81319918e-01,  1.46298491e+00,  6.47173493e-01,  1.58773958e+00,\n",
       "        4.73358002e-01, -4.58797658e-01,  2.36850755e+00, -4.46182017e-01,\n",
       "        1.20120068e-01, -4.15343785e-01,  7.38286452e-01, -3.01803020e-01,\n",
       "       -4.12540309e-01,  1.23450165e+00, -3.81702077e-01, -7.08306992e-01,\n",
       "       -1.19330828e+00, -1.12462313e+00, -1.33488380e+00, -8.82122484e-01,\n",
       "       -1.22414651e+00, -1.24657432e+00, -1.40603169e-01, -1.03771538e+00,\n",
       "       -1.42739850e+00, -1.21994130e+00, -6.45228790e-01, -2.48536983e-01,\n",
       "       -4.36369852e-01, -1.11060575e+00, -8.82122484e-01, -7.40546962e-01,\n",
       "       -1.78450091e-01, -3.54728319e-02, -2.00877896e-01, -1.04612581e+00,\n",
       "       -2.14554536e-02,  8.13980295e-01, -4.89635890e-01, -3.50863845e-01,\n",
       "       -4.39173328e-01, -8.54087727e-01, -9.46602424e-01, -1.27040386e+00,\n",
       "       -1.27881429e+00, -1.27741255e+00, -8.52685989e-01, -4.77020250e-01,\n",
       "       -1.33768728e+00, -1.05593797e+00, -6.81673973e-01, -8.06428640e-01,\n",
       "       -4.29361163e-01, -7.55966078e-01, -9.45200686e-01, -1.96672683e-01,\n",
       "       -6.38220100e-01, -3.08811710e-01,  2.99542510e-01, -7.30734797e-01,\n",
       "       -1.33067859e+00,  1.39744397e-01,  4.86314381e-02, -8.49882513e-01,\n",
       "       -6.90084400e-01, -8.51284251e-01, -1.27881429e+00, -1.35590987e+00,\n",
       "       -9.25576356e-01, -1.19050481e+00, -7.65778243e-01, -1.09378490e+00,\n",
       "       -1.24657432e+00, -1.13023008e+00, -1.35170466e+00, -1.33067859e+00,\n",
       "       -6.73263546e-01, -6.19997509e-01,  3.88192732e-02, -7.72786932e-01,\n",
       "       -7.08306992e-01, -4.40575066e-01, -1.30684905e+00, -1.27460908e+00,\n",
       "       -1.11481096e+00, -5.70936684e-01, -3.15820399e-01, -8.94738124e-01,\n",
       "       -7.37743487e-01,  4.46724983e-01, -1.07696404e+00, -1.10920401e+00,\n",
       "       -9.22772881e-01, -4.41976804e-01, -5.58321044e-01, -1.09238316e+00,\n",
       "       -8.02223427e-01, -5.21875860e-01, -8.66703367e-01, -7.18119157e-01,\n",
       "       -1.13723877e+00, -3.76095126e-01, -1.83112393e-03, -9.35388521e-01,\n",
       "       -1.30791005e-01, -6.66254857e-01, -4.72815036e-01, -1.61629237e-01,\n",
       "        7.95757703e-01,  4.60742361e-01, -3.21427350e-01,  1.07845166e-02,\n",
       "       -7.64376505e-01, -8.10633854e-01, -6.94289614e-01, -1.27987529e-01,\n",
       "       -9.15764192e-01, -1.06154493e+00, -9.11558978e-01,  1.91949436e-02,\n",
       "       -3.76095126e-01, -7.44752176e-01, -4.99448055e-01, -3.12676184e-02,\n",
       "       -6.76067022e-01, -9.77440656e-01, -8.27454708e-01, -6.50835741e-01,\n",
       "       -3.99924669e-01, -2.93392593e-01, -5.80748849e-01, -4.08335096e-01,\n",
       "       -4.71413298e-01, -1.00407368e+00, -5.61124520e-01, -7.67179981e-01,\n",
       "       -1.12742660e+00, -2.97597807e-01,  2.37408957e-03, -8.82122484e-01,\n",
       "       -9.33986783e-01, -9.48004162e-01, -9.35388521e-01, -1.00407368e+00,\n",
       "       -6.81673973e-01, -1.14284572e+00, -6.45228790e-01, -9.92859772e-01,\n",
       "        6.93430842e-01,  8.64783596e-02, -1.64432713e-01,  2.37408957e-03,\n",
       "       -6.81673973e-01,  2.15438240e-01, -3.45256893e-01,  2.78516443e-01,\n",
       "       -1.03210843e+00, -7.75590408e-01,  1.88805221e-01,  9.48887866e-02,\n",
       "       -1.31666121e+00, -1.25077953e+00, -1.35871335e+00, -4.37771590e-01,\n",
       "       -5.28884549e-01,  3.10021470e+00,  3.54877081e+00,  1.10307903e-01,\n",
       "        1.48401098e+00,  1.20366341e+00,  1.54708918e+00,  1.27935726e+00,\n",
       "        6.38763066e-01,  1.18123561e+00,  1.53447354e+00,  1.66904037e+00,\n",
       "        2.51989524e+00,  2.54512652e+00,  2.19048685e+00,  2.71053158e+00,\n",
       "        2.51849350e+00,  1.14899564e+00,  6.24745688e-01,  8.56032430e-01,\n",
       "        1.82603501e+00,  3.52808548e-01,  5.18213612e-01,  6.26147426e-01,\n",
       "        9.41538438e-01,  1.01863402e+00,  2.51428829e+00,  2.42738054e+00,\n",
       "        1.97882444e+00,  1.07470353e+00,  1.07330179e+00,  9.97607952e-01,\n",
       "        2.06433044e+00,  1.44756580e+00,  1.49802836e+00, -7.33197534e-02,\n",
       "        1.92696014e+00,  9.99009689e-01, -3.56470796e-01,  1.20085994e+00,\n",
       "        3.04414519e+00,  1.04106182e+00,  3.40999876e+00,  2.29842066e+00,\n",
       "        1.84145413e+00,  1.96060184e+00,  1.11675567e+00,  1.41392409e+00,\n",
       "        3.31782480e-01,  4.27100653e-01,  2.02822600e-01,  1.49101967e+00,\n",
       "        6.31754377e-01,  1.64521083e+00,  4.25698915e-01,  2.61695589e-01,\n",
       "        1.24291207e+00,  1.60175696e+00,  6.99037793e-01,  9.86394049e-01,\n",
       "       -8.73371318e-02,  4.99991021e-01,  3.52808548e-01,  1.48821619e+00,\n",
       "        7.56509044e-01,  1.93396882e+00,  2.99508436e+00,  1.43354842e+00,\n",
       "        1.32561460e+00,  9.62564506e-01,  5.51855320e-01,  8.68648071e-01,\n",
       "        1.56110656e+00,  1.58773958e+00,  7.20063860e-01,  5.30829253e-01,\n",
       "        7.67722947e-01,  9.33128011e-01,  6.71003036e-01,  7.11653433e-01,\n",
       "        6.47173493e-01,  5.72881388e-01,  8.49023741e-01,  7.67722947e-01,\n",
       "        8.91075876e-01,  6.00916145e-01,  5.01392758e-01,  2.86926870e-01,\n",
       "        5.28025777e-01,  2.79918181e-01,  1.87403484e-01, -3.31239515e-01,\n",
       "        7.94696704e-02,  2.07027813e-01,  6.30352639e-01,  1.21487732e+00,\n",
       "        7.67722947e-01,  2.95337297e-01,  5.09803185e-01,  3.04088462e-02,\n",
       "        2.39267783e-01, -1.39201432e-01,  7.69124685e-01,  1.60456043e+00,\n",
       "        8.44818528e-01,  1.71810120e+00,  7.53705568e-01,  6.40505543e-02,\n",
       "       -2.68161312e-01, -6.88682662e-01, -7.91009524e-01, -3.13016923e-01,\n",
       "        9.62905244e-02, -2.90589118e-01,  3.26175529e-01, -1.68637926e-01,\n",
       "        7.57910782e-01,  1.58633784e+00,  2.38673014e+00,  7.59312520e-01,\n",
       "        9.76922623e-02, -9.01406075e-02,  1.31333970e-01,  6.93430842e-01,\n",
       "        1.18964603e+00,  2.02822600e-01,  3.74175354e-02,  3.42996383e-01,\n",
       "        2.35062570e-01, -4.18147261e-01, -5.00849793e-01, -9.83047608e-01,\n",
       "       -8.65301630e-01, -6.69058333e-01])"
      ]
     },
     "execution_count": 42,
     "metadata": {},
     "output_type": "execute_result"
    }
   ],
   "source": [
    "x_normed"
   ]
  },
  {
   "cell_type": "markdown",
   "metadata": {},
   "source": [
    "Или же с использованием средств `sklearn`:\n"
   ]
  },
  {
   "cell_type": "code",
   "execution_count": 43,
   "metadata": {},
   "outputs": [],
   "source": [
    "from sklearn.preprocessing import StandardScaler\n",
    "scaler = StandardScaler().fit(boston.data)"
   ]
  },
  {
   "cell_type": "markdown",
   "metadata": {},
   "source": [
    "Или с использованием средств PyTorch и др.\n",
    "\n",
    "Из примера выше можно сделать простой вывод:\n",
    "\n",
    "__Будьте осторожны при использовании градиентных методов оптимизации. Даже в случае использования простых моделей (например, линейной регрессии), требуется аккуратная настройка гиперпараметров и качественная предобработка данных.__\n",
    "___"
   ]
  },
  {
   "cell_type": "markdown",
   "metadata": {},
   "source": [
    "Таким образом, при аккуратном использовании PyTorch может вычислять производные для очень сложных выражений. Для более детального разбора данного механизма обратимся к слайдам."
   ]
  },
  {
   "cell_type": "markdown",
   "metadata": {},
   "source": [
    "__Go to slides__"
   ]
  },
  {
   "cell_type": "markdown",
   "metadata": {},
   "source": [
    "___\n",
    "### Реальная задача и высокоуровневое API PyTorch\n",
    "Наконец, применим полученные знания для решения задачи предсказания цены квартиры уже с использованием всех данных. В этом нам поможет высокоуровневое API PyTorch, которым мы воспользуемся далее.\n",
    "\n",
    "Также, напоминаем, что в любой момент можно обратиться к замечательной [документации](https://pytorch.org/docs/stable/index.html) и [обучающим примерам](https://pytorch.org/tutorials/).  "
   ]
  },
  {
   "cell_type": "code",
   "execution_count": 44,
   "metadata": {},
   "outputs": [],
   "source": [
    "from torch import nn\n",
    "from torch.nn import functional as F"
   ]
  },
  {
   "cell_type": "markdown",
   "metadata": {},
   "source": [
    "Еще раз обратимся к стуктуре базового класса `nn.Module`:"
   ]
  },
  {
   "cell_type": "code",
   "execution_count": 45,
   "metadata": {},
   "outputs": [
    {
     "data": {
      "text/plain": [
       "Module()"
      ]
     },
     "execution_count": 45,
     "metadata": {},
     "output_type": "execute_result"
    }
   ],
   "source": [
    "nn.Module()"
   ]
  },
  {
   "cell_type": "code",
   "execution_count": 46,
   "metadata": {},
   "outputs": [
    {
     "name": "stdout",
     "output_type": "stream",
     "text": [
      "Base class for all neural network modules.\n",
      "\n",
      "    Your models should also subclass this class.\n",
      "\n",
      "    Modules can also contain other Modules, allowing to nest them in\n",
      "    a tree structure. You can assign the submodules as regular attributes::\n",
      "\n",
      "        import torch.nn as nn\n",
      "        import torch.nn.functional as F\n",
      "\n",
      "        class Model(nn.Module):\n",
      "            def __init__(self):\n",
      "                super(Model, self).__init__()\n",
      "                self.conv1 = nn.Conv2d(1, 20, 5)\n",
      "                self.conv2 = nn.Conv2d(20, 20, 5)\n",
      "\n",
      "            def forward(self, x):\n",
      "                x = F.relu(self.conv1(x))\n",
      "                return F.relu(self.conv2(x))\n",
      "\n",
      "    Submodules assigned in this way will be registered, and will have their\n",
      "    parameters converted too when you call :meth:`to`, etc.\n",
      "\n",
      "    :ivar training: Boolean represents whether this module is in training or\n",
      "                    evaluation mode.\n",
      "    :vartype training: bool\n",
      "    \n"
     ]
    }
   ],
   "source": [
    "print(nn.Module.__doc__)"
   ]
  },
  {
   "cell_type": "markdown",
   "metadata": {},
   "source": [
    "Рассмотрим наши полные данные:"
   ]
  },
  {
   "cell_type": "code",
   "execution_count": 47,
   "metadata": {},
   "outputs": [],
   "source": [
    "from sklearn.model_selection import train_test_split"
   ]
  },
  {
   "cell_type": "code",
   "execution_count": 48,
   "metadata": {},
   "outputs": [],
   "source": [
    "X_train, X_test, y_train, y_test = train_test_split(boston.data, boston.target)"
   ]
  },
  {
   "cell_type": "code",
   "execution_count": 49,
   "metadata": {},
   "outputs": [],
   "source": [
    "from sklearn.preprocessing import StandardScaler\n",
    "scaler = StandardScaler().fit(X_train)\n",
    "X_train = scaler.transform(X_train)\n",
    "X_test = scaler.transform(X_test)"
   ]
  },
  {
   "cell_type": "code",
   "execution_count": 50,
   "metadata": {},
   "outputs": [],
   "source": [
    "X_train_torch = torch.tensor(X_train, dtype=torch.float32)\n",
    "X_test_torch = torch.tensor(X_test, dtype=torch.float32)\n",
    "\n",
    "y_train_torch = torch.tensor(y_train, dtype=torch.float32)[:, None]\n",
    "y_test_torch = torch.tensor(y_test, dtype=torch.float32)[:, None]"
   ]
  },
  {
   "cell_type": "code",
   "execution_count": 51,
   "metadata": {},
   "outputs": [
    {
     "data": {
      "text/plain": [
       "(506, 13)"
      ]
     },
     "execution_count": 51,
     "metadata": {},
     "output_type": "execute_result"
    }
   ],
   "source": [
    "boston.data.shape"
   ]
  },
  {
   "cell_type": "code",
   "execution_count": 52,
   "metadata": {},
   "outputs": [
    {
     "data": {
      "text/plain": [
       "torch.Size([379, 13])"
      ]
     },
     "execution_count": 52,
     "metadata": {},
     "output_type": "execute_result"
    }
   ],
   "source": [
    "X_train_torch.shape"
   ]
  },
  {
   "cell_type": "code",
   "execution_count": null,
   "metadata": {},
   "outputs": [],
   "source": []
  },
  {
   "cell_type": "markdown",
   "metadata": {},
   "source": [
    "Построим простейшую линейную модель. Для объединения нескольких последовательных преобразований можно воспользоваться `nn.Sequential`:"
   ]
  },
  {
   "cell_type": "code",
   "execution_count": 53,
   "metadata": {},
   "outputs": [
    {
     "name": "stdout",
     "output_type": "stream",
     "text": [
      "A sequential container.\n",
      "    Modules will be added to it in the order they are passed in the\n",
      "    constructor. Alternatively, an ``OrderedDict`` of modules can be\n",
      "    passed in. The ``forward()`` method of ``Sequential`` accepts any\n",
      "    input and forwards it to the first module it contains. It then\n",
      "    \"chains\" outputs to inputs sequentially for each subsequent module,\n",
      "    finally returning the output of the last module.\n",
      "\n",
      "    The value a ``Sequential`` provides over manually calling a sequence\n",
      "    of modules is that it allows treating the whole container as a\n",
      "    single module, such that performing a transformation on the\n",
      "    ``Sequential`` applies to each of the modules it stores (which are\n",
      "    each a registered submodule of the ``Sequential``).\n",
      "\n",
      "    What's the difference between a ``Sequential`` and a\n",
      "    :class:`torch.nn.ModuleList`? A ``ModuleList`` is exactly what it\n",
      "    sounds like--a list for storing ``Module`` s! On the other hand,\n",
      "    the layers in a ``Sequential`` are connected in a cascading way.\n",
      "\n",
      "    Example::\n",
      "\n",
      "        # Using Sequential to create a small model. When `model` is run,\n",
      "        # input will first be passed to `Conv2d(1,20,5)`. The output of\n",
      "        # `Conv2d(1,20,5)` will be used as the input to the first\n",
      "        # `ReLU`; the output of the first `ReLU` will become the input\n",
      "        # for `Conv2d(20,64,5)`. Finally, the output of\n",
      "        # `Conv2d(20,64,5)` will be used as input to the second `ReLU`\n",
      "        model = nn.Sequential(\n",
      "                  nn.Conv2d(1,20,5),\n",
      "                  nn.ReLU(),\n",
      "                  nn.Conv2d(20,64,5),\n",
      "                  nn.ReLU()\n",
      "                )\n",
      "\n",
      "        # Using Sequential with OrderedDict. This is functionally the\n",
      "        # same as the above code\n",
      "        model = nn.Sequential(OrderedDict([\n",
      "                  ('conv1', nn.Conv2d(1,20,5)),\n",
      "                  ('relu1', nn.ReLU()),\n",
      "                  ('conv2', nn.Conv2d(20,64,5)),\n",
      "                  ('relu2', nn.ReLU())\n",
      "                ]))\n",
      "    \n"
     ]
    }
   ],
   "source": [
    "print(nn.Sequential.__doc__)"
   ]
  },
  {
   "cell_type": "code",
   "execution_count": 54,
   "metadata": {},
   "outputs": [],
   "source": [
    "NUM_FEATURES = X_train.shape[1]"
   ]
  },
  {
   "cell_type": "code",
   "execution_count": 55,
   "metadata": {},
   "outputs": [],
   "source": [
    "# Creating model instance\n",
    "model = nn.Sequential()\n",
    "\n",
    "model.add_module('l1', nn.Linear(NUM_FEATURES, 1))"
   ]
  },
  {
   "cell_type": "markdown",
   "metadata": {},
   "source": [
    "На текущий момент в нашей модели лишь один слой:"
   ]
  },
  {
   "cell_type": "code",
   "execution_count": 56,
   "metadata": {},
   "outputs": [
    {
     "name": "stdout",
     "output_type": "stream",
     "text": [
      "Weight shapes: [torch.Size([1, 13]), torch.Size([1])]\n"
     ]
    }
   ],
   "source": [
    "print(\"Weight shapes:\", [w.shape for w in model.parameters()])"
   ]
  },
  {
   "cell_type": "markdown",
   "metadata": {},
   "source": [
    "Рассмотрим поведение нашей модели на данных подходящей размерности:"
   ]
  },
  {
   "cell_type": "code",
   "execution_count": 57,
   "metadata": {},
   "outputs": [
    {
     "data": {
      "text/plain": [
       "tensor([[ 0.4860],\n",
       "        [-0.3427],\n",
       "        [ 0.1993]], grad_fn=<AddmmBackward0>)"
      ]
     },
     "execution_count": 57,
     "metadata": {},
     "output_type": "execute_result"
    }
   ],
   "source": [
    "example_input = X_train_torch[:3]\n",
    "example_target = y_train_torch[:3]\n",
    "\n",
    "# compute outputs given inputs, both are variables\n",
    "y_predicted = model(example_input)\n",
    "\n",
    "y_predicted # display what we've got"
   ]
  },
  {
   "cell_type": "markdown",
   "metadata": {},
   "source": [
    "В качестве функции потерь воспользуемся среднеквадратичной ошибкой MSE. Она также уже реализована в виде класса в PyTorch: `nn.MSELoss` (или в виде функции `F.mse_loss`)."
   ]
  },
  {
   "cell_type": "code",
   "execution_count": 58,
   "metadata": {},
   "outputs": [],
   "source": [
    "loss_function = nn.MSELoss()"
   ]
  },
  {
   "cell_type": "code",
   "execution_count": 59,
   "metadata": {},
   "outputs": [],
   "source": [
    "loss = loss_function(y_predicted, example_target)"
   ]
  },
  {
   "cell_type": "code",
   "execution_count": 60,
   "metadata": {},
   "outputs": [
    {
     "data": {
      "text/plain": [
       "tensor(326.9503, grad_fn=<MseLossBackward0>)"
      ]
     },
     "execution_count": 60,
     "metadata": {},
     "output_type": "execute_result"
    }
   ],
   "source": [
    "loss"
   ]
  },
  {
   "cell_type": "markdown",
   "metadata": {},
   "source": [
    "Теперь мы сможем вычислить градиенты простым вызовом `loss.backward()`. Но перед этим введем последнее улучшение в базовый pipeline для одномерного случая. В нем мы реализовывали градиентный спуск вручную. Конечно, на практике используются уже реализованные механизмы оптимизации, такие как `SGD, Momentum, RMSProp, Adam` и другие. Они доступны в `torch.opt`."
   ]
  },
  {
   "cell_type": "code",
   "execution_count": 61,
   "metadata": {},
   "outputs": [],
   "source": [
    "opt = torch.optim.SGD(model.parameters(), lr=0.01)"
   ]
  },
  {
   "cell_type": "code",
   "execution_count": 62,
   "metadata": {},
   "outputs": [],
   "source": [
    "# Get the gradients\n",
    "loss.backward()   \n",
    "\n",
    "# Make a step\n",
    "opt.step()          \n",
    "\n",
    "# Remove the gradients from the previous step\n",
    "opt.zero_grad()"
   ]
  },
  {
   "cell_type": "markdown",
   "metadata": {},
   "source": [
    "Наконец, нейронная сеть отлажена и мы можем запустить процедуру обучения (далее используется уже нейросеть из нескольких слоев):"
   ]
  },
  {
   "cell_type": "code",
   "execution_count": 65,
   "metadata": {},
   "outputs": [],
   "source": [
    "# Creating model instance\n",
    "model = nn.Sequential()\n",
    "\n",
    "model.add_module('l1', nn.Linear(NUM_FEATURES, 16))\n",
    "model.add_module('tanh', nn.Tanh())\n",
    "model.add_module('l2', nn.Linear(16, 1))\n",
    "\n",
    "\n",
    "loss_function = nn.MSELoss()\n",
    "\n",
    "opt = torch.optim.SGD(model.parameters(), lr=0.01)"
   ]
  },
  {
   "cell_type": "code",
   "execution_count": 66,
   "metadata": {},
   "outputs": [
    {
     "data": {
      "image/png": "[encoded data removed]",
      "text/plain": [
       "<Figure size 432x288 with 1 Axes>"
      ]
     },
     "metadata": {
      "needs_background": "light"
     },
     "output_type": "display_data"
    }
   ],
   "source": [
    "NUM_EPOCH = 150\n",
    "train_loss_history, test_loss_history = [], []\n",
    "\n",
    "for epoch_num in range(NUM_EPOCH):\n",
    "    opt.zero_grad()\n",
    "    \n",
    "    random_indices = np.random.choice(np.arange(len(X_train_torch)), size=32)\n",
    "    X_train_torch_batch = X_train_torch[random_indices]\n",
    "    y_train_torch_batch = y_train_torch[random_indices]\n",
    "    y_predicted = model(X_train_torch_batch)\n",
    "    loss = loss_function(y_predicted, y_train_torch_batch)\n",
    "    loss.backward()\n",
    "    opt.step()\n",
    "    \n",
    "    train_loss_history.append(loss.item()) # Always use .item() to store scalars in logs!\n",
    "    \n",
    "    with torch.no_grad():\n",
    "        y_predicted_test = model(X_test_torch)\n",
    "        test_loss_history.append(loss_function(y_predicted_test, y_test_torch).item())\n",
    "    # the rest of code is just bells and whistles\n",
    "\n",
    "    clear_output(True)\n",
    "    plt.plot(np.arange(len(train_loss_history)), train_loss_history, label='train')\n",
    "    plt.plot(np.arange(len(test_loss_history)), test_loss_history, label='test')\n",
    "    plt.title('MSE Loss')\n",
    "    plt.legend()\n",
    "    plt.show()\n"
   ]
  },
  {
   "cell_type": "markdown",
   "metadata": {},
   "source": [
    "Ввиду небольших размеров датасета, мы оценивали значение функции потерь и градиенты сразу на всех выборке на каждом шаге. __При работе с крупными датасетами необходимо разбиение на подвыборки (батчи)__. Аналогичное разбиение мы использовали в предыдущем занятии и еще не раз с ним столкнемся.\n",
    "\n",
    "Теперь вернемся выше и попробуем теперь сделать нейронную сеть глубже используя несколько слоев."
   ]
  },
  {
   "cell_type": "code",
   "execution_count": 67,
   "metadata": {},
   "outputs": [
    {
     "name": "stdout",
     "output_type": "stream",
     "text": [
      "Final NN MSE on train data: 25.819\n",
      "Final NN MSE on test data: 18.031\n"
     ]
    }
   ],
   "source": [
    "print('Final NN MSE on train data: {:.3f}'.format(train_loss_history[-1]))\n",
    "print('Final NN MSE on test data: {:.3f}'.format(test_loss_history[-1]))"
   ]
  },
  {
   "cell_type": "markdown",
   "metadata": {},
   "source": [
    "Сравним полученные результаты с `Random Forest` и линейной регрессией из `sklearn`:"
   ]
  },
  {
   "cell_type": "code",
   "execution_count": 68,
   "metadata": {},
   "outputs": [],
   "source": [
    "from sklearn.linear_model import LinearRegression\n",
    "from sklearn.ensemble import RandomForestRegressor\n",
    "from sklearn.metrics import mean_squared_error"
   ]
  },
  {
   "cell_type": "code",
   "execution_count": 69,
   "metadata": {},
   "outputs": [
    {
     "name": "stdout",
     "output_type": "stream",
     "text": [
      "Final sklearn Linear Regression MSE on train data: 21.143\n",
      "Final sklearn Linear Regression MSE on test data: 26.166\n"
     ]
    }
   ],
   "source": [
    "lr_sklearn = LinearRegression().fit(X_train, y_train)\n",
    "print('Final sklearn Linear Regression MSE on train data: {:.3f}'.format(\n",
    "    mean_squared_error(lr_sklearn.predict(X_train), y_train)\n",
    "))\n",
    "print('Final sklearn Linear Regression MSE on test data: {:.3f}'.format(\n",
    "    mean_squared_error(lr_sklearn.predict(X_test), y_test)\n",
    "))"
   ]
  },
  {
   "cell_type": "code",
   "execution_count": 70,
   "metadata": {},
   "outputs": [
    {
     "name": "stdout",
     "output_type": "stream",
     "text": [
      "Final sklearn Random Forest MSE on train data: 1.599\n",
      "Final sklearn Random Forest MSE on test data: 13.246\n"
     ]
    }
   ],
   "source": [
    "rf_sklearn = RandomForestRegressor(n_estimators=50).fit(X_train, y_train)\n",
    "print('Final sklearn Random Forest MSE on train data: {:.3f}'.format(\n",
    "    mean_squared_error(rf_sklearn.predict(X_train), y_train)\n",
    "))\n",
    "print('Final sklearn Random Forest MSE on test data: {:.3f}'.format(\n",
    "    mean_squared_error(rf_sklearn.predict(X_test), y_test)\n",
    "))"
   ]
  },
  {
   "cell_type": "markdown",
   "metadata": {},
   "source": [
    "Как можно заметить, результаты линейной модели в PyTorch сопоставимы с результатами `sklearn`. Но линейная модель – лишь частный, простейший случай нейронной сети, и PyTorch позволяет с легкостью дорабатывать ее, в то время как в `sklearn` для учета нелинейных зависимостей необходимо генерировать признаки вручную или же использовать другие классы моделей (например, ансамбли деревьев)."
   ]
  },
  {
   "cell_type": "markdown",
   "metadata": {},
   "source": [
    "### Выводы:\n",
    "* Механизм обратного распространения ошибки (backprop) – основной принцип обучения всех современный нейронных сетей. В его основе лежит простейшая математика.\n",
    "* Отличная статья на тему понимания backprop за авторством Andrej Karpathy (один из авторов курса Stanford CS231n, ex. Tesla Head of AI): [Yes, you should understand backprop](https://karpathy.medium.com/yes-you-should-understand-backprop-e2f06eab496b)\n",
    "* Функции активации позволяют нейронным сетям автоматически выделять нелинейные зависимости между признаками и использовать их для решения задачи.\n",
    "* Различные функции активации обладают различными свойствами. О них стоит помнить, используя их на практике. Отличное решение по умолчанию: ReLU.\n",
    "* Благодаря механизму backpropagation и использованию нелинейных функций активации, нейронные сети способны самостоятельно выучивать информативные промежуточные представления данных, что является одним из наиболее важных отличий от \"классических\" моделей."
   ]
  }
 ],
 "metadata": {
  "kernelspec": {
   "display_name": "Py3 Research",
   "language": "python",
   "name": "py3_research_kernel"
  },
  "language_info": {
   "codemirror_mode": {
    "name": "ipython",
    "version": 3
   },
   "file_extension": ".py",
   "mimetype": "text/x-python",
   "name": "python",
   "nbconvert_exporter": "python",
   "pygments_lexer": "ipython3",
   "version": "3.9.7"
  }
 },
 "nbformat": 4,
 "nbformat_minor": 2
}
